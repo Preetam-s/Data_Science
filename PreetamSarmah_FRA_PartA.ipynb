{
 "cells": [
  {
   "cell_type": "code",
   "execution_count": 1,
   "id": "7a09ea5a",
   "metadata": {},
   "outputs": [],
   "source": [
    "import numpy as np\n",
    "import pandas as pd\n",
    "import seaborn as sns\n",
    "import matplotlib.pyplot as plt\n",
    "%matplotlib inline\n",
    "import warnings\n",
    "warnings.filterwarnings(\"ignore\")"
   ]
  },
  {
   "cell_type": "code",
   "execution_count": 2,
   "id": "1804d845",
   "metadata": {},
   "outputs": [],
   "source": [
    "df =  pd.read_excel(\"Credit_Risk.xlsx\")"
   ]
  },
  {
   "cell_type": "code",
   "execution_count": 3,
   "id": "70c4c766",
   "metadata": {},
   "outputs": [
    {
     "data": {
      "text/html": [
       "<div>\n",
       "<style scoped>\n",
       "    .dataframe tbody tr th:only-of-type {\n",
       "        vertical-align: middle;\n",
       "    }\n",
       "\n",
       "    .dataframe tbody tr th {\n",
       "        vertical-align: top;\n",
       "    }\n",
       "\n",
       "    .dataframe thead th {\n",
       "        text-align: right;\n",
       "    }\n",
       "</style>\n",
       "<table border=\"1\" class=\"dataframe\">\n",
       "  <thead>\n",
       "    <tr style=\"text-align: right;\">\n",
       "      <th></th>\n",
       "      <th>Co_Code</th>\n",
       "      <th>Co_Name</th>\n",
       "      <th>_Operating_Expense_Rate</th>\n",
       "      <th>_Research_and_development_expense_rate</th>\n",
       "      <th>_Cash_flow_rate</th>\n",
       "      <th>_Interest_bearing_debt_interest_rate</th>\n",
       "      <th>_Tax_rate_A</th>\n",
       "      <th>_Cash_Flow_Per_Share</th>\n",
       "      <th>_Per_Share_Net_profit_before_tax_Yuan_</th>\n",
       "      <th>_Realized_Sales_Gross_Profit_Growth_Rate</th>\n",
       "      <th>...</th>\n",
       "      <th>_Cash_Flow_to_Equity</th>\n",
       "      <th>_Current_Liability_to_Current_Assets</th>\n",
       "      <th>_Liability_Assets_Flag</th>\n",
       "      <th>_Total_assets_to_GNP_price</th>\n",
       "      <th>_No_credit_Interval</th>\n",
       "      <th>_Degree_of_Financial_Leverage_DFL</th>\n",
       "      <th>_Interest_Coverage_Ratio_Interest_expense_to_EBIT</th>\n",
       "      <th>_Net_Income_Flag</th>\n",
       "      <th>_Equity_to_Liability</th>\n",
       "      <th>Default</th>\n",
       "    </tr>\n",
       "  </thead>\n",
       "  <tbody>\n",
       "    <tr>\n",
       "      <th>0</th>\n",
       "      <td>16974</td>\n",
       "      <td>Hind.Cables</td>\n",
       "      <td>8.820000e+09</td>\n",
       "      <td>0.000000e+00</td>\n",
       "      <td>0.462045</td>\n",
       "      <td>0.000352</td>\n",
       "      <td>0.001417</td>\n",
       "      <td>0.322558</td>\n",
       "      <td>0.194472</td>\n",
       "      <td>0.022074</td>\n",
       "      <td>...</td>\n",
       "      <td>0.310901</td>\n",
       "      <td>0.034913</td>\n",
       "      <td>0</td>\n",
       "      <td>0.028801</td>\n",
       "      <td>0.620927</td>\n",
       "      <td>0.026930</td>\n",
       "      <td>0.565744</td>\n",
       "      <td>1</td>\n",
       "      <td>0.015338</td>\n",
       "      <td>0</td>\n",
       "    </tr>\n",
       "    <tr>\n",
       "      <th>1</th>\n",
       "      <td>21214</td>\n",
       "      <td>Tata Tele. Mah.</td>\n",
       "      <td>9.380000e+09</td>\n",
       "      <td>4.230000e+09</td>\n",
       "      <td>0.460116</td>\n",
       "      <td>0.000716</td>\n",
       "      <td>0.000000</td>\n",
       "      <td>0.315520</td>\n",
       "      <td>0.161633</td>\n",
       "      <td>0.021902</td>\n",
       "      <td>...</td>\n",
       "      <td>0.314572</td>\n",
       "      <td>0.041653</td>\n",
       "      <td>0</td>\n",
       "      <td>0.006191</td>\n",
       "      <td>0.622513</td>\n",
       "      <td>0.026297</td>\n",
       "      <td>0.560741</td>\n",
       "      <td>1</td>\n",
       "      <td>0.029445</td>\n",
       "      <td>1</td>\n",
       "    </tr>\n",
       "    <tr>\n",
       "      <th>2</th>\n",
       "      <td>14852</td>\n",
       "      <td>ABG Shipyard</td>\n",
       "      <td>3.800000e+09</td>\n",
       "      <td>8.150000e+08</td>\n",
       "      <td>0.449893</td>\n",
       "      <td>0.000496</td>\n",
       "      <td>0.000000</td>\n",
       "      <td>0.299851</td>\n",
       "      <td>0.172554</td>\n",
       "      <td>0.022186</td>\n",
       "      <td>...</td>\n",
       "      <td>0.314777</td>\n",
       "      <td>0.033560</td>\n",
       "      <td>0</td>\n",
       "      <td>0.001095</td>\n",
       "      <td>0.623749</td>\n",
       "      <td>0.027276</td>\n",
       "      <td>0.566744</td>\n",
       "      <td>1</td>\n",
       "      <td>0.041718</td>\n",
       "      <td>0</td>\n",
       "    </tr>\n",
       "    <tr>\n",
       "      <th>3</th>\n",
       "      <td>2439</td>\n",
       "      <td>GTL</td>\n",
       "      <td>6.440000e+09</td>\n",
       "      <td>0.000000e+00</td>\n",
       "      <td>0.462731</td>\n",
       "      <td>0.000592</td>\n",
       "      <td>0.009313</td>\n",
       "      <td>0.319834</td>\n",
       "      <td>0.174738</td>\n",
       "      <td>0.027638</td>\n",
       "      <td>...</td>\n",
       "      <td>0.316974</td>\n",
       "      <td>0.016527</td>\n",
       "      <td>0</td>\n",
       "      <td>0.003749</td>\n",
       "      <td>0.622963</td>\n",
       "      <td>0.026988</td>\n",
       "      <td>0.565950</td>\n",
       "      <td>1</td>\n",
       "      <td>0.026956</td>\n",
       "      <td>0</td>\n",
       "    </tr>\n",
       "    <tr>\n",
       "      <th>4</th>\n",
       "      <td>23505</td>\n",
       "      <td>Bharati Defence</td>\n",
       "      <td>3.680000e+09</td>\n",
       "      <td>0.000000e+00</td>\n",
       "      <td>0.463117</td>\n",
       "      <td>0.000782</td>\n",
       "      <td>0.400243</td>\n",
       "      <td>0.325104</td>\n",
       "      <td>0.176546</td>\n",
       "      <td>0.022072</td>\n",
       "      <td>...</td>\n",
       "      <td>0.317729</td>\n",
       "      <td>0.034497</td>\n",
       "      <td>0</td>\n",
       "      <td>0.006595</td>\n",
       "      <td>0.624419</td>\n",
       "      <td>0.027498</td>\n",
       "      <td>0.567177</td>\n",
       "      <td>1</td>\n",
       "      <td>0.019900</td>\n",
       "      <td>0</td>\n",
       "    </tr>\n",
       "  </tbody>\n",
       "</table>\n",
       "<p>5 rows × 58 columns</p>\n",
       "</div>"
      ],
      "text/plain": [
       "   Co_Code          Co_Name  _Operating_Expense_Rate  \\\n",
       "0    16974      Hind.Cables             8.820000e+09   \n",
       "1    21214  Tata Tele. Mah.             9.380000e+09   \n",
       "2    14852     ABG Shipyard             3.800000e+09   \n",
       "3     2439              GTL             6.440000e+09   \n",
       "4    23505  Bharati Defence             3.680000e+09   \n",
       "\n",
       "   _Research_and_development_expense_rate  _Cash_flow_rate  \\\n",
       "0                            0.000000e+00         0.462045   \n",
       "1                            4.230000e+09         0.460116   \n",
       "2                            8.150000e+08         0.449893   \n",
       "3                            0.000000e+00         0.462731   \n",
       "4                            0.000000e+00         0.463117   \n",
       "\n",
       "   _Interest_bearing_debt_interest_rate  _Tax_rate_A  _Cash_Flow_Per_Share  \\\n",
       "0                              0.000352     0.001417              0.322558   \n",
       "1                              0.000716     0.000000              0.315520   \n",
       "2                              0.000496     0.000000              0.299851   \n",
       "3                              0.000592     0.009313              0.319834   \n",
       "4                              0.000782     0.400243              0.325104   \n",
       "\n",
       "   _Per_Share_Net_profit_before_tax_Yuan_  \\\n",
       "0                                0.194472   \n",
       "1                                0.161633   \n",
       "2                                0.172554   \n",
       "3                                0.174738   \n",
       "4                                0.176546   \n",
       "\n",
       "   _Realized_Sales_Gross_Profit_Growth_Rate  ...  _Cash_Flow_to_Equity  \\\n",
       "0                                  0.022074  ...              0.310901   \n",
       "1                                  0.021902  ...              0.314572   \n",
       "2                                  0.022186  ...              0.314777   \n",
       "3                                  0.027638  ...              0.316974   \n",
       "4                                  0.022072  ...              0.317729   \n",
       "\n",
       "   _Current_Liability_to_Current_Assets  _Liability_Assets_Flag  \\\n",
       "0                              0.034913                       0   \n",
       "1                              0.041653                       0   \n",
       "2                              0.033560                       0   \n",
       "3                              0.016527                       0   \n",
       "4                              0.034497                       0   \n",
       "\n",
       "   _Total_assets_to_GNP_price  _No_credit_Interval  \\\n",
       "0                    0.028801             0.620927   \n",
       "1                    0.006191             0.622513   \n",
       "2                    0.001095             0.623749   \n",
       "3                    0.003749             0.622963   \n",
       "4                    0.006595             0.624419   \n",
       "\n",
       "   _Degree_of_Financial_Leverage_DFL  \\\n",
       "0                           0.026930   \n",
       "1                           0.026297   \n",
       "2                           0.027276   \n",
       "3                           0.026988   \n",
       "4                           0.027498   \n",
       "\n",
       "   _Interest_Coverage_Ratio_Interest_expense_to_EBIT  _Net_Income_Flag  \\\n",
       "0                                           0.565744                 1   \n",
       "1                                           0.560741                 1   \n",
       "2                                           0.566744                 1   \n",
       "3                                           0.565950                 1   \n",
       "4                                           0.567177                 1   \n",
       "\n",
       "   _Equity_to_Liability  Default  \n",
       "0              0.015338        0  \n",
       "1              0.029445        1  \n",
       "2              0.041718        0  \n",
       "3              0.026956        0  \n",
       "4              0.019900        0  \n",
       "\n",
       "[5 rows x 58 columns]"
      ]
     },
     "execution_count": 3,
     "metadata": {},
     "output_type": "execute_result"
    }
   ],
   "source": [
    "df.head()"
   ]
  },
  {
   "cell_type": "code",
   "execution_count": 4,
   "id": "00577dfd",
   "metadata": {},
   "outputs": [
    {
     "name": "stdout",
     "output_type": "stream",
     "text": [
      "<class 'pandas.core.frame.DataFrame'>\n",
      "RangeIndex: 2058 entries, 0 to 2057\n",
      "Data columns (total 58 columns):\n",
      " #   Column                                             Non-Null Count  Dtype  \n",
      "---  ------                                             --------------  -----  \n",
      " 0   Co_Code                                            2058 non-null   int64  \n",
      " 1   Co_Name                                            2058 non-null   object \n",
      " 2   _Operating_Expense_Rate                            2058 non-null   float64\n",
      " 3   _Research_and_development_expense_rate             2058 non-null   float64\n",
      " 4   _Cash_flow_rate                                    2058 non-null   float64\n",
      " 5   _Interest_bearing_debt_interest_rate               2058 non-null   float64\n",
      " 6   _Tax_rate_A                                        2058 non-null   float64\n",
      " 7   _Cash_Flow_Per_Share                               1891 non-null   float64\n",
      " 8   _Per_Share_Net_profit_before_tax_Yuan_             2058 non-null   float64\n",
      " 9   _Realized_Sales_Gross_Profit_Growth_Rate           2058 non-null   float64\n",
      " 10  _Operating_Profit_Growth_Rate                      2058 non-null   float64\n",
      " 11  _Continuous_Net_Profit_Growth_Rate                 2058 non-null   float64\n",
      " 12  _Total_Asset_Growth_Rate                           2058 non-null   float64\n",
      " 13  _Net_Value_Growth_Rate                             2058 non-null   float64\n",
      " 14  _Total_Asset_Return_Growth_Rate_Ratio              2058 non-null   float64\n",
      " 15  _Cash_Reinvestment_perc                            2058 non-null   float64\n",
      " 16  _Current_Ratio                                     2058 non-null   float64\n",
      " 17  _Quick_Ratio                                       2058 non-null   float64\n",
      " 18  _Interest_Expense_Ratio                            2058 non-null   float64\n",
      " 19  _Total_debt_to_Total_net_worth                     2037 non-null   float64\n",
      " 20  _Long_term_fund_suitability_ratio_A                2058 non-null   float64\n",
      " 21  _Net_profit_before_tax_to_Paid_in_capital          2058 non-null   float64\n",
      " 22  _Total_Asset_Turnover                              2058 non-null   float64\n",
      " 23  _Accounts_Receivable_Turnover                      2058 non-null   float64\n",
      " 24  _Average_Collection_Days                           2058 non-null   float64\n",
      " 25  _Inventory_Turnover_Rate_times                     2058 non-null   float64\n",
      " 26  _Fixed_Assets_Turnover_Frequency                   2058 non-null   float64\n",
      " 27  _Net_Worth_Turnover_Rate_times                     2058 non-null   float64\n",
      " 28  _Operating_profit_per_person                       2058 non-null   float64\n",
      " 29  _Allocation_rate_per_person                        2058 non-null   float64\n",
      " 30  _Quick_Assets_to_Total_Assets                      2058 non-null   float64\n",
      " 31  _Cash_to_Total_Assets                              1962 non-null   float64\n",
      " 32  _Quick_Assets_to_Current_Liability                 2058 non-null   float64\n",
      " 33  _Cash_to_Current_Liability                         2058 non-null   float64\n",
      " 34  _Operating_Funds_to_Liability                      2058 non-null   float64\n",
      " 35  _Inventory_to_Working_Capital                      2058 non-null   float64\n",
      " 36  _Inventory_to_Current_Liability                    2058 non-null   float64\n",
      " 37  _Long_term_Liability_to_Current_Assets             2058 non-null   float64\n",
      " 38  _Retained_Earnings_to_Total_Assets                 2058 non-null   float64\n",
      " 39  _Total_income_to_Total_expense                     2058 non-null   float64\n",
      " 40  _Total_expense_to_Assets                           2058 non-null   float64\n",
      " 41  _Current_Asset_Turnover_Rate                       2058 non-null   float64\n",
      " 42  _Quick_Asset_Turnover_Rate                         2058 non-null   float64\n",
      " 43  _Cash_Turnover_Rate                                2058 non-null   float64\n",
      " 44  _Fixed_Assets_to_Assets                            2058 non-null   float64\n",
      " 45  _Cash_Flow_to_Total_Assets                         2058 non-null   float64\n",
      " 46  _Cash_Flow_to_Liability                            2058 non-null   float64\n",
      " 47  _CFO_to_Assets                                     2058 non-null   float64\n",
      " 48  _Cash_Flow_to_Equity                               2058 non-null   float64\n",
      " 49  _Current_Liability_to_Current_Assets               2044 non-null   float64\n",
      " 50  _Liability_Assets_Flag                             2058 non-null   int64  \n",
      " 51  _Total_assets_to_GNP_price                         2058 non-null   float64\n",
      " 52  _No_credit_Interval                                2058 non-null   float64\n",
      " 53  _Degree_of_Financial_Leverage_DFL                  2058 non-null   float64\n",
      " 54  _Interest_Coverage_Ratio_Interest_expense_to_EBIT  2058 non-null   float64\n",
      " 55  _Net_Income_Flag                                   2058 non-null   int64  \n",
      " 56  _Equity_to_Liability                               2058 non-null   float64\n",
      " 57  Default                                            2058 non-null   int64  \n",
      "dtypes: float64(53), int64(4), object(1)\n",
      "memory usage: 932.7+ KB\n"
     ]
    }
   ],
   "source": [
    "df.info()"
   ]
  },
  {
   "cell_type": "code",
   "execution_count": 5,
   "id": "ec78ec01",
   "metadata": {},
   "outputs": [
    {
     "name": "stdout",
     "output_type": "stream",
     "text": [
      "The number of rows (observations) is 2058 \n",
      "The number of columns (variables) is 58\n"
     ]
    }
   ],
   "source": [
    "print('The number of rows (observations) is',df.shape[0],'\\n''The number of columns (variables) is',df.shape[1])\n"
   ]
  },
  {
   "cell_type": "code",
   "execution_count": 6,
   "id": "53f8b5c9",
   "metadata": {},
   "outputs": [
    {
     "data": {
      "text/plain": [
       "Co_Code                                                0\n",
       "Co_Name                                                0\n",
       "_Operating_Expense_Rate                                0\n",
       "_Research_and_development_expense_rate                 0\n",
       "_Cash_flow_rate                                        0\n",
       "_Interest_bearing_debt_interest_rate                   0\n",
       "_Tax_rate_A                                            0\n",
       "_Cash_Flow_Per_Share                                 167\n",
       "_Per_Share_Net_profit_before_tax_Yuan_                 0\n",
       "_Realized_Sales_Gross_Profit_Growth_Rate               0\n",
       "_Operating_Profit_Growth_Rate                          0\n",
       "_Continuous_Net_Profit_Growth_Rate                     0\n",
       "_Total_Asset_Growth_Rate                               0\n",
       "_Net_Value_Growth_Rate                                 0\n",
       "_Total_Asset_Return_Growth_Rate_Ratio                  0\n",
       "_Cash_Reinvestment_perc                                0\n",
       "_Current_Ratio                                         0\n",
       "_Quick_Ratio                                           0\n",
       "_Interest_Expense_Ratio                                0\n",
       "_Total_debt_to_Total_net_worth                        21\n",
       "_Long_term_fund_suitability_ratio_A                    0\n",
       "_Net_profit_before_tax_to_Paid_in_capital              0\n",
       "_Total_Asset_Turnover                                  0\n",
       "_Accounts_Receivable_Turnover                          0\n",
       "_Average_Collection_Days                               0\n",
       "_Inventory_Turnover_Rate_times                         0\n",
       "_Fixed_Assets_Turnover_Frequency                       0\n",
       "_Net_Worth_Turnover_Rate_times                         0\n",
       "_Operating_profit_per_person                           0\n",
       "_Allocation_rate_per_person                            0\n",
       "_Quick_Assets_to_Total_Assets                          0\n",
       "_Cash_to_Total_Assets                                 96\n",
       "_Quick_Assets_to_Current_Liability                     0\n",
       "_Cash_to_Current_Liability                             0\n",
       "_Operating_Funds_to_Liability                          0\n",
       "_Inventory_to_Working_Capital                          0\n",
       "_Inventory_to_Current_Liability                        0\n",
       "_Long_term_Liability_to_Current_Assets                 0\n",
       "_Retained_Earnings_to_Total_Assets                     0\n",
       "_Total_income_to_Total_expense                         0\n",
       "_Total_expense_to_Assets                               0\n",
       "_Current_Asset_Turnover_Rate                           0\n",
       "_Quick_Asset_Turnover_Rate                             0\n",
       "_Cash_Turnover_Rate                                    0\n",
       "_Fixed_Assets_to_Assets                                0\n",
       "_Cash_Flow_to_Total_Assets                             0\n",
       "_Cash_Flow_to_Liability                                0\n",
       "_CFO_to_Assets                                         0\n",
       "_Cash_Flow_to_Equity                                   0\n",
       "_Current_Liability_to_Current_Assets                  14\n",
       "_Liability_Assets_Flag                                 0\n",
       "_Total_assets_to_GNP_price                             0\n",
       "_No_credit_Interval                                    0\n",
       "_Degree_of_Financial_Leverage_DFL                      0\n",
       "_Interest_Coverage_Ratio_Interest_expense_to_EBIT      0\n",
       "_Net_Income_Flag                                       0\n",
       "_Equity_to_Liability                                   0\n",
       "Default                                                0\n",
       "dtype: int64"
      ]
     },
     "execution_count": 6,
     "metadata": {},
     "output_type": "execute_result"
    }
   ],
   "source": [
    "df.isna().sum()"
   ]
  },
  {
   "cell_type": "code",
   "execution_count": 7,
   "id": "7f72c1ab",
   "metadata": {},
   "outputs": [
    {
     "data": {
      "text/plain": [
       "298"
      ]
     },
     "execution_count": 7,
     "metadata": {},
     "output_type": "execute_result"
    }
   ],
   "source": [
    "df.isna().sum().sum()"
   ]
  },
  {
   "cell_type": "code",
   "execution_count": 8,
   "id": "04aac15d",
   "metadata": {},
   "outputs": [
    {
     "data": {
      "text/plain": [
       "0"
      ]
     },
     "execution_count": 8,
     "metadata": {},
     "output_type": "execute_result"
    }
   ],
   "source": [
    "df.duplicated().sum()"
   ]
  },
  {
   "cell_type": "code",
   "execution_count": 9,
   "id": "6cee66a6",
   "metadata": {},
   "outputs": [
    {
     "data": {
      "text/html": [
       "<div>\n",
       "<style scoped>\n",
       "    .dataframe tbody tr th:only-of-type {\n",
       "        vertical-align: middle;\n",
       "    }\n",
       "\n",
       "    .dataframe tbody tr th {\n",
       "        vertical-align: top;\n",
       "    }\n",
       "\n",
       "    .dataframe thead th {\n",
       "        text-align: right;\n",
       "    }\n",
       "</style>\n",
       "<table border=\"1\" class=\"dataframe\">\n",
       "  <thead>\n",
       "    <tr style=\"text-align: right;\">\n",
       "      <th></th>\n",
       "      <th>Co_Code</th>\n",
       "      <th>_Operating_Expense_Rate</th>\n",
       "      <th>_Research_and_development_expense_rate</th>\n",
       "      <th>_Cash_flow_rate</th>\n",
       "      <th>_Interest_bearing_debt_interest_rate</th>\n",
       "      <th>_Tax_rate_A</th>\n",
       "      <th>_Cash_Flow_Per_Share</th>\n",
       "      <th>_Per_Share_Net_profit_before_tax_Yuan_</th>\n",
       "      <th>_Realized_Sales_Gross_Profit_Growth_Rate</th>\n",
       "      <th>_Operating_Profit_Growth_Rate</th>\n",
       "      <th>...</th>\n",
       "      <th>_Cash_Flow_to_Equity</th>\n",
       "      <th>_Current_Liability_to_Current_Assets</th>\n",
       "      <th>_Liability_Assets_Flag</th>\n",
       "      <th>_Total_assets_to_GNP_price</th>\n",
       "      <th>_No_credit_Interval</th>\n",
       "      <th>_Degree_of_Financial_Leverage_DFL</th>\n",
       "      <th>_Interest_Coverage_Ratio_Interest_expense_to_EBIT</th>\n",
       "      <th>_Net_Income_Flag</th>\n",
       "      <th>_Equity_to_Liability</th>\n",
       "      <th>Default</th>\n",
       "    </tr>\n",
       "  </thead>\n",
       "  <tbody>\n",
       "    <tr>\n",
       "      <th>count</th>\n",
       "      <td>2058.000000</td>\n",
       "      <td>2.058000e+03</td>\n",
       "      <td>2.058000e+03</td>\n",
       "      <td>2058.000000</td>\n",
       "      <td>2.058000e+03</td>\n",
       "      <td>2058.000000</td>\n",
       "      <td>1891.000000</td>\n",
       "      <td>2058.000000</td>\n",
       "      <td>2058.000000</td>\n",
       "      <td>2058.000000</td>\n",
       "      <td>...</td>\n",
       "      <td>2058.000000</td>\n",
       "      <td>2044.000000</td>\n",
       "      <td>2058.000000</td>\n",
       "      <td>2.058000e+03</td>\n",
       "      <td>2058.000000</td>\n",
       "      <td>2058.000000</td>\n",
       "      <td>2058.000000</td>\n",
       "      <td>2058.0</td>\n",
       "      <td>2058.000000</td>\n",
       "      <td>2058.000000</td>\n",
       "    </tr>\n",
       "    <tr>\n",
       "      <th>mean</th>\n",
       "      <td>17572.113217</td>\n",
       "      <td>2.052389e+09</td>\n",
       "      <td>1.208634e+09</td>\n",
       "      <td>0.465243</td>\n",
       "      <td>1.113022e+07</td>\n",
       "      <td>0.114777</td>\n",
       "      <td>0.319986</td>\n",
       "      <td>0.176967</td>\n",
       "      <td>0.022761</td>\n",
       "      <td>0.848108</td>\n",
       "      <td>...</td>\n",
       "      <td>0.314629</td>\n",
       "      <td>0.039352</td>\n",
       "      <td>0.003401</td>\n",
       "      <td>2.779397e+07</td>\n",
       "      <td>0.623686</td>\n",
       "      <td>0.027852</td>\n",
       "      <td>0.565435</td>\n",
       "      <td>1.0</td>\n",
       "      <td>0.042529</td>\n",
       "      <td>0.106900</td>\n",
       "    </tr>\n",
       "    <tr>\n",
       "      <th>std</th>\n",
       "      <td>21892.886518</td>\n",
       "      <td>3.252624e+09</td>\n",
       "      <td>2.144568e+09</td>\n",
       "      <td>0.022663</td>\n",
       "      <td>9.042595e+07</td>\n",
       "      <td>0.152446</td>\n",
       "      <td>0.015300</td>\n",
       "      <td>0.030157</td>\n",
       "      <td>0.021701</td>\n",
       "      <td>0.004589</td>\n",
       "      <td>...</td>\n",
       "      <td>0.012780</td>\n",
       "      <td>0.047978</td>\n",
       "      <td>0.058236</td>\n",
       "      <td>4.717714e+08</td>\n",
       "      <td>0.011631</td>\n",
       "      <td>0.013839</td>\n",
       "      <td>0.011535</td>\n",
       "      <td>0.0</td>\n",
       "      <td>0.059525</td>\n",
       "      <td>0.309061</td>\n",
       "    </tr>\n",
       "    <tr>\n",
       "      <th>min</th>\n",
       "      <td>4.000000</td>\n",
       "      <td>1.000260e-04</td>\n",
       "      <td>0.000000e+00</td>\n",
       "      <td>0.000000</td>\n",
       "      <td>0.000000e+00</td>\n",
       "      <td>0.000000</td>\n",
       "      <td>0.169449</td>\n",
       "      <td>0.000000</td>\n",
       "      <td>0.004282</td>\n",
       "      <td>0.736430</td>\n",
       "      <td>...</td>\n",
       "      <td>0.000000</td>\n",
       "      <td>0.000000</td>\n",
       "      <td>0.000000</td>\n",
       "      <td>0.000000e+00</td>\n",
       "      <td>0.408682</td>\n",
       "      <td>0.012845</td>\n",
       "      <td>0.172065</td>\n",
       "      <td>1.0</td>\n",
       "      <td>0.003946</td>\n",
       "      <td>0.000000</td>\n",
       "    </tr>\n",
       "    <tr>\n",
       "      <th>25%</th>\n",
       "      <td>3674.000000</td>\n",
       "      <td>1.578727e-04</td>\n",
       "      <td>0.000000e+00</td>\n",
       "      <td>0.460099</td>\n",
       "      <td>2.760280e-04</td>\n",
       "      <td>0.000000</td>\n",
       "      <td>0.314989</td>\n",
       "      <td>0.166604</td>\n",
       "      <td>0.022058</td>\n",
       "      <td>0.847974</td>\n",
       "      <td>...</td>\n",
       "      <td>0.312783</td>\n",
       "      <td>0.021775</td>\n",
       "      <td>0.000000</td>\n",
       "      <td>9.124052e-04</td>\n",
       "      <td>0.623327</td>\n",
       "      <td>0.026776</td>\n",
       "      <td>0.565158</td>\n",
       "      <td>1.0</td>\n",
       "      <td>0.020408</td>\n",
       "      <td>0.000000</td>\n",
       "    </tr>\n",
       "    <tr>\n",
       "      <th>50%</th>\n",
       "      <td>6240.000000</td>\n",
       "      <td>3.330330e-04</td>\n",
       "      <td>1.994130e-04</td>\n",
       "      <td>0.463445</td>\n",
       "      <td>4.540450e-04</td>\n",
       "      <td>0.037099</td>\n",
       "      <td>0.320648</td>\n",
       "      <td>0.175642</td>\n",
       "      <td>0.022100</td>\n",
       "      <td>0.848039</td>\n",
       "      <td>...</td>\n",
       "      <td>0.314642</td>\n",
       "      <td>0.032652</td>\n",
       "      <td>0.000000</td>\n",
       "      <td>2.479550e-03</td>\n",
       "      <td>0.623750</td>\n",
       "      <td>0.026815</td>\n",
       "      <td>0.565315</td>\n",
       "      <td>1.0</td>\n",
       "      <td>0.028460</td>\n",
       "      <td>0.000000</td>\n",
       "    </tr>\n",
       "    <tr>\n",
       "      <th>75%</th>\n",
       "      <td>24280.750000</td>\n",
       "      <td>4.110000e+09</td>\n",
       "      <td>1.550000e+09</td>\n",
       "      <td>0.468069</td>\n",
       "      <td>6.630660e-04</td>\n",
       "      <td>0.216191</td>\n",
       "      <td>0.325918</td>\n",
       "      <td>0.185885</td>\n",
       "      <td>0.022152</td>\n",
       "      <td>0.848115</td>\n",
       "      <td>...</td>\n",
       "      <td>0.316546</td>\n",
       "      <td>0.043947</td>\n",
       "      <td>0.000000</td>\n",
       "      <td>7.004449e-03</td>\n",
       "      <td>0.624045</td>\n",
       "      <td>0.027029</td>\n",
       "      <td>0.566232</td>\n",
       "      <td>1.0</td>\n",
       "      <td>0.043433</td>\n",
       "      <td>0.000000</td>\n",
       "    </tr>\n",
       "    <tr>\n",
       "      <th>max</th>\n",
       "      <td>72493.000000</td>\n",
       "      <td>9.980000e+09</td>\n",
       "      <td>9.980000e+09</td>\n",
       "      <td>1.000000</td>\n",
       "      <td>9.900000e+08</td>\n",
       "      <td>0.999696</td>\n",
       "      <td>0.462227</td>\n",
       "      <td>0.792348</td>\n",
       "      <td>1.000000</td>\n",
       "      <td>1.000000</td>\n",
       "      <td>...</td>\n",
       "      <td>0.569231</td>\n",
       "      <td>1.000000</td>\n",
       "      <td>1.000000</td>\n",
       "      <td>9.820000e+09</td>\n",
       "      <td>0.956387</td>\n",
       "      <td>0.464388</td>\n",
       "      <td>0.666761</td>\n",
       "      <td>1.0</td>\n",
       "      <td>1.000000</td>\n",
       "      <td>1.000000</td>\n",
       "    </tr>\n",
       "  </tbody>\n",
       "</table>\n",
       "<p>8 rows × 57 columns</p>\n",
       "</div>"
      ],
      "text/plain": [
       "            Co_Code  _Operating_Expense_Rate  \\\n",
       "count   2058.000000             2.058000e+03   \n",
       "mean   17572.113217             2.052389e+09   \n",
       "std    21892.886518             3.252624e+09   \n",
       "min        4.000000             1.000260e-04   \n",
       "25%     3674.000000             1.578727e-04   \n",
       "50%     6240.000000             3.330330e-04   \n",
       "75%    24280.750000             4.110000e+09   \n",
       "max    72493.000000             9.980000e+09   \n",
       "\n",
       "       _Research_and_development_expense_rate  _Cash_flow_rate  \\\n",
       "count                            2.058000e+03      2058.000000   \n",
       "mean                             1.208634e+09         0.465243   \n",
       "std                              2.144568e+09         0.022663   \n",
       "min                              0.000000e+00         0.000000   \n",
       "25%                              0.000000e+00         0.460099   \n",
       "50%                              1.994130e-04         0.463445   \n",
       "75%                              1.550000e+09         0.468069   \n",
       "max                              9.980000e+09         1.000000   \n",
       "\n",
       "       _Interest_bearing_debt_interest_rate  _Tax_rate_A  \\\n",
       "count                          2.058000e+03  2058.000000   \n",
       "mean                           1.113022e+07     0.114777   \n",
       "std                            9.042595e+07     0.152446   \n",
       "min                            0.000000e+00     0.000000   \n",
       "25%                            2.760280e-04     0.000000   \n",
       "50%                            4.540450e-04     0.037099   \n",
       "75%                            6.630660e-04     0.216191   \n",
       "max                            9.900000e+08     0.999696   \n",
       "\n",
       "       _Cash_Flow_Per_Share  _Per_Share_Net_profit_before_tax_Yuan_  \\\n",
       "count           1891.000000                             2058.000000   \n",
       "mean               0.319986                                0.176967   \n",
       "std                0.015300                                0.030157   \n",
       "min                0.169449                                0.000000   \n",
       "25%                0.314989                                0.166604   \n",
       "50%                0.320648                                0.175642   \n",
       "75%                0.325918                                0.185885   \n",
       "max                0.462227                                0.792348   \n",
       "\n",
       "       _Realized_Sales_Gross_Profit_Growth_Rate  \\\n",
       "count                               2058.000000   \n",
       "mean                                   0.022761   \n",
       "std                                    0.021701   \n",
       "min                                    0.004282   \n",
       "25%                                    0.022058   \n",
       "50%                                    0.022100   \n",
       "75%                                    0.022152   \n",
       "max                                    1.000000   \n",
       "\n",
       "       _Operating_Profit_Growth_Rate  ...  _Cash_Flow_to_Equity  \\\n",
       "count                    2058.000000  ...           2058.000000   \n",
       "mean                        0.848108  ...              0.314629   \n",
       "std                         0.004589  ...              0.012780   \n",
       "min                         0.736430  ...              0.000000   \n",
       "25%                         0.847974  ...              0.312783   \n",
       "50%                         0.848039  ...              0.314642   \n",
       "75%                         0.848115  ...              0.316546   \n",
       "max                         1.000000  ...              0.569231   \n",
       "\n",
       "       _Current_Liability_to_Current_Assets  _Liability_Assets_Flag  \\\n",
       "count                           2044.000000             2058.000000   \n",
       "mean                               0.039352                0.003401   \n",
       "std                                0.047978                0.058236   \n",
       "min                                0.000000                0.000000   \n",
       "25%                                0.021775                0.000000   \n",
       "50%                                0.032652                0.000000   \n",
       "75%                                0.043947                0.000000   \n",
       "max                                1.000000                1.000000   \n",
       "\n",
       "       _Total_assets_to_GNP_price  _No_credit_Interval  \\\n",
       "count                2.058000e+03          2058.000000   \n",
       "mean                 2.779397e+07             0.623686   \n",
       "std                  4.717714e+08             0.011631   \n",
       "min                  0.000000e+00             0.408682   \n",
       "25%                  9.124052e-04             0.623327   \n",
       "50%                  2.479550e-03             0.623750   \n",
       "75%                  7.004449e-03             0.624045   \n",
       "max                  9.820000e+09             0.956387   \n",
       "\n",
       "       _Degree_of_Financial_Leverage_DFL  \\\n",
       "count                        2058.000000   \n",
       "mean                            0.027852   \n",
       "std                             0.013839   \n",
       "min                             0.012845   \n",
       "25%                             0.026776   \n",
       "50%                             0.026815   \n",
       "75%                             0.027029   \n",
       "max                             0.464388   \n",
       "\n",
       "       _Interest_Coverage_Ratio_Interest_expense_to_EBIT  _Net_Income_Flag  \\\n",
       "count                                        2058.000000            2058.0   \n",
       "mean                                            0.565435               1.0   \n",
       "std                                             0.011535               0.0   \n",
       "min                                             0.172065               1.0   \n",
       "25%                                             0.565158               1.0   \n",
       "50%                                             0.565315               1.0   \n",
       "75%                                             0.566232               1.0   \n",
       "max                                             0.666761               1.0   \n",
       "\n",
       "       _Equity_to_Liability      Default  \n",
       "count           2058.000000  2058.000000  \n",
       "mean               0.042529     0.106900  \n",
       "std                0.059525     0.309061  \n",
       "min                0.003946     0.000000  \n",
       "25%                0.020408     0.000000  \n",
       "50%                0.028460     0.000000  \n",
       "75%                0.043433     0.000000  \n",
       "max                1.000000     1.000000  \n",
       "\n",
       "[8 rows x 57 columns]"
      ]
     },
     "execution_count": 9,
     "metadata": {},
     "output_type": "execute_result"
    }
   ],
   "source": [
    "df.describe()"
   ]
  },
  {
   "cell_type": "code",
   "execution_count": 10,
   "id": "88a5583e",
   "metadata": {},
   "outputs": [
    {
     "data": {
      "text/plain": [
       "0    0.8931\n",
       "1    0.1069\n",
       "Name: Default, dtype: float64"
      ]
     },
     "execution_count": 10,
     "metadata": {},
     "output_type": "execute_result"
    }
   ],
   "source": [
    "df['Default'].value_counts(normalize = True)\n",
    "# =~ 11 % are default cases"
   ]
  },
  {
   "cell_type": "code",
   "execution_count": 11,
   "id": "19e359f2",
   "metadata": {},
   "outputs": [],
   "source": [
    "df_X = df.drop('Default', axis = 1)\n",
    "df_Y = df['Default']"
   ]
  },
  {
   "cell_type": "code",
   "execution_count": 12,
   "id": "5e8599d1",
   "metadata": {},
   "outputs": [
    {
     "data": {
      "text/html": [
       "<div>\n",
       "<style scoped>\n",
       "    .dataframe tbody tr th:only-of-type {\n",
       "        vertical-align: middle;\n",
       "    }\n",
       "\n",
       "    .dataframe tbody tr th {\n",
       "        vertical-align: top;\n",
       "    }\n",
       "\n",
       "    .dataframe thead th {\n",
       "        text-align: right;\n",
       "    }\n",
       "</style>\n",
       "<table border=\"1\" class=\"dataframe\">\n",
       "  <thead>\n",
       "    <tr style=\"text-align: right;\">\n",
       "      <th></th>\n",
       "      <th>Co_Code</th>\n",
       "      <th>Co_Name</th>\n",
       "      <th>_Operating_Expense_Rate</th>\n",
       "      <th>_Research_and_development_expense_rate</th>\n",
       "      <th>_Cash_flow_rate</th>\n",
       "      <th>_Interest_bearing_debt_interest_rate</th>\n",
       "      <th>_Tax_rate_A</th>\n",
       "      <th>_Cash_Flow_Per_Share</th>\n",
       "      <th>_Per_Share_Net_profit_before_tax_Yuan_</th>\n",
       "      <th>_Realized_Sales_Gross_Profit_Growth_Rate</th>\n",
       "      <th>...</th>\n",
       "      <th>_CFO_to_Assets</th>\n",
       "      <th>_Cash_Flow_to_Equity</th>\n",
       "      <th>_Current_Liability_to_Current_Assets</th>\n",
       "      <th>_Liability_Assets_Flag</th>\n",
       "      <th>_Total_assets_to_GNP_price</th>\n",
       "      <th>_No_credit_Interval</th>\n",
       "      <th>_Degree_of_Financial_Leverage_DFL</th>\n",
       "      <th>_Interest_Coverage_Ratio_Interest_expense_to_EBIT</th>\n",
       "      <th>_Net_Income_Flag</th>\n",
       "      <th>_Equity_to_Liability</th>\n",
       "    </tr>\n",
       "  </thead>\n",
       "  <tbody>\n",
       "    <tr>\n",
       "      <th>0</th>\n",
       "      <td>16974</td>\n",
       "      <td>Hind.Cables</td>\n",
       "      <td>8.820000e+09</td>\n",
       "      <td>0.000000e+00</td>\n",
       "      <td>0.462045</td>\n",
       "      <td>0.000352</td>\n",
       "      <td>0.001417</td>\n",
       "      <td>0.322558</td>\n",
       "      <td>0.194472</td>\n",
       "      <td>0.022074</td>\n",
       "      <td>...</td>\n",
       "      <td>0.576869</td>\n",
       "      <td>0.310901</td>\n",
       "      <td>0.034913</td>\n",
       "      <td>0</td>\n",
       "      <td>0.028801</td>\n",
       "      <td>0.620927</td>\n",
       "      <td>0.026930</td>\n",
       "      <td>0.565744</td>\n",
       "      <td>1</td>\n",
       "      <td>0.015338</td>\n",
       "    </tr>\n",
       "    <tr>\n",
       "      <th>1</th>\n",
       "      <td>21214</td>\n",
       "      <td>Tata Tele. Mah.</td>\n",
       "      <td>9.380000e+09</td>\n",
       "      <td>4.230000e+09</td>\n",
       "      <td>0.460116</td>\n",
       "      <td>0.000716</td>\n",
       "      <td>0.000000</td>\n",
       "      <td>0.315520</td>\n",
       "      <td>0.161633</td>\n",
       "      <td>0.021902</td>\n",
       "      <td>...</td>\n",
       "      <td>0.551523</td>\n",
       "      <td>0.314572</td>\n",
       "      <td>0.041653</td>\n",
       "      <td>0</td>\n",
       "      <td>0.006191</td>\n",
       "      <td>0.622513</td>\n",
       "      <td>0.026297</td>\n",
       "      <td>0.560741</td>\n",
       "      <td>1</td>\n",
       "      <td>0.029445</td>\n",
       "    </tr>\n",
       "    <tr>\n",
       "      <th>2</th>\n",
       "      <td>14852</td>\n",
       "      <td>ABG Shipyard</td>\n",
       "      <td>3.800000e+09</td>\n",
       "      <td>8.150000e+08</td>\n",
       "      <td>0.449893</td>\n",
       "      <td>0.000496</td>\n",
       "      <td>0.000000</td>\n",
       "      <td>0.299851</td>\n",
       "      <td>0.172554</td>\n",
       "      <td>0.022186</td>\n",
       "      <td>...</td>\n",
       "      <td>0.463045</td>\n",
       "      <td>0.314777</td>\n",
       "      <td>0.033560</td>\n",
       "      <td>0</td>\n",
       "      <td>0.001095</td>\n",
       "      <td>0.623749</td>\n",
       "      <td>0.027276</td>\n",
       "      <td>0.566744</td>\n",
       "      <td>1</td>\n",
       "      <td>0.041718</td>\n",
       "    </tr>\n",
       "    <tr>\n",
       "      <th>3</th>\n",
       "      <td>2439</td>\n",
       "      <td>GTL</td>\n",
       "      <td>6.440000e+09</td>\n",
       "      <td>0.000000e+00</td>\n",
       "      <td>0.462731</td>\n",
       "      <td>0.000592</td>\n",
       "      <td>0.009313</td>\n",
       "      <td>0.319834</td>\n",
       "      <td>0.174738</td>\n",
       "      <td>0.027638</td>\n",
       "      <td>...</td>\n",
       "      <td>0.577212</td>\n",
       "      <td>0.316974</td>\n",
       "      <td>0.016527</td>\n",
       "      <td>0</td>\n",
       "      <td>0.003749</td>\n",
       "      <td>0.622963</td>\n",
       "      <td>0.026988</td>\n",
       "      <td>0.565950</td>\n",
       "      <td>1</td>\n",
       "      <td>0.026956</td>\n",
       "    </tr>\n",
       "    <tr>\n",
       "      <th>4</th>\n",
       "      <td>23505</td>\n",
       "      <td>Bharati Defence</td>\n",
       "      <td>3.680000e+09</td>\n",
       "      <td>0.000000e+00</td>\n",
       "      <td>0.463117</td>\n",
       "      <td>0.000782</td>\n",
       "      <td>0.400243</td>\n",
       "      <td>0.325104</td>\n",
       "      <td>0.176546</td>\n",
       "      <td>0.022072</td>\n",
       "      <td>...</td>\n",
       "      <td>0.594038</td>\n",
       "      <td>0.317729</td>\n",
       "      <td>0.034497</td>\n",
       "      <td>0</td>\n",
       "      <td>0.006595</td>\n",
       "      <td>0.624419</td>\n",
       "      <td>0.027498</td>\n",
       "      <td>0.567177</td>\n",
       "      <td>1</td>\n",
       "      <td>0.019900</td>\n",
       "    </tr>\n",
       "  </tbody>\n",
       "</table>\n",
       "<p>5 rows × 57 columns</p>\n",
       "</div>"
      ],
      "text/plain": [
       "   Co_Code          Co_Name  _Operating_Expense_Rate  \\\n",
       "0    16974      Hind.Cables             8.820000e+09   \n",
       "1    21214  Tata Tele. Mah.             9.380000e+09   \n",
       "2    14852     ABG Shipyard             3.800000e+09   \n",
       "3     2439              GTL             6.440000e+09   \n",
       "4    23505  Bharati Defence             3.680000e+09   \n",
       "\n",
       "   _Research_and_development_expense_rate  _Cash_flow_rate  \\\n",
       "0                            0.000000e+00         0.462045   \n",
       "1                            4.230000e+09         0.460116   \n",
       "2                            8.150000e+08         0.449893   \n",
       "3                            0.000000e+00         0.462731   \n",
       "4                            0.000000e+00         0.463117   \n",
       "\n",
       "   _Interest_bearing_debt_interest_rate  _Tax_rate_A  _Cash_Flow_Per_Share  \\\n",
       "0                              0.000352     0.001417              0.322558   \n",
       "1                              0.000716     0.000000              0.315520   \n",
       "2                              0.000496     0.000000              0.299851   \n",
       "3                              0.000592     0.009313              0.319834   \n",
       "4                              0.000782     0.400243              0.325104   \n",
       "\n",
       "   _Per_Share_Net_profit_before_tax_Yuan_  \\\n",
       "0                                0.194472   \n",
       "1                                0.161633   \n",
       "2                                0.172554   \n",
       "3                                0.174738   \n",
       "4                                0.176546   \n",
       "\n",
       "   _Realized_Sales_Gross_Profit_Growth_Rate  ...  _CFO_to_Assets  \\\n",
       "0                                  0.022074  ...        0.576869   \n",
       "1                                  0.021902  ...        0.551523   \n",
       "2                                  0.022186  ...        0.463045   \n",
       "3                                  0.027638  ...        0.577212   \n",
       "4                                  0.022072  ...        0.594038   \n",
       "\n",
       "   _Cash_Flow_to_Equity  _Current_Liability_to_Current_Assets  \\\n",
       "0              0.310901                              0.034913   \n",
       "1              0.314572                              0.041653   \n",
       "2              0.314777                              0.033560   \n",
       "3              0.316974                              0.016527   \n",
       "4              0.317729                              0.034497   \n",
       "\n",
       "   _Liability_Assets_Flag  _Total_assets_to_GNP_price  _No_credit_Interval  \\\n",
       "0                       0                    0.028801             0.620927   \n",
       "1                       0                    0.006191             0.622513   \n",
       "2                       0                    0.001095             0.623749   \n",
       "3                       0                    0.003749             0.622963   \n",
       "4                       0                    0.006595             0.624419   \n",
       "\n",
       "   _Degree_of_Financial_Leverage_DFL  \\\n",
       "0                           0.026930   \n",
       "1                           0.026297   \n",
       "2                           0.027276   \n",
       "3                           0.026988   \n",
       "4                           0.027498   \n",
       "\n",
       "   _Interest_Coverage_Ratio_Interest_expense_to_EBIT  _Net_Income_Flag  \\\n",
       "0                                           0.565744                 1   \n",
       "1                                           0.560741                 1   \n",
       "2                                           0.566744                 1   \n",
       "3                                           0.565950                 1   \n",
       "4                                           0.567177                 1   \n",
       "\n",
       "   _Equity_to_Liability  \n",
       "0              0.015338  \n",
       "1              0.029445  \n",
       "2              0.041718  \n",
       "3              0.026956  \n",
       "4              0.019900  \n",
       "\n",
       "[5 rows x 57 columns]"
      ]
     },
     "execution_count": 12,
     "metadata": {},
     "output_type": "execute_result"
    }
   ],
   "source": [
    "df_X.head()"
   ]
  },
  {
   "cell_type": "code",
   "execution_count": 13,
   "id": "ea89f49e",
   "metadata": {},
   "outputs": [
    {
     "data": {
      "text/plain": [
       "0    0\n",
       "1    1\n",
       "2    0\n",
       "3    0\n",
       "4    0\n",
       "Name: Default, dtype: int64"
      ]
     },
     "execution_count": 13,
     "metadata": {},
     "output_type": "execute_result"
    }
   ],
   "source": [
    "df_Y.head()"
   ]
  },
  {
   "cell_type": "markdown",
   "id": "b99ce099",
   "metadata": {},
   "source": [
    "## PART A: Outlier Treatment"
   ]
  },
  {
   "cell_type": "code",
   "execution_count": 14,
   "id": "29e7c258",
   "metadata": {},
   "outputs": [],
   "source": [
    "Q1 = df_X.quantile(0.25)\n",
    "Q3 = df_X.quantile(0.75)\n",
    "IQR = Q3 - Q1\n",
    "UL = Q3 + 1.5*IQR\n",
    "LL = Q1 - 1.5*IQR"
   ]
  },
  {
   "cell_type": "code",
   "execution_count": 15,
   "id": "841ab91c",
   "metadata": {},
   "outputs": [
    {
     "data": {
      "text/plain": [
       "Co_Code                                              241\n",
       "Co_Name                                                0\n",
       "_Accounts_Receivable_Turnover                        281\n",
       "_Allocation_rate_per_person                          200\n",
       "_Average_Collection_Days                              77\n",
       "_CFO_to_Assets                                       110\n",
       "_Cash_Flow_Per_Share                                 146\n",
       "_Cash_Flow_to_Equity                                 306\n",
       "_Cash_Flow_to_Liability                              407\n",
       "_Cash_Flow_to_Total_Assets                           317\n",
       "_Cash_Reinvestment_perc                              220\n",
       "_Cash_Turnover_Rate                                    0\n",
       "_Cash_flow_rate                                      206\n",
       "_Cash_to_Current_Liability                           253\n",
       "_Cash_to_Total_Assets                                163\n",
       "_Continuous_Net_Profit_Growth_Rate                   340\n",
       "_Current_Asset_Turnover_Rate                         464\n",
       "_Current_Liability_to_Current_Assets                 121\n",
       "_Current_Ratio                                       193\n",
       "_Degree_of_Financial_Leverage_DFL                    438\n",
       "_Equity_to_Liability                                 190\n",
       "_Fixed_Assets_Turnover_Frequency                     501\n",
       "_Fixed_Assets_to_Assets                               10\n",
       "_Interest_Coverage_Ratio_Interest_expense_to_EBIT    376\n",
       "_Interest_Expense_Ratio                              328\n",
       "_Interest_bearing_debt_interest_rate                  94\n",
       "_Inventory_Turnover_Rate_times                        29\n",
       "_Inventory_to_Current_Liability                      129\n",
       "_Inventory_to_Working_Capital                        247\n",
       "_Liability_Assets_Flag                                 7\n",
       "_Long_term_Liability_to_Current_Assets               213\n",
       "_Long_term_fund_suitability_ratio_A                  234\n",
       "_Net_Income_Flag                                       0\n",
       "_Net_Value_Growth_Rate                               304\n",
       "_Net_Worth_Turnover_Rate_times                       165\n",
       "_Net_profit_before_tax_to_Paid_in_capital            173\n",
       "_No_credit_Interval                                  396\n",
       "_Operating_Expense_Rate                                0\n",
       "_Operating_Funds_to_Liability                        219\n",
       "_Operating_Profit_Growth_Rate                        317\n",
       "_Operating_profit_per_person                         357\n",
       "_Per_Share_Net_profit_before_tax_Yuan_               186\n",
       "_Quick_Asset_Turnover_Rate                             0\n",
       "_Quick_Assets_to_Current_Liability                   185\n",
       "_Quick_Assets_to_Total_Assets                          4\n",
       "_Quick_Ratio                                         190\n",
       "_Realized_Sales_Gross_Profit_Growth_Rate             283\n",
       "_Research_and_development_expense_rate               264\n",
       "_Retained_Earnings_to_Total_Assets                   208\n",
       "_Tax_rate_A                                           42\n",
       "_Total_Asset_Growth_Rate                               0\n",
       "_Total_Asset_Return_Growth_Rate_Ratio                226\n",
       "_Total_Asset_Turnover                                101\n",
       "_Total_assets_to_GNP_price                           235\n",
       "_Total_debt_to_Total_net_worth                       105\n",
       "_Total_expense_to_Assets                             168\n",
       "_Total_income_to_Total_expense                       136\n",
       "dtype: int64"
      ]
     },
     "execution_count": 15,
     "metadata": {},
     "output_type": "execute_result"
    }
   ],
   "source": [
    "((df_X > UL) | (df_X < LL)).sum()"
   ]
  },
  {
   "cell_type": "code",
   "execution_count": 16,
   "id": "bccb8ff0",
   "metadata": {},
   "outputs": [
    {
     "data": {
      "text/plain": [
       "11105"
      ]
     },
     "execution_count": 16,
     "metadata": {},
     "output_type": "execute_result"
    }
   ],
   "source": [
    "((df_X > UL) | (df_X < LL)).sum().sum()"
   ]
  },
  {
   "cell_type": "code",
   "execution_count": 17,
   "id": "5e759adb",
   "metadata": {},
   "outputs": [],
   "source": [
    "df_X[((df_X > UL) | (df_X < LL))]= np.nan"
   ]
  },
  {
   "cell_type": "code",
   "execution_count": 18,
   "id": "e34238a1",
   "metadata": {},
   "outputs": [
    {
     "data": {
      "text/plain": [
       "Co_Code                                              241\n",
       "Co_Name                                                0\n",
       "_Operating_Expense_Rate                                0\n",
       "_Research_and_development_expense_rate               264\n",
       "_Cash_flow_rate                                      206\n",
       "_Interest_bearing_debt_interest_rate                  94\n",
       "_Tax_rate_A                                           42\n",
       "_Cash_Flow_Per_Share                                 313\n",
       "_Per_Share_Net_profit_before_tax_Yuan_               186\n",
       "_Realized_Sales_Gross_Profit_Growth_Rate             283\n",
       "_Operating_Profit_Growth_Rate                        317\n",
       "_Continuous_Net_Profit_Growth_Rate                   340\n",
       "_Total_Asset_Growth_Rate                               0\n",
       "_Net_Value_Growth_Rate                               304\n",
       "_Total_Asset_Return_Growth_Rate_Ratio                226\n",
       "_Cash_Reinvestment_perc                              220\n",
       "_Current_Ratio                                       193\n",
       "_Quick_Ratio                                         190\n",
       "_Interest_Expense_Ratio                              328\n",
       "_Total_debt_to_Total_net_worth                       126\n",
       "_Long_term_fund_suitability_ratio_A                  234\n",
       "_Net_profit_before_tax_to_Paid_in_capital            173\n",
       "_Total_Asset_Turnover                                101\n",
       "_Accounts_Receivable_Turnover                        281\n",
       "_Average_Collection_Days                              77\n",
       "_Inventory_Turnover_Rate_times                        29\n",
       "_Fixed_Assets_Turnover_Frequency                     501\n",
       "_Net_Worth_Turnover_Rate_times                       165\n",
       "_Operating_profit_per_person                         357\n",
       "_Allocation_rate_per_person                          200\n",
       "_Quick_Assets_to_Total_Assets                          4\n",
       "_Cash_to_Total_Assets                                259\n",
       "_Quick_Assets_to_Current_Liability                   185\n",
       "_Cash_to_Current_Liability                           253\n",
       "_Operating_Funds_to_Liability                        219\n",
       "_Inventory_to_Working_Capital                        247\n",
       "_Inventory_to_Current_Liability                      129\n",
       "_Long_term_Liability_to_Current_Assets               213\n",
       "_Retained_Earnings_to_Total_Assets                   208\n",
       "_Total_income_to_Total_expense                       136\n",
       "_Total_expense_to_Assets                             168\n",
       "_Current_Asset_Turnover_Rate                         464\n",
       "_Quick_Asset_Turnover_Rate                             0\n",
       "_Cash_Turnover_Rate                                    0\n",
       "_Fixed_Assets_to_Assets                               10\n",
       "_Cash_Flow_to_Total_Assets                           317\n",
       "_Cash_Flow_to_Liability                              407\n",
       "_CFO_to_Assets                                       110\n",
       "_Cash_Flow_to_Equity                                 306\n",
       "_Current_Liability_to_Current_Assets                 135\n",
       "_Liability_Assets_Flag                                 7\n",
       "_Total_assets_to_GNP_price                           235\n",
       "_No_credit_Interval                                  396\n",
       "_Degree_of_Financial_Leverage_DFL                    438\n",
       "_Interest_Coverage_Ratio_Interest_expense_to_EBIT    376\n",
       "_Net_Income_Flag                                       0\n",
       "_Equity_to_Liability                                 190\n",
       "dtype: int64"
      ]
     },
     "execution_count": 18,
     "metadata": {},
     "output_type": "execute_result"
    }
   ],
   "source": [
    "df_X.isnull().sum()"
   ]
  },
  {
   "cell_type": "code",
   "execution_count": 19,
   "id": "bce15d23",
   "metadata": {},
   "outputs": [
    {
     "data": {
      "text/plain": [
       "11403"
      ]
     },
     "execution_count": 19,
     "metadata": {},
     "output_type": "execute_result"
    }
   ],
   "source": [
    "df_X.isnull().sum().sum()"
   ]
  },
  {
   "cell_type": "markdown",
   "id": "539d8f41",
   "metadata": {},
   "source": [
    "## PART A: Missing Value Treatment"
   ]
  },
  {
   "cell_type": "code",
   "execution_count": 20,
   "id": "9507f38a",
   "metadata": {},
   "outputs": [
    {
     "data": {
      "text/plain": [
       "119364"
      ]
     },
     "execution_count": 20,
     "metadata": {},
     "output_type": "execute_result"
    }
   ],
   "source": [
    "df.size"
   ]
  },
  {
   "cell_type": "code",
   "execution_count": 22,
   "id": "b96a7b35",
   "metadata": {},
   "outputs": [
    {
     "data": {
      "text/plain": [
       "0.1"
      ]
     },
     "execution_count": 22,
     "metadata": {},
     "output_type": "execute_result"
    }
   ],
   "source": [
    "np.round(11403/119364,2) # 10% of data is empty "
   ]
  },
  {
   "cell_type": "code",
   "execution_count": 23,
   "id": "c39d5f53",
   "metadata": {},
   "outputs": [],
   "source": [
    "df_sub1 = pd.concat([df_X, df_Y], axis =1 )"
   ]
  },
  {
   "cell_type": "code",
   "execution_count": 24,
   "id": "43c5dd2a",
   "metadata": {},
   "outputs": [
    {
     "data": {
      "text/plain": [
       "_Fixed_Assets_Turnover_Frequency     0.243440\n",
       "_Current_Asset_Turnover_Rate         0.225462\n",
       "_Degree_of_Financial_Leverage_DFL    0.212828\n",
       "_Cash_Flow_to_Liability              0.197765\n",
       "_No_credit_Interval                  0.192420\n",
       "dtype: float64"
      ]
     },
     "execution_count": 24,
     "metadata": {},
     "output_type": "execute_result"
    }
   ],
   "source": [
    "(df_sub1.isnull().sum().sort_values(ascending = False)/df_sub1.index.size).head()"
   ]
  },
  {
   "cell_type": "markdown",
   "id": "65138f3d",
   "metadata": {},
   "source": [
    "###### the missing values in each of the columns is under 30 % so we will not be dropping any of the predictor columns "
   ]
  },
  {
   "cell_type": "code",
   "execution_count": 25,
   "id": "193d01f4",
   "metadata": {},
   "outputs": [],
   "source": [
    "df_sub1 = df_sub1.drop(['Co_Code', 'Co_Name', \n",
    "                             '_Net_Income_Flag','_Liability_Assets_Flag'],\n",
    "                           axis = 1)"
   ]
  },
  {
   "cell_type": "code",
   "execution_count": 26,
   "id": "7cfecbbd",
   "metadata": {},
   "outputs": [
    {
     "data": {
      "text/plain": [
       "(2058, 54)"
      ]
     },
     "execution_count": 26,
     "metadata": {},
     "output_type": "execute_result"
    }
   ],
   "source": [
    "df_sub1.shape"
   ]
  },
  {
   "cell_type": "code",
   "execution_count": 27,
   "id": "1b1bde25",
   "metadata": {},
   "outputs": [],
   "source": [
    "predictors = df_sub1.drop('Default', axis = 1)\n",
    "response = df_sub1['Default']"
   ]
  },
  {
   "cell_type": "code",
   "execution_count": 28,
   "id": "2c479de5",
   "metadata": {},
   "outputs": [],
   "source": [
    "from sklearn.preprocessing import StandardScaler #Scale train and test separately\n",
    "scaler = StandardScaler()\n",
    "scaled_predictors = pd.DataFrame(scaler.fit_transform(predictors), columns = predictors.columns)"
   ]
  },
  {
   "cell_type": "code",
   "execution_count": 29,
   "id": "fdaa9be0",
   "metadata": {},
   "outputs": [],
   "source": [
    "df_sub3 = pd.concat([scaled_predictors, response], axis = 1)"
   ]
  },
  {
   "cell_type": "code",
   "execution_count": 30,
   "id": "8bea4c74",
   "metadata": {},
   "outputs": [
    {
     "data": {
      "text/html": [
       "<div>\n",
       "<style scoped>\n",
       "    .dataframe tbody tr th:only-of-type {\n",
       "        vertical-align: middle;\n",
       "    }\n",
       "\n",
       "    .dataframe tbody tr th {\n",
       "        vertical-align: top;\n",
       "    }\n",
       "\n",
       "    .dataframe thead th {\n",
       "        text-align: right;\n",
       "    }\n",
       "</style>\n",
       "<table border=\"1\" class=\"dataframe\">\n",
       "  <thead>\n",
       "    <tr style=\"text-align: right;\">\n",
       "      <th></th>\n",
       "      <th>_Operating_Expense_Rate</th>\n",
       "      <th>_Research_and_development_expense_rate</th>\n",
       "      <th>_Cash_flow_rate</th>\n",
       "      <th>_Interest_bearing_debt_interest_rate</th>\n",
       "      <th>_Tax_rate_A</th>\n",
       "      <th>_Cash_Flow_Per_Share</th>\n",
       "      <th>_Per_Share_Net_profit_before_tax_Yuan_</th>\n",
       "      <th>_Realized_Sales_Gross_Profit_Growth_Rate</th>\n",
       "      <th>_Operating_Profit_Growth_Rate</th>\n",
       "      <th>_Continuous_Net_Profit_Growth_Rate</th>\n",
       "      <th>...</th>\n",
       "      <th>_Cash_Flow_to_Liability</th>\n",
       "      <th>_CFO_to_Assets</th>\n",
       "      <th>_Cash_Flow_to_Equity</th>\n",
       "      <th>_Current_Liability_to_Current_Assets</th>\n",
       "      <th>_Total_assets_to_GNP_price</th>\n",
       "      <th>_No_credit_Interval</th>\n",
       "      <th>_Degree_of_Financial_Leverage_DFL</th>\n",
       "      <th>_Interest_Coverage_Ratio_Interest_expense_to_EBIT</th>\n",
       "      <th>_Equity_to_Liability</th>\n",
       "      <th>Default</th>\n",
       "    </tr>\n",
       "  </thead>\n",
       "  <tbody>\n",
       "    <tr>\n",
       "      <th>0</th>\n",
       "      <td>2.081168</td>\n",
       "      <td>-0.516860</td>\n",
       "      <td>-0.308453</td>\n",
       "      <td>-0.381617</td>\n",
       "      <td>-0.827491</td>\n",
       "      <td>0.214266</td>\n",
       "      <td>1.264019</td>\n",
       "      <td>-0.336136</td>\n",
       "      <td>-0.173342</td>\n",
       "      <td>-0.249595</td>\n",
       "      <td>...</td>\n",
       "      <td>-0.454730</td>\n",
       "      <td>-0.122180</td>\n",
       "      <td>-1.311543</td>\n",
       "      <td>0.191528</td>\n",
       "      <td>NaN</td>\n",
       "      <td>NaN</td>\n",
       "      <td>0.480066</td>\n",
       "      <td>0.261839</td>\n",
       "      <td>-1.062182</td>\n",
       "      <td>0</td>\n",
       "    </tr>\n",
       "    <tr>\n",
       "      <th>1</th>\n",
       "      <td>2.253378</td>\n",
       "      <td>NaN</td>\n",
       "      <td>-0.641492</td>\n",
       "      <td>1.067984</td>\n",
       "      <td>-0.839204</td>\n",
       "      <td>-0.650263</td>\n",
       "      <td>-1.002647</td>\n",
       "      <td>NaN</td>\n",
       "      <td>NaN</td>\n",
       "      <td>NaN</td>\n",
       "      <td>...</td>\n",
       "      <td>-0.054284</td>\n",
       "      <td>-0.671677</td>\n",
       "      <td>0.000709</td>\n",
       "      <td>0.638247</td>\n",
       "      <td>0.784135</td>\n",
       "      <td>-2.554392</td>\n",
       "      <td>NaN</td>\n",
       "      <td>NaN</td>\n",
       "      <td>-0.080368</td>\n",
       "      <td>1</td>\n",
       "    </tr>\n",
       "    <tr>\n",
       "      <th>2</th>\n",
       "      <td>0.537423</td>\n",
       "      <td>0.327609</td>\n",
       "      <td>-2.406308</td>\n",
       "      <td>0.191853</td>\n",
       "      <td>-0.839204</td>\n",
       "      <td>-2.574817</td>\n",
       "      <td>-0.248825</td>\n",
       "      <td>1.345182</td>\n",
       "      <td>1.610975</td>\n",
       "      <td>-0.797439</td>\n",
       "      <td>...</td>\n",
       "      <td>0.084190</td>\n",
       "      <td>-2.589857</td>\n",
       "      <td>0.073774</td>\n",
       "      <td>0.101821</td>\n",
       "      <td>-0.663251</td>\n",
       "      <td>-0.034903</td>\n",
       "      <td>2.463565</td>\n",
       "      <td>1.507954</td>\n",
       "      <td>0.773827</td>\n",
       "      <td>0</td>\n",
       "    </tr>\n",
       "    <tr>\n",
       "      <th>3</th>\n",
       "      <td>1.349273</td>\n",
       "      <td>-0.516860</td>\n",
       "      <td>-0.190007</td>\n",
       "      <td>0.574162</td>\n",
       "      <td>-0.762232</td>\n",
       "      <td>-0.120251</td>\n",
       "      <td>-0.098060</td>\n",
       "      <td>NaN</td>\n",
       "      <td>NaN</td>\n",
       "      <td>2.038620</td>\n",
       "      <td>...</td>\n",
       "      <td>0.799397</td>\n",
       "      <td>-0.114746</td>\n",
       "      <td>0.859157</td>\n",
       "      <td>-1.027225</td>\n",
       "      <td>0.090555</td>\n",
       "      <td>-1.638602</td>\n",
       "      <td>0.811180</td>\n",
       "      <td>0.517715</td>\n",
       "      <td>-0.253590</td>\n",
       "      <td>0</td>\n",
       "    </tr>\n",
       "    <tr>\n",
       "      <th>4</th>\n",
       "      <td>0.500521</td>\n",
       "      <td>-0.516860</td>\n",
       "      <td>-0.123400</td>\n",
       "      <td>1.330821</td>\n",
       "      <td>2.468920</td>\n",
       "      <td>0.527060</td>\n",
       "      <td>0.026710</td>\n",
       "      <td>-0.366632</td>\n",
       "      <td>-0.522386</td>\n",
       "      <td>-0.290186</td>\n",
       "      <td>...</td>\n",
       "      <td>0.593293</td>\n",
       "      <td>0.250024</td>\n",
       "      <td>1.128876</td>\n",
       "      <td>0.163944</td>\n",
       "      <td>0.898818</td>\n",
       "      <td>1.329212</td>\n",
       "      <td>NaN</td>\n",
       "      <td>2.048261</td>\n",
       "      <td>-0.744648</td>\n",
       "      <td>0</td>\n",
       "    </tr>\n",
       "    <tr>\n",
       "      <th>...</th>\n",
       "      <td>...</td>\n",
       "      <td>...</td>\n",
       "      <td>...</td>\n",
       "      <td>...</td>\n",
       "      <td>...</td>\n",
       "      <td>...</td>\n",
       "      <td>...</td>\n",
       "      <td>...</td>\n",
       "      <td>...</td>\n",
       "      <td>...</td>\n",
       "      <td>...</td>\n",
       "      <td>...</td>\n",
       "      <td>...</td>\n",
       "      <td>...</td>\n",
       "      <td>...</td>\n",
       "      <td>...</td>\n",
       "      <td>...</td>\n",
       "      <td>...</td>\n",
       "      <td>...</td>\n",
       "      <td>...</td>\n",
       "      <td>...</td>\n",
       "    </tr>\n",
       "    <tr>\n",
       "      <th>2053</th>\n",
       "      <td>-0.631148</td>\n",
       "      <td>NaN</td>\n",
       "      <td>2.284616</td>\n",
       "      <td>-1.783427</td>\n",
       "      <td>0.673463</td>\n",
       "      <td>0.153444</td>\n",
       "      <td>1.144447</td>\n",
       "      <td>0.456280</td>\n",
       "      <td>-0.188904</td>\n",
       "      <td>-0.232000</td>\n",
       "      <td>...</td>\n",
       "      <td>NaN</td>\n",
       "      <td>0.358707</td>\n",
       "      <td>2.078725</td>\n",
       "      <td>-1.829095</td>\n",
       "      <td>-0.854727</td>\n",
       "      <td>1.631546</td>\n",
       "      <td>-0.316624</td>\n",
       "      <td>-0.468487</td>\n",
       "      <td>NaN</td>\n",
       "      <td>0</td>\n",
       "    </tr>\n",
       "    <tr>\n",
       "      <th>2054</th>\n",
       "      <td>-0.631148</td>\n",
       "      <td>-0.516860</td>\n",
       "      <td>0.238020</td>\n",
       "      <td>0.837003</td>\n",
       "      <td>-0.839204</td>\n",
       "      <td>-0.128939</td>\n",
       "      <td>-0.467173</td>\n",
       "      <td>-0.374922</td>\n",
       "      <td>-0.413612</td>\n",
       "      <td>1.261558</td>\n",
       "      <td>...</td>\n",
       "      <td>-2.130659</td>\n",
       "      <td>0.030434</td>\n",
       "      <td>-0.802821</td>\n",
       "      <td>0.017246</td>\n",
       "      <td>-0.723743</td>\n",
       "      <td>0.491103</td>\n",
       "      <td>NaN</td>\n",
       "      <td>NaN</td>\n",
       "      <td>1.610534</td>\n",
       "      <td>0</td>\n",
       "    </tr>\n",
       "    <tr>\n",
       "      <th>2055</th>\n",
       "      <td>-0.631148</td>\n",
       "      <td>NaN</td>\n",
       "      <td>NaN</td>\n",
       "      <td>0.215745</td>\n",
       "      <td>-0.839204</td>\n",
       "      <td>0.861576</td>\n",
       "      <td>-1.460139</td>\n",
       "      <td>NaN</td>\n",
       "      <td>-2.239449</td>\n",
       "      <td>-2.350231</td>\n",
       "      <td>...</td>\n",
       "      <td>-1.430365</td>\n",
       "      <td>1.384751</td>\n",
       "      <td>-0.517491</td>\n",
       "      <td>0.594879</td>\n",
       "      <td>1.746284</td>\n",
       "      <td>-0.098458</td>\n",
       "      <td>-0.824875</td>\n",
       "      <td>-1.044012</td>\n",
       "      <td>1.697065</td>\n",
       "      <td>0</td>\n",
       "    </tr>\n",
       "    <tr>\n",
       "      <th>2056</th>\n",
       "      <td>0.522047</td>\n",
       "      <td>-0.516860</td>\n",
       "      <td>1.871069</td>\n",
       "      <td>0.518410</td>\n",
       "      <td>1.691670</td>\n",
       "      <td>0.149100</td>\n",
       "      <td>-0.160445</td>\n",
       "      <td>1.059526</td>\n",
       "      <td>0.777679</td>\n",
       "      <td>-0.339383</td>\n",
       "      <td>...</td>\n",
       "      <td>1.015564</td>\n",
       "      <td>0.683158</td>\n",
       "      <td>0.379456</td>\n",
       "      <td>-0.778775</td>\n",
       "      <td>0.433925</td>\n",
       "      <td>-0.659439</td>\n",
       "      <td>0.554788</td>\n",
       "      <td>0.321721</td>\n",
       "      <td>1.875890</td>\n",
       "      <td>0</td>\n",
       "    </tr>\n",
       "    <tr>\n",
       "      <th>2057</th>\n",
       "      <td>-0.631148</td>\n",
       "      <td>-0.516860</td>\n",
       "      <td>0.582064</td>\n",
       "      <td>1.506050</td>\n",
       "      <td>-0.839204</td>\n",
       "      <td>1.130927</td>\n",
       "      <td>0.281450</td>\n",
       "      <td>NaN</td>\n",
       "      <td>1.475756</td>\n",
       "      <td>1.532732</td>\n",
       "      <td>...</td>\n",
       "      <td>0.405540</td>\n",
       "      <td>1.746951</td>\n",
       "      <td>0.773102</td>\n",
       "      <td>-0.043514</td>\n",
       "      <td>-0.921273</td>\n",
       "      <td>-0.363956</td>\n",
       "      <td>0.140523</td>\n",
       "      <td>-0.027568</td>\n",
       "      <td>-0.719178</td>\n",
       "      <td>0</td>\n",
       "    </tr>\n",
       "  </tbody>\n",
       "</table>\n",
       "<p>2058 rows × 54 columns</p>\n",
       "</div>"
      ],
      "text/plain": [
       "      _Operating_Expense_Rate  _Research_and_development_expense_rate  \\\n",
       "0                    2.081168                               -0.516860   \n",
       "1                    2.253378                                     NaN   \n",
       "2                    0.537423                                0.327609   \n",
       "3                    1.349273                               -0.516860   \n",
       "4                    0.500521                               -0.516860   \n",
       "...                       ...                                     ...   \n",
       "2053                -0.631148                                     NaN   \n",
       "2054                -0.631148                               -0.516860   \n",
       "2055                -0.631148                                     NaN   \n",
       "2056                 0.522047                               -0.516860   \n",
       "2057                -0.631148                               -0.516860   \n",
       "\n",
       "      _Cash_flow_rate  _Interest_bearing_debt_interest_rate  _Tax_rate_A  \\\n",
       "0           -0.308453                             -0.381617    -0.827491   \n",
       "1           -0.641492                              1.067984    -0.839204   \n",
       "2           -2.406308                              0.191853    -0.839204   \n",
       "3           -0.190007                              0.574162    -0.762232   \n",
       "4           -0.123400                              1.330821     2.468920   \n",
       "...               ...                                   ...          ...   \n",
       "2053         2.284616                             -1.783427     0.673463   \n",
       "2054         0.238020                              0.837003    -0.839204   \n",
       "2055              NaN                              0.215745    -0.839204   \n",
       "2056         1.871069                              0.518410     1.691670   \n",
       "2057         0.582064                              1.506050    -0.839204   \n",
       "\n",
       "      _Cash_Flow_Per_Share  _Per_Share_Net_profit_before_tax_Yuan_  \\\n",
       "0                 0.214266                                1.264019   \n",
       "1                -0.650263                               -1.002647   \n",
       "2                -2.574817                               -0.248825   \n",
       "3                -0.120251                               -0.098060   \n",
       "4                 0.527060                                0.026710   \n",
       "...                    ...                                     ...   \n",
       "2053              0.153444                                1.144447   \n",
       "2054             -0.128939                               -0.467173   \n",
       "2055              0.861576                               -1.460139   \n",
       "2056              0.149100                               -0.160445   \n",
       "2057              1.130927                                0.281450   \n",
       "\n",
       "      _Realized_Sales_Gross_Profit_Growth_Rate  _Operating_Profit_Growth_Rate  \\\n",
       "0                                    -0.336136                      -0.173342   \n",
       "1                                          NaN                            NaN   \n",
       "2                                     1.345182                       1.610975   \n",
       "3                                          NaN                            NaN   \n",
       "4                                    -0.366632                      -0.522386   \n",
       "...                                        ...                            ...   \n",
       "2053                                  0.456280                      -0.188904   \n",
       "2054                                 -0.374922                      -0.413612   \n",
       "2055                                       NaN                      -2.239449   \n",
       "2056                                  1.059526                       0.777679   \n",
       "2057                                       NaN                       1.475756   \n",
       "\n",
       "      _Continuous_Net_Profit_Growth_Rate  ...  _Cash_Flow_to_Liability  \\\n",
       "0                              -0.249595  ...                -0.454730   \n",
       "1                                    NaN  ...                -0.054284   \n",
       "2                              -0.797439  ...                 0.084190   \n",
       "3                               2.038620  ...                 0.799397   \n",
       "4                              -0.290186  ...                 0.593293   \n",
       "...                                  ...  ...                      ...   \n",
       "2053                           -0.232000  ...                      NaN   \n",
       "2054                            1.261558  ...                -2.130659   \n",
       "2055                           -2.350231  ...                -1.430365   \n",
       "2056                           -0.339383  ...                 1.015564   \n",
       "2057                            1.532732  ...                 0.405540   \n",
       "\n",
       "      _CFO_to_Assets  _Cash_Flow_to_Equity  \\\n",
       "0          -0.122180             -1.311543   \n",
       "1          -0.671677              0.000709   \n",
       "2          -2.589857              0.073774   \n",
       "3          -0.114746              0.859157   \n",
       "4           0.250024              1.128876   \n",
       "...              ...                   ...   \n",
       "2053        0.358707              2.078725   \n",
       "2054        0.030434             -0.802821   \n",
       "2055        1.384751             -0.517491   \n",
       "2056        0.683158              0.379456   \n",
       "2057        1.746951              0.773102   \n",
       "\n",
       "      _Current_Liability_to_Current_Assets  _Total_assets_to_GNP_price  \\\n",
       "0                                 0.191528                         NaN   \n",
       "1                                 0.638247                    0.784135   \n",
       "2                                 0.101821                   -0.663251   \n",
       "3                                -1.027225                    0.090555   \n",
       "4                                 0.163944                    0.898818   \n",
       "...                                    ...                         ...   \n",
       "2053                             -1.829095                   -0.854727   \n",
       "2054                              0.017246                   -0.723743   \n",
       "2055                              0.594879                    1.746284   \n",
       "2056                             -0.778775                    0.433925   \n",
       "2057                             -0.043514                   -0.921273   \n",
       "\n",
       "      _No_credit_Interval  _Degree_of_Financial_Leverage_DFL  \\\n",
       "0                     NaN                           0.480066   \n",
       "1               -2.554392                                NaN   \n",
       "2               -0.034903                           2.463565   \n",
       "3               -1.638602                           0.811180   \n",
       "4                1.329212                                NaN   \n",
       "...                   ...                                ...   \n",
       "2053             1.631546                          -0.316624   \n",
       "2054             0.491103                                NaN   \n",
       "2055            -0.098458                          -0.824875   \n",
       "2056            -0.659439                           0.554788   \n",
       "2057            -0.363956                           0.140523   \n",
       "\n",
       "      _Interest_Coverage_Ratio_Interest_expense_to_EBIT  _Equity_to_Liability  \\\n",
       "0                                              0.261839             -1.062182   \n",
       "1                                                   NaN             -0.080368   \n",
       "2                                              1.507954              0.773827   \n",
       "3                                              0.517715             -0.253590   \n",
       "4                                              2.048261             -0.744648   \n",
       "...                                                 ...                   ...   \n",
       "2053                                          -0.468487                   NaN   \n",
       "2054                                                NaN              1.610534   \n",
       "2055                                          -1.044012              1.697065   \n",
       "2056                                           0.321721              1.875890   \n",
       "2057                                          -0.027568             -0.719178   \n",
       "\n",
       "      Default  \n",
       "0           0  \n",
       "1           1  \n",
       "2           0  \n",
       "3           0  \n",
       "4           0  \n",
       "...       ...  \n",
       "2053        0  \n",
       "2054        0  \n",
       "2055        0  \n",
       "2056        0  \n",
       "2057        0  \n",
       "\n",
       "[2058 rows x 54 columns]"
      ]
     },
     "execution_count": 30,
     "metadata": {},
     "output_type": "execute_result"
    }
   ],
   "source": [
    "df_sub3"
   ]
  },
  {
   "cell_type": "markdown",
   "id": "a2ee3aeb",
   "metadata": {},
   "source": [
    "## PART A: Univariate (4 marks) & Bivariate (6 marks) analysis with proper interpretation. (You may choose to include only those variables which were significant in the model building)"
   ]
  },
  {
   "cell_type": "markdown",
   "id": "72184e7f",
   "metadata": {},
   "source": [
    " #### at the end "
   ]
  },
  {
   "cell_type": "markdown",
   "id": "1c78ab37",
   "metadata": {},
   "source": [
    "## PART A: Train Test Split"
   ]
  },
  {
   "cell_type": "code",
   "execution_count": 35,
   "id": "b91fa1d5",
   "metadata": {},
   "outputs": [],
   "source": [
    "from sklearn.model_selection import train_test_split\n",
    "Train, Test = train_test_split(df_sub3, test_size = 0.33, stratify = df_sub3.Default, random_state=42)"
   ]
  },
  {
   "cell_type": "code",
   "execution_count": 36,
   "id": "4503db93",
   "metadata": {},
   "outputs": [
    {
     "data": {
      "text/plain": [
       "(1378, 54)"
      ]
     },
     "execution_count": 36,
     "metadata": {},
     "output_type": "execute_result"
    }
   ],
   "source": [
    "Train.shape"
   ]
  },
  {
   "cell_type": "code",
   "execution_count": 37,
   "id": "31c00345",
   "metadata": {},
   "outputs": [
    {
     "data": {
      "text/plain": [
       "(680, 54)"
      ]
     },
     "execution_count": 37,
     "metadata": {},
     "output_type": "execute_result"
    }
   ],
   "source": [
    "Test.shape"
   ]
  },
  {
   "cell_type": "code",
   "execution_count": 38,
   "id": "303d105e",
   "metadata": {},
   "outputs": [],
   "source": [
    "from sklearn.impute import KNNImputer"
   ]
  },
  {
   "cell_type": "code",
   "execution_count": 39,
   "id": "849feaa8",
   "metadata": {},
   "outputs": [],
   "source": [
    "imputer = KNNImputer(n_neighbors=5)"
   ]
  },
  {
   "cell_type": "code",
   "execution_count": 40,
   "id": "a3694a49",
   "metadata": {},
   "outputs": [],
   "source": [
    "df_imputed_train = pd.DataFrame(imputer.fit_transform(Train), columns = Train.columns)\n",
    "df_imputed_test = pd.DataFrame(imputer.transform(Test), columns = Test.columns)"
   ]
  },
  {
   "cell_type": "code",
   "execution_count": 41,
   "id": "16d525a9",
   "metadata": {},
   "outputs": [
    {
     "name": "stdout",
     "output_type": "stream",
     "text": [
      "0\n",
      "0\n"
     ]
    }
   ],
   "source": [
    "print(df_imputed_train.isnull().sum().sum())\n",
    "print(df_imputed_test.isnull().sum().sum())"
   ]
  },
  {
   "cell_type": "code",
   "execution_count": 42,
   "id": "6a6326d3",
   "metadata": {},
   "outputs": [],
   "source": [
    "X_train = df_imputed_train.drop('Default', axis = 1)\n",
    "y_train = df_imputed_train['Default']\n",
    "X_test = df_imputed_test.drop('Default', axis = 1)\n",
    "y_test = df_imputed_test['Default']"
   ]
  },
  {
   "cell_type": "code",
   "execution_count": 43,
   "id": "71252cf4",
   "metadata": {},
   "outputs": [],
   "source": [
    "from statsmodels.stats.outliers_influence import variance_inflation_factor\n",
    "\n",
    "def calc_vif(X):\n",
    "\n",
    "    # Calculating VIF\n",
    "    vif = pd.DataFrame()\n",
    "    vif[\"variables\"] = X.columns\n",
    "    vif[\"VIF\"] = [variance_inflation_factor(X.values, i) for i in range(X.shape[1])]\n",
    "\n",
    "    return(vif)"
   ]
  },
  {
   "cell_type": "code",
   "execution_count": 44,
   "id": "a6beea00",
   "metadata": {},
   "outputs": [
    {
     "data": {
      "text/html": [
       "<div>\n",
       "<style scoped>\n",
       "    .dataframe tbody tr th:only-of-type {\n",
       "        vertical-align: middle;\n",
       "    }\n",
       "\n",
       "    .dataframe tbody tr th {\n",
       "        vertical-align: top;\n",
       "    }\n",
       "\n",
       "    .dataframe thead th {\n",
       "        text-align: right;\n",
       "    }\n",
       "</style>\n",
       "<table border=\"1\" class=\"dataframe\">\n",
       "  <thead>\n",
       "    <tr style=\"text-align: right;\">\n",
       "      <th></th>\n",
       "      <th>variables</th>\n",
       "      <th>VIF</th>\n",
       "    </tr>\n",
       "  </thead>\n",
       "  <tbody>\n",
       "    <tr>\n",
       "      <th>19</th>\n",
       "      <td>_Net_profit_before_tax_to_Paid_in_capital</td>\n",
       "      <td>43.205072</td>\n",
       "    </tr>\n",
       "    <tr>\n",
       "      <th>6</th>\n",
       "      <td>_Per_Share_Net_profit_before_tax_Yuan_</td>\n",
       "      <td>42.686626</td>\n",
       "    </tr>\n",
       "    <tr>\n",
       "      <th>30</th>\n",
       "      <td>_Quick_Assets_to_Current_Liability</td>\n",
       "      <td>37.866481</td>\n",
       "    </tr>\n",
       "    <tr>\n",
       "      <th>15</th>\n",
       "      <td>_Quick_Ratio</td>\n",
       "      <td>24.846813</td>\n",
       "    </tr>\n",
       "    <tr>\n",
       "      <th>14</th>\n",
       "      <td>_Current_Ratio</td>\n",
       "      <td>11.890871</td>\n",
       "    </tr>\n",
       "  </tbody>\n",
       "</table>\n",
       "</div>"
      ],
      "text/plain": [
       "                                    variables        VIF\n",
       "19  _Net_profit_before_tax_to_Paid_in_capital  43.205072\n",
       "6      _Per_Share_Net_profit_before_tax_Yuan_  42.686626\n",
       "30         _Quick_Assets_to_Current_Liability  37.866481\n",
       "15                               _Quick_Ratio  24.846813\n",
       "14                             _Current_Ratio  11.890871"
      ]
     },
     "execution_count": 44,
     "metadata": {},
     "output_type": "execute_result"
    }
   ],
   "source": [
    "calc_vif(X_train).sort_values(by = 'VIF', ascending = False).head(5)"
   ]
  },
  {
   "cell_type": "code",
   "execution_count": 45,
   "id": "0c67befd",
   "metadata": {},
   "outputs": [],
   "source": [
    "X_train =  X_train.drop('_Net_profit_before_tax_to_Paid_in_capital', axis =1)"
   ]
  },
  {
   "cell_type": "code",
   "execution_count": 46,
   "id": "69338323",
   "metadata": {},
   "outputs": [
    {
     "data": {
      "text/html": [
       "<div>\n",
       "<style scoped>\n",
       "    .dataframe tbody tr th:only-of-type {\n",
       "        vertical-align: middle;\n",
       "    }\n",
       "\n",
       "    .dataframe tbody tr th {\n",
       "        vertical-align: top;\n",
       "    }\n",
       "\n",
       "    .dataframe thead th {\n",
       "        text-align: right;\n",
       "    }\n",
       "</style>\n",
       "<table border=\"1\" class=\"dataframe\">\n",
       "  <thead>\n",
       "    <tr style=\"text-align: right;\">\n",
       "      <th></th>\n",
       "      <th>variables</th>\n",
       "      <th>VIF</th>\n",
       "    </tr>\n",
       "  </thead>\n",
       "  <tbody>\n",
       "    <tr>\n",
       "      <th>29</th>\n",
       "      <td>_Quick_Assets_to_Current_Liability</td>\n",
       "      <td>37.860643</td>\n",
       "    </tr>\n",
       "    <tr>\n",
       "      <th>15</th>\n",
       "      <td>_Quick_Ratio</td>\n",
       "      <td>24.846324</td>\n",
       "    </tr>\n",
       "    <tr>\n",
       "      <th>14</th>\n",
       "      <td>_Current_Ratio</td>\n",
       "      <td>11.873317</td>\n",
       "    </tr>\n",
       "    <tr>\n",
       "      <th>44</th>\n",
       "      <td>_CFO_to_Assets</td>\n",
       "      <td>11.760834</td>\n",
       "    </tr>\n",
       "    <tr>\n",
       "      <th>31</th>\n",
       "      <td>_Operating_Funds_to_Liability</td>\n",
       "      <td>11.127907</td>\n",
       "    </tr>\n",
       "  </tbody>\n",
       "</table>\n",
       "</div>"
      ],
      "text/plain": [
       "                             variables        VIF\n",
       "29  _Quick_Assets_to_Current_Liability  37.860643\n",
       "15                        _Quick_Ratio  24.846324\n",
       "14                      _Current_Ratio  11.873317\n",
       "44                      _CFO_to_Assets  11.760834\n",
       "31       _Operating_Funds_to_Liability  11.127907"
      ]
     },
     "execution_count": 46,
     "metadata": {},
     "output_type": "execute_result"
    }
   ],
   "source": [
    "calc_vif(X_train).sort_values(by = 'VIF', ascending = False).head(5)"
   ]
  },
  {
   "cell_type": "code",
   "execution_count": 47,
   "id": "77dc8bdf",
   "metadata": {},
   "outputs": [
    {
     "data": {
      "text/html": [
       "<div>\n",
       "<style scoped>\n",
       "    .dataframe tbody tr th:only-of-type {\n",
       "        vertical-align: middle;\n",
       "    }\n",
       "\n",
       "    .dataframe tbody tr th {\n",
       "        vertical-align: top;\n",
       "    }\n",
       "\n",
       "    .dataframe thead th {\n",
       "        text-align: right;\n",
       "    }\n",
       "</style>\n",
       "<table border=\"1\" class=\"dataframe\">\n",
       "  <thead>\n",
       "    <tr style=\"text-align: right;\">\n",
       "      <th></th>\n",
       "      <th>variables</th>\n",
       "      <th>VIF</th>\n",
       "    </tr>\n",
       "  </thead>\n",
       "  <tbody>\n",
       "    <tr>\n",
       "      <th>43</th>\n",
       "      <td>_CFO_to_Assets</td>\n",
       "      <td>11.728852</td>\n",
       "    </tr>\n",
       "    <tr>\n",
       "      <th>30</th>\n",
       "      <td>_Operating_Funds_to_Liability</td>\n",
       "      <td>11.085894</td>\n",
       "    </tr>\n",
       "    <tr>\n",
       "      <th>14</th>\n",
       "      <td>_Current_Ratio</td>\n",
       "      <td>9.597619</td>\n",
       "    </tr>\n",
       "    <tr>\n",
       "      <th>2</th>\n",
       "      <td>_Cash_flow_rate</td>\n",
       "      <td>8.664989</td>\n",
       "    </tr>\n",
       "    <tr>\n",
       "      <th>15</th>\n",
       "      <td>_Quick_Ratio</td>\n",
       "      <td>8.358276</td>\n",
       "    </tr>\n",
       "  </tbody>\n",
       "</table>\n",
       "</div>"
      ],
      "text/plain": [
       "                        variables        VIF\n",
       "43                 _CFO_to_Assets  11.728852\n",
       "30  _Operating_Funds_to_Liability  11.085894\n",
       "14                 _Current_Ratio   9.597619\n",
       "2                 _Cash_flow_rate   8.664989\n",
       "15                   _Quick_Ratio   8.358276"
      ]
     },
     "execution_count": 47,
     "metadata": {},
     "output_type": "execute_result"
    }
   ],
   "source": [
    "X_train =  X_train.drop('_Quick_Assets_to_Current_Liability', axis =1)\n",
    "calc_vif(X_train).sort_values(by = 'VIF', ascending = False).head(5)"
   ]
  },
  {
   "cell_type": "code",
   "execution_count": 48,
   "id": "100a5d6d",
   "metadata": {},
   "outputs": [
    {
     "data": {
      "text/html": [
       "<div>\n",
       "<style scoped>\n",
       "    .dataframe tbody tr th:only-of-type {\n",
       "        vertical-align: middle;\n",
       "    }\n",
       "\n",
       "    .dataframe tbody tr th {\n",
       "        vertical-align: top;\n",
       "    }\n",
       "\n",
       "    .dataframe thead th {\n",
       "        text-align: right;\n",
       "    }\n",
       "</style>\n",
       "<table border=\"1\" class=\"dataframe\">\n",
       "  <thead>\n",
       "    <tr style=\"text-align: right;\">\n",
       "      <th></th>\n",
       "      <th>variables</th>\n",
       "      <th>VIF</th>\n",
       "    </tr>\n",
       "  </thead>\n",
       "  <tbody>\n",
       "    <tr>\n",
       "      <th>30</th>\n",
       "      <td>_Operating_Funds_to_Liability</td>\n",
       "      <td>9.800041</td>\n",
       "    </tr>\n",
       "    <tr>\n",
       "      <th>14</th>\n",
       "      <td>_Current_Ratio</td>\n",
       "      <td>9.596763</td>\n",
       "    </tr>\n",
       "    <tr>\n",
       "      <th>2</th>\n",
       "      <td>_Cash_flow_rate</td>\n",
       "      <td>8.535893</td>\n",
       "    </tr>\n",
       "    <tr>\n",
       "      <th>15</th>\n",
       "      <td>_Quick_Ratio</td>\n",
       "      <td>8.351239</td>\n",
       "    </tr>\n",
       "    <tr>\n",
       "      <th>19</th>\n",
       "      <td>_Total_Asset_Turnover</td>\n",
       "      <td>7.512981</td>\n",
       "    </tr>\n",
       "  </tbody>\n",
       "</table>\n",
       "</div>"
      ],
      "text/plain": [
       "                        variables       VIF\n",
       "30  _Operating_Funds_to_Liability  9.800041\n",
       "14                 _Current_Ratio  9.596763\n",
       "2                 _Cash_flow_rate  8.535893\n",
       "15                   _Quick_Ratio  8.351239\n",
       "19          _Total_Asset_Turnover  7.512981"
      ]
     },
     "execution_count": 48,
     "metadata": {},
     "output_type": "execute_result"
    }
   ],
   "source": [
    "X_train =  X_train.drop('_CFO_to_Assets', axis =1)\n",
    "calc_vif(X_train).sort_values(by = 'VIF', ascending = False).head(5)"
   ]
  },
  {
   "cell_type": "code",
   "execution_count": 49,
   "id": "214c43d3",
   "metadata": {},
   "outputs": [
    {
     "data": {
      "text/html": [
       "<div>\n",
       "<style scoped>\n",
       "    .dataframe tbody tr th:only-of-type {\n",
       "        vertical-align: middle;\n",
       "    }\n",
       "\n",
       "    .dataframe tbody tr th {\n",
       "        vertical-align: top;\n",
       "    }\n",
       "\n",
       "    .dataframe thead th {\n",
       "        text-align: right;\n",
       "    }\n",
       "</style>\n",
       "<table border=\"1\" class=\"dataframe\">\n",
       "  <thead>\n",
       "    <tr style=\"text-align: right;\">\n",
       "      <th></th>\n",
       "      <th>variables</th>\n",
       "      <th>VIF</th>\n",
       "    </tr>\n",
       "  </thead>\n",
       "  <tbody>\n",
       "    <tr>\n",
       "      <th>14</th>\n",
       "      <td>_Current_Ratio</td>\n",
       "      <td>9.589667</td>\n",
       "    </tr>\n",
       "    <tr>\n",
       "      <th>15</th>\n",
       "      <td>_Quick_Ratio</td>\n",
       "      <td>8.333824</td>\n",
       "    </tr>\n",
       "    <tr>\n",
       "      <th>19</th>\n",
       "      <td>_Total_Asset_Turnover</td>\n",
       "      <td>7.481860</td>\n",
       "    </tr>\n",
       "    <tr>\n",
       "      <th>40</th>\n",
       "      <td>_Cash_Flow_to_Total_Assets</td>\n",
       "      <td>7.159981</td>\n",
       "    </tr>\n",
       "    <tr>\n",
       "      <th>47</th>\n",
       "      <td>_Interest_Coverage_Ratio_Interest_expense_to_EBIT</td>\n",
       "      <td>6.749642</td>\n",
       "    </tr>\n",
       "  </tbody>\n",
       "</table>\n",
       "</div>"
      ],
      "text/plain": [
       "                                            variables       VIF\n",
       "14                                     _Current_Ratio  9.589667\n",
       "15                                       _Quick_Ratio  8.333824\n",
       "19                              _Total_Asset_Turnover  7.481860\n",
       "40                         _Cash_Flow_to_Total_Assets  7.159981\n",
       "47  _Interest_Coverage_Ratio_Interest_expense_to_EBIT  6.749642"
      ]
     },
     "execution_count": 49,
     "metadata": {},
     "output_type": "execute_result"
    }
   ],
   "source": [
    "X_train =  X_train.drop('_Operating_Funds_to_Liability', axis =1)\n",
    "calc_vif(X_train).sort_values(by = 'VIF', ascending = False).head()"
   ]
  },
  {
   "cell_type": "code",
   "execution_count": 50,
   "id": "2b9325e2",
   "metadata": {},
   "outputs": [
    {
     "data": {
      "text/html": [
       "<div>\n",
       "<style scoped>\n",
       "    .dataframe tbody tr th:only-of-type {\n",
       "        vertical-align: middle;\n",
       "    }\n",
       "\n",
       "    .dataframe tbody tr th {\n",
       "        vertical-align: top;\n",
       "    }\n",
       "\n",
       "    .dataframe thead th {\n",
       "        text-align: right;\n",
       "    }\n",
       "</style>\n",
       "<table border=\"1\" class=\"dataframe\">\n",
       "  <thead>\n",
       "    <tr style=\"text-align: right;\">\n",
       "      <th></th>\n",
       "      <th>variables</th>\n",
       "      <th>VIF</th>\n",
       "    </tr>\n",
       "  </thead>\n",
       "  <tbody>\n",
       "    <tr>\n",
       "      <th>18</th>\n",
       "      <td>_Total_Asset_Turnover</td>\n",
       "      <td>7.474816</td>\n",
       "    </tr>\n",
       "    <tr>\n",
       "      <th>39</th>\n",
       "      <td>_Cash_Flow_to_Total_Assets</td>\n",
       "      <td>7.153619</td>\n",
       "    </tr>\n",
       "    <tr>\n",
       "      <th>46</th>\n",
       "      <td>_Interest_Coverage_Ratio_Interest_expense_to_EBIT</td>\n",
       "      <td>6.747421</td>\n",
       "    </tr>\n",
       "    <tr>\n",
       "      <th>23</th>\n",
       "      <td>_Net_Worth_Turnover_Rate_times</td>\n",
       "      <td>6.716444</td>\n",
       "    </tr>\n",
       "    <tr>\n",
       "      <th>6</th>\n",
       "      <td>_Per_Share_Net_profit_before_tax_Yuan_</td>\n",
       "      <td>6.396697</td>\n",
       "    </tr>\n",
       "  </tbody>\n",
       "</table>\n",
       "</div>"
      ],
      "text/plain": [
       "                                            variables       VIF\n",
       "18                              _Total_Asset_Turnover  7.474816\n",
       "39                         _Cash_Flow_to_Total_Assets  7.153619\n",
       "46  _Interest_Coverage_Ratio_Interest_expense_to_EBIT  6.747421\n",
       "23                     _Net_Worth_Turnover_Rate_times  6.716444\n",
       "6              _Per_Share_Net_profit_before_tax_Yuan_  6.396697"
      ]
     },
     "execution_count": 50,
     "metadata": {},
     "output_type": "execute_result"
    }
   ],
   "source": [
    "X_train =  X_train.drop('_Current_Ratio', axis =1)\n",
    "calc_vif(X_train).sort_values(by = 'VIF', ascending = False).head()"
   ]
  },
  {
   "cell_type": "code",
   "execution_count": 51,
   "id": "9ca4c843",
   "metadata": {},
   "outputs": [
    {
     "data": {
      "text/html": [
       "<div>\n",
       "<style scoped>\n",
       "    .dataframe tbody tr th:only-of-type {\n",
       "        vertical-align: middle;\n",
       "    }\n",
       "\n",
       "    .dataframe tbody tr th {\n",
       "        vertical-align: top;\n",
       "    }\n",
       "\n",
       "    .dataframe thead th {\n",
       "        text-align: right;\n",
       "    }\n",
       "</style>\n",
       "<table border=\"1\" class=\"dataframe\">\n",
       "  <thead>\n",
       "    <tr style=\"text-align: right;\">\n",
       "      <th></th>\n",
       "      <th>variables</th>\n",
       "      <th>VIF</th>\n",
       "    </tr>\n",
       "  </thead>\n",
       "  <tbody>\n",
       "    <tr>\n",
       "      <th>38</th>\n",
       "      <td>_Cash_Flow_to_Total_Assets</td>\n",
       "      <td>7.138963</td>\n",
       "    </tr>\n",
       "    <tr>\n",
       "      <th>45</th>\n",
       "      <td>_Interest_Coverage_Ratio_Interest_expense_to_EBIT</td>\n",
       "      <td>6.743256</td>\n",
       "    </tr>\n",
       "    <tr>\n",
       "      <th>6</th>\n",
       "      <td>_Per_Share_Net_profit_before_tax_Yuan_</td>\n",
       "      <td>6.390541</td>\n",
       "    </tr>\n",
       "    <tr>\n",
       "      <th>14</th>\n",
       "      <td>_Quick_Ratio</td>\n",
       "      <td>5.785457</td>\n",
       "    </tr>\n",
       "    <tr>\n",
       "      <th>44</th>\n",
       "      <td>_Degree_of_Financial_Leverage_DFL</td>\n",
       "      <td>5.368432</td>\n",
       "    </tr>\n",
       "  </tbody>\n",
       "</table>\n",
       "</div>"
      ],
      "text/plain": [
       "                                            variables       VIF\n",
       "38                         _Cash_Flow_to_Total_Assets  7.138963\n",
       "45  _Interest_Coverage_Ratio_Interest_expense_to_EBIT  6.743256\n",
       "6              _Per_Share_Net_profit_before_tax_Yuan_  6.390541\n",
       "14                                       _Quick_Ratio  5.785457\n",
       "44                  _Degree_of_Financial_Leverage_DFL  5.368432"
      ]
     },
     "execution_count": 51,
     "metadata": {},
     "output_type": "execute_result"
    }
   ],
   "source": [
    "X_train =  X_train.drop('_Total_Asset_Turnover', axis =1)\n",
    "calc_vif(X_train).sort_values(by = 'VIF', ascending = False).head()"
   ]
  },
  {
   "cell_type": "code",
   "execution_count": 52,
   "id": "4543db47",
   "metadata": {},
   "outputs": [
    {
     "data": {
      "text/html": [
       "<div>\n",
       "<style scoped>\n",
       "    .dataframe tbody tr th:only-of-type {\n",
       "        vertical-align: middle;\n",
       "    }\n",
       "\n",
       "    .dataframe tbody tr th {\n",
       "        vertical-align: top;\n",
       "    }\n",
       "\n",
       "    .dataframe thead th {\n",
       "        text-align: right;\n",
       "    }\n",
       "</style>\n",
       "<table border=\"1\" class=\"dataframe\">\n",
       "  <thead>\n",
       "    <tr style=\"text-align: right;\">\n",
       "      <th></th>\n",
       "      <th>variables</th>\n",
       "      <th>VIF</th>\n",
       "    </tr>\n",
       "  </thead>\n",
       "  <tbody>\n",
       "    <tr>\n",
       "      <th>44</th>\n",
       "      <td>_Interest_Coverage_Ratio_Interest_expense_to_EBIT</td>\n",
       "      <td>6.741877</td>\n",
       "    </tr>\n",
       "    <tr>\n",
       "      <th>6</th>\n",
       "      <td>_Per_Share_Net_profit_before_tax_Yuan_</td>\n",
       "      <td>6.368482</td>\n",
       "    </tr>\n",
       "    <tr>\n",
       "      <th>14</th>\n",
       "      <td>_Quick_Ratio</td>\n",
       "      <td>5.785098</td>\n",
       "    </tr>\n",
       "    <tr>\n",
       "      <th>43</th>\n",
       "      <td>_Degree_of_Financial_Leverage_DFL</td>\n",
       "      <td>5.368415</td>\n",
       "    </tr>\n",
       "    <tr>\n",
       "      <th>25</th>\n",
       "      <td>_Quick_Assets_to_Total_Assets</td>\n",
       "      <td>5.288619</td>\n",
       "    </tr>\n",
       "  </tbody>\n",
       "</table>\n",
       "</div>"
      ],
      "text/plain": [
       "                                            variables       VIF\n",
       "44  _Interest_Coverage_Ratio_Interest_expense_to_EBIT  6.741877\n",
       "6              _Per_Share_Net_profit_before_tax_Yuan_  6.368482\n",
       "14                                       _Quick_Ratio  5.785098\n",
       "43                  _Degree_of_Financial_Leverage_DFL  5.368415\n",
       "25                      _Quick_Assets_to_Total_Assets  5.288619"
      ]
     },
     "execution_count": 52,
     "metadata": {},
     "output_type": "execute_result"
    }
   ],
   "source": [
    "X_train =  X_train.drop('_Cash_Flow_to_Total_Assets', axis =1)\n",
    "calc_vif(X_train).sort_values(by = 'VIF', ascending = False).head()"
   ]
  },
  {
   "cell_type": "code",
   "execution_count": 53,
   "id": "fd4273f0",
   "metadata": {},
   "outputs": [
    {
     "data": {
      "text/html": [
       "<div>\n",
       "<style scoped>\n",
       "    .dataframe tbody tr th:only-of-type {\n",
       "        vertical-align: middle;\n",
       "    }\n",
       "\n",
       "    .dataframe tbody tr th {\n",
       "        vertical-align: top;\n",
       "    }\n",
       "\n",
       "    .dataframe thead th {\n",
       "        text-align: right;\n",
       "    }\n",
       "</style>\n",
       "<table border=\"1\" class=\"dataframe\">\n",
       "  <thead>\n",
       "    <tr style=\"text-align: right;\">\n",
       "      <th></th>\n",
       "      <th>variables</th>\n",
       "      <th>VIF</th>\n",
       "    </tr>\n",
       "  </thead>\n",
       "  <tbody>\n",
       "    <tr>\n",
       "      <th>6</th>\n",
       "      <td>_Per_Share_Net_profit_before_tax_Yuan_</td>\n",
       "      <td>6.355363</td>\n",
       "    </tr>\n",
       "    <tr>\n",
       "      <th>14</th>\n",
       "      <td>_Quick_Ratio</td>\n",
       "      <td>5.782407</td>\n",
       "    </tr>\n",
       "    <tr>\n",
       "      <th>25</th>\n",
       "      <td>_Quick_Assets_to_Total_Assets</td>\n",
       "      <td>5.287818</td>\n",
       "    </tr>\n",
       "    <tr>\n",
       "      <th>5</th>\n",
       "      <td>_Cash_Flow_Per_Share</td>\n",
       "      <td>4.791936</td>\n",
       "    </tr>\n",
       "    <tr>\n",
       "      <th>27</th>\n",
       "      <td>_Cash_to_Current_Liability</td>\n",
       "      <td>4.685302</td>\n",
       "    </tr>\n",
       "  </tbody>\n",
       "</table>\n",
       "</div>"
      ],
      "text/plain": [
       "                                 variables       VIF\n",
       "6   _Per_Share_Net_profit_before_tax_Yuan_  6.355363\n",
       "14                            _Quick_Ratio  5.782407\n",
       "25           _Quick_Assets_to_Total_Assets  5.287818\n",
       "5                     _Cash_Flow_Per_Share  4.791936\n",
       "27              _Cash_to_Current_Liability  4.685302"
      ]
     },
     "execution_count": 53,
     "metadata": {},
     "output_type": "execute_result"
    }
   ],
   "source": [
    "X_train =  X_train.drop('_Interest_Coverage_Ratio_Interest_expense_to_EBIT', axis =1)\n",
    "calc_vif(X_train).sort_values(by = 'VIF', ascending = False).head()"
   ]
  },
  {
   "cell_type": "code",
   "execution_count": 54,
   "id": "af4100cc",
   "metadata": {},
   "outputs": [
    {
     "data": {
      "text/html": [
       "<div>\n",
       "<style scoped>\n",
       "    .dataframe tbody tr th:only-of-type {\n",
       "        vertical-align: middle;\n",
       "    }\n",
       "\n",
       "    .dataframe tbody tr th {\n",
       "        vertical-align: top;\n",
       "    }\n",
       "\n",
       "    .dataframe thead th {\n",
       "        text-align: right;\n",
       "    }\n",
       "</style>\n",
       "<table border=\"1\" class=\"dataframe\">\n",
       "  <thead>\n",
       "    <tr style=\"text-align: right;\">\n",
       "      <th></th>\n",
       "      <th>variables</th>\n",
       "      <th>VIF</th>\n",
       "    </tr>\n",
       "  </thead>\n",
       "  <tbody>\n",
       "    <tr>\n",
       "      <th>13</th>\n",
       "      <td>_Quick_Ratio</td>\n",
       "      <td>5.781948</td>\n",
       "    </tr>\n",
       "    <tr>\n",
       "      <th>24</th>\n",
       "      <td>_Quick_Assets_to_Total_Assets</td>\n",
       "      <td>5.283311</td>\n",
       "    </tr>\n",
       "    <tr>\n",
       "      <th>5</th>\n",
       "      <td>_Cash_Flow_Per_Share</td>\n",
       "      <td>4.758942</td>\n",
       "    </tr>\n",
       "    <tr>\n",
       "      <th>26</th>\n",
       "      <td>_Cash_to_Current_Liability</td>\n",
       "      <td>4.684931</td>\n",
       "    </tr>\n",
       "    <tr>\n",
       "      <th>39</th>\n",
       "      <td>_Current_Liability_to_Current_Assets</td>\n",
       "      <td>4.651964</td>\n",
       "    </tr>\n",
       "  </tbody>\n",
       "</table>\n",
       "</div>"
      ],
      "text/plain": [
       "                               variables       VIF\n",
       "13                          _Quick_Ratio  5.781948\n",
       "24         _Quick_Assets_to_Total_Assets  5.283311\n",
       "5                   _Cash_Flow_Per_Share  4.758942\n",
       "26            _Cash_to_Current_Liability  4.684931\n",
       "39  _Current_Liability_to_Current_Assets  4.651964"
      ]
     },
     "execution_count": 54,
     "metadata": {},
     "output_type": "execute_result"
    }
   ],
   "source": [
    "X_train =  X_train.drop('_Per_Share_Net_profit_before_tax_Yuan_', axis =1)\n",
    "calc_vif(X_train).sort_values(by = 'VIF', ascending = False).head()"
   ]
  },
  {
   "cell_type": "code",
   "execution_count": 55,
   "id": "0cb78718",
   "metadata": {},
   "outputs": [
    {
     "data": {
      "text/html": [
       "<div>\n",
       "<style scoped>\n",
       "    .dataframe tbody tr th:only-of-type {\n",
       "        vertical-align: middle;\n",
       "    }\n",
       "\n",
       "    .dataframe tbody tr th {\n",
       "        vertical-align: top;\n",
       "    }\n",
       "\n",
       "    .dataframe thead th {\n",
       "        text-align: right;\n",
       "    }\n",
       "</style>\n",
       "<table border=\"1\" class=\"dataframe\">\n",
       "  <thead>\n",
       "    <tr style=\"text-align: right;\">\n",
       "      <th></th>\n",
       "      <th>variables</th>\n",
       "      <th>VIF</th>\n",
       "    </tr>\n",
       "  </thead>\n",
       "  <tbody>\n",
       "    <tr>\n",
       "      <th>5</th>\n",
       "      <td>_Cash_Flow_Per_Share</td>\n",
       "      <td>4.758850</td>\n",
       "    </tr>\n",
       "    <tr>\n",
       "      <th>23</th>\n",
       "      <td>_Quick_Assets_to_Total_Assets</td>\n",
       "      <td>4.739837</td>\n",
       "    </tr>\n",
       "    <tr>\n",
       "      <th>12</th>\n",
       "      <td>_Cash_Reinvestment_perc</td>\n",
       "      <td>4.367613</td>\n",
       "    </tr>\n",
       "    <tr>\n",
       "      <th>25</th>\n",
       "      <td>_Cash_to_Current_Liability</td>\n",
       "      <td>4.294245</td>\n",
       "    </tr>\n",
       "    <tr>\n",
       "      <th>30</th>\n",
       "      <td>_Total_income_to_Total_expense</td>\n",
       "      <td>4.124945</td>\n",
       "    </tr>\n",
       "  </tbody>\n",
       "</table>\n",
       "</div>"
      ],
      "text/plain": [
       "                         variables       VIF\n",
       "5             _Cash_Flow_Per_Share  4.758850\n",
       "23   _Quick_Assets_to_Total_Assets  4.739837\n",
       "12         _Cash_Reinvestment_perc  4.367613\n",
       "25      _Cash_to_Current_Liability  4.294245\n",
       "30  _Total_income_to_Total_expense  4.124945"
      ]
     },
     "execution_count": 55,
     "metadata": {},
     "output_type": "execute_result"
    }
   ],
   "source": [
    "X_train =  X_train.drop('_Quick_Ratio', axis =1)\n",
    "calc_vif(X_train).sort_values(by = 'VIF', ascending = False).head()"
   ]
  },
  {
   "cell_type": "code",
   "execution_count": 56,
   "id": "a3c4f731",
   "metadata": {},
   "outputs": [
    {
     "data": {
      "text/plain": [
       "(1378, 43)"
      ]
     },
     "execution_count": 56,
     "metadata": {},
     "output_type": "execute_result"
    }
   ],
   "source": [
    "X_train.shape"
   ]
  },
  {
   "cell_type": "markdown",
   "id": "9d5b785e",
   "metadata": {},
   "source": [
    "## PART A: Build Logistic Regression Model (using statsmodels library) on most important variables on train dataset and choose the optimum cut-off. Also showcase your model building approach"
   ]
  },
  {
   "cell_type": "code",
   "execution_count": 64,
   "id": "fce1fd7b",
   "metadata": {},
   "outputs": [],
   "source": [
    "import statsmodels.formula.api as SM"
   ]
  },
  {
   "cell_type": "code",
   "execution_count": 65,
   "id": "cb90b281",
   "metadata": {},
   "outputs": [],
   "source": [
    "from sklearn.feature_selection import RFE #Very important\n",
    "from sklearn.linear_model import LogisticRegression"
   ]
  },
  {
   "cell_type": "code",
   "execution_count": 67,
   "id": "7b543408",
   "metadata": {},
   "outputs": [],
   "source": [
    "LogR = LogisticRegression(random_state=42)"
   ]
  },
  {
   "cell_type": "code",
   "execution_count": 68,
   "id": "56d4be59",
   "metadata": {},
   "outputs": [],
   "source": [
    "selector = RFE(estimator = LogR, n_features_to_select=14, step=1)"
   ]
  },
  {
   "cell_type": "code",
   "execution_count": 69,
   "id": "ed10f590",
   "metadata": {},
   "outputs": [],
   "source": [
    "selector = selector.fit(X_train, y_train)"
   ]
  },
  {
   "cell_type": "code",
   "execution_count": 70,
   "id": "e4ae08e9",
   "metadata": {},
   "outputs": [
    {
     "data": {
      "text/plain": [
       "14"
      ]
     },
     "execution_count": 70,
     "metadata": {},
     "output_type": "execute_result"
    }
   ],
   "source": [
    "selector.n_features_"
   ]
  },
  {
   "cell_type": "code",
   "execution_count": 71,
   "id": "9b5b878a",
   "metadata": {},
   "outputs": [
    {
     "data": {
      "text/html": [
       "<div>\n",
       "<style scoped>\n",
       "    .dataframe tbody tr th:only-of-type {\n",
       "        vertical-align: middle;\n",
       "    }\n",
       "\n",
       "    .dataframe tbody tr th {\n",
       "        vertical-align: top;\n",
       "    }\n",
       "\n",
       "    .dataframe thead th {\n",
       "        text-align: right;\n",
       "    }\n",
       "</style>\n",
       "<table border=\"1\" class=\"dataframe\">\n",
       "  <thead>\n",
       "    <tr style=\"text-align: right;\">\n",
       "      <th></th>\n",
       "      <th>Feature</th>\n",
       "      <th>Rank</th>\n",
       "    </tr>\n",
       "  </thead>\n",
       "  <tbody>\n",
       "    <tr>\n",
       "      <th>1</th>\n",
       "      <td>_Research_and_development_expense_rate</td>\n",
       "      <td>1</td>\n",
       "    </tr>\n",
       "    <tr>\n",
       "      <th>3</th>\n",
       "      <td>_Interest_bearing_debt_interest_rate</td>\n",
       "      <td>1</td>\n",
       "    </tr>\n",
       "    <tr>\n",
       "      <th>4</th>\n",
       "      <td>_Tax_rate_A</td>\n",
       "      <td>1</td>\n",
       "    </tr>\n",
       "    <tr>\n",
       "      <th>14</th>\n",
       "      <td>_Total_debt_to_Total_net_worth</td>\n",
       "      <td>1</td>\n",
       "    </tr>\n",
       "    <tr>\n",
       "      <th>16</th>\n",
       "      <td>_Accounts_Receivable_Turnover</td>\n",
       "      <td>1</td>\n",
       "    </tr>\n",
       "    <tr>\n",
       "      <th>23</th>\n",
       "      <td>_Quick_Assets_to_Total_Assets</td>\n",
       "      <td>1</td>\n",
       "    </tr>\n",
       "    <tr>\n",
       "      <th>25</th>\n",
       "      <td>_Cash_to_Current_Liability</td>\n",
       "      <td>1</td>\n",
       "    </tr>\n",
       "    <tr>\n",
       "      <th>26</th>\n",
       "      <td>_Inventory_to_Working_Capital</td>\n",
       "      <td>1</td>\n",
       "    </tr>\n",
       "    <tr>\n",
       "      <th>30</th>\n",
       "      <td>_Total_income_to_Total_expense</td>\n",
       "      <td>1</td>\n",
       "    </tr>\n",
       "    <tr>\n",
       "      <th>31</th>\n",
       "      <td>_Total_expense_to_Assets</td>\n",
       "      <td>1</td>\n",
       "    </tr>\n",
       "    <tr>\n",
       "      <th>34</th>\n",
       "      <td>_Cash_Turnover_Rate</td>\n",
       "      <td>1</td>\n",
       "    </tr>\n",
       "    <tr>\n",
       "      <th>36</th>\n",
       "      <td>_Cash_Flow_to_Liability</td>\n",
       "      <td>1</td>\n",
       "    </tr>\n",
       "    <tr>\n",
       "      <th>40</th>\n",
       "      <td>_No_credit_Interval</td>\n",
       "      <td>1</td>\n",
       "    </tr>\n",
       "    <tr>\n",
       "      <th>42</th>\n",
       "      <td>_Equity_to_Liability</td>\n",
       "      <td>1</td>\n",
       "    </tr>\n",
       "  </tbody>\n",
       "</table>\n",
       "</div>"
      ],
      "text/plain": [
       "                                   Feature  Rank\n",
       "1   _Research_and_development_expense_rate     1\n",
       "3     _Interest_bearing_debt_interest_rate     1\n",
       "4                              _Tax_rate_A     1\n",
       "14          _Total_debt_to_Total_net_worth     1\n",
       "16           _Accounts_Receivable_Turnover     1\n",
       "23           _Quick_Assets_to_Total_Assets     1\n",
       "25              _Cash_to_Current_Liability     1\n",
       "26           _Inventory_to_Working_Capital     1\n",
       "30          _Total_income_to_Total_expense     1\n",
       "31                _Total_expense_to_Assets     1\n",
       "34                     _Cash_Turnover_Rate     1\n",
       "36                 _Cash_Flow_to_Liability     1\n",
       "40                     _No_credit_Interval     1\n",
       "42                    _Equity_to_Liability     1"
      ]
     },
     "execution_count": 71,
     "metadata": {},
     "output_type": "execute_result"
    }
   ],
   "source": [
    "features = pd.DataFrame({'Feature': X_train.columns, 'Rank': selector.ranking_})\n",
    "features[features['Rank'] == 1]"
   ]
  },
  {
   "cell_type": "markdown",
   "id": "722c47e6",
   "metadata": {},
   "source": [
    "###### the above 14 features will be used to build the statsmodels logistic regression model "
   ]
  },
  {
   "cell_type": "code",
   "execution_count": 74,
   "id": "bd45227f",
   "metadata": {},
   "outputs": [],
   "source": [
    "train = pd.concat([X_train, y_train], axis = 1)\n",
    "test = pd.concat([X_test, y_test], axis = 1)"
   ]
  },
  {
   "cell_type": "code",
   "execution_count": 75,
   "id": "1cfac42f",
   "metadata": {},
   "outputs": [],
   "source": [
    "f_1 = 'Default ~ _Research_and_development_expense_rate + _Interest_bearing_debt_interest_rate + _Tax_rate_A + _Total_debt_to_Total_net_worth + _Accounts_Receivable_Turnover + _Quick_Assets_to_Total_Assets + _Cash_to_Current_Liability + _Inventory_to_Working_Capital + _Total_income_to_Total_expense + _Total_expense_to_Assets + _Cash_Turnover_Rate + _Cash_Flow_to_Liability + _No_credit_Interval + _Equity_to_Liability'"
   ]
  },
  {
   "cell_type": "code",
   "execution_count": 76,
   "id": "b70d0aea",
   "metadata": {},
   "outputs": [
    {
     "name": "stdout",
     "output_type": "stream",
     "text": [
      "Optimization terminated successfully.\n",
      "         Current function value: 0.197941\n",
      "         Iterations 8\n"
     ]
    }
   ],
   "source": [
    "model_1 = SM.logit(formula = f_1, data= train).fit()"
   ]
  },
  {
   "cell_type": "code",
   "execution_count": 77,
   "id": "03b273e9",
   "metadata": {
    "scrolled": false
   },
   "outputs": [
    {
     "data": {
      "text/html": [
       "<table class=\"simpletable\">\n",
       "<caption>Logit Regression Results</caption>\n",
       "<tr>\n",
       "  <th>Dep. Variable:</th>        <td>Default</td>     <th>  No. Observations:  </th>  <td>  1378</td>  \n",
       "</tr>\n",
       "<tr>\n",
       "  <th>Model:</th>                 <td>Logit</td>      <th>  Df Residuals:      </th>  <td>  1363</td>  \n",
       "</tr>\n",
       "<tr>\n",
       "  <th>Method:</th>                 <td>MLE</td>       <th>  Df Model:          </th>  <td>    14</td>  \n",
       "</tr>\n",
       "<tr>\n",
       "  <th>Date:</th>            <td>Sun, 19 Nov 2023</td> <th>  Pseudo R-squ.:     </th>  <td>0.4170</td>  \n",
       "</tr>\n",
       "<tr>\n",
       "  <th>Time:</th>                <td>18:24:17</td>     <th>  Log-Likelihood:    </th> <td> -272.76</td> \n",
       "</tr>\n",
       "<tr>\n",
       "  <th>converged:</th>             <td>True</td>       <th>  LL-Null:           </th> <td> -467.84</td> \n",
       "</tr>\n",
       "<tr>\n",
       "  <th>Covariance Type:</th>     <td>nonrobust</td>    <th>  LLR p-value:       </th> <td>1.494e-74</td>\n",
       "</tr>\n",
       "</table>\n",
       "<table class=\"simpletable\">\n",
       "<tr>\n",
       "                     <td></td>                       <th>coef</th>     <th>std err</th>      <th>z</th>      <th>P>|z|</th>  <th>[0.025</th>    <th>0.975]</th>  \n",
       "</tr>\n",
       "<tr>\n",
       "  <th>Intercept</th>                              <td>   -3.6952</td> <td>    0.217</td> <td>  -17.025</td> <td> 0.000</td> <td>   -4.121</td> <td>   -3.270</td>\n",
       "</tr>\n",
       "<tr>\n",
       "  <th>_Research_and_development_expense_rate</th> <td>    0.2098</td> <td>    0.109</td> <td>    1.921</td> <td> 0.055</td> <td>   -0.004</td> <td>    0.424</td>\n",
       "</tr>\n",
       "<tr>\n",
       "  <th>_Interest_bearing_debt_interest_rate</th>   <td>    0.3013</td> <td>    0.136</td> <td>    2.222</td> <td> 0.026</td> <td>    0.036</td> <td>    0.567</td>\n",
       "</tr>\n",
       "<tr>\n",
       "  <th>_Tax_rate_A</th>                            <td>   -0.3021</td> <td>    0.171</td> <td>   -1.770</td> <td> 0.077</td> <td>   -0.637</td> <td>    0.032</td>\n",
       "</tr>\n",
       "<tr>\n",
       "  <th>_Total_debt_to_Total_net_worth</th>         <td>    0.6307</td> <td>    0.182</td> <td>    3.463</td> <td> 0.001</td> <td>    0.274</td> <td>    0.988</td>\n",
       "</tr>\n",
       "<tr>\n",
       "  <th>_Accounts_Receivable_Turnover</th>          <td>   -0.5838</td> <td>    0.143</td> <td>   -4.082</td> <td> 0.000</td> <td>   -0.864</td> <td>   -0.303</td>\n",
       "</tr>\n",
       "<tr>\n",
       "  <th>_Quick_Assets_to_Total_Assets</th>          <td>   -0.3813</td> <td>    0.151</td> <td>   -2.531</td> <td> 0.011</td> <td>   -0.677</td> <td>   -0.086</td>\n",
       "</tr>\n",
       "<tr>\n",
       "  <th>_Cash_to_Current_Liability</th>             <td>    0.2839</td> <td>    0.190</td> <td>    1.492</td> <td> 0.136</td> <td>   -0.089</td> <td>    0.657</td>\n",
       "</tr>\n",
       "<tr>\n",
       "  <th>_Inventory_to_Working_Capital</th>          <td>   -0.2614</td> <td>    0.103</td> <td>   -2.550</td> <td> 0.011</td> <td>   -0.462</td> <td>   -0.060</td>\n",
       "</tr>\n",
       "<tr>\n",
       "  <th>_Total_income_to_Total_expense</th>         <td>   -1.0837</td> <td>    0.176</td> <td>   -6.162</td> <td> 0.000</td> <td>   -1.428</td> <td>   -0.739</td>\n",
       "</tr>\n",
       "<tr>\n",
       "  <th>_Total_expense_to_Assets</th>               <td>    0.3855</td> <td>    0.120</td> <td>    3.210</td> <td> 0.001</td> <td>    0.150</td> <td>    0.621</td>\n",
       "</tr>\n",
       "<tr>\n",
       "  <th>_Cash_Turnover_Rate</th>                    <td>   -0.3022</td> <td>    0.129</td> <td>   -2.336</td> <td> 0.019</td> <td>   -0.556</td> <td>   -0.049</td>\n",
       "</tr>\n",
       "<tr>\n",
       "  <th>_Cash_Flow_to_Liability</th>                <td>   -0.3441</td> <td>    0.140</td> <td>   -2.458</td> <td> 0.014</td> <td>   -0.618</td> <td>   -0.070</td>\n",
       "</tr>\n",
       "<tr>\n",
       "  <th>_No_credit_Interval</th>                    <td>   -0.3449</td> <td>    0.132</td> <td>   -2.622</td> <td> 0.009</td> <td>   -0.603</td> <td>   -0.087</td>\n",
       "</tr>\n",
       "<tr>\n",
       "  <th>_Equity_to_Liability</th>                   <td>   -0.7005</td> <td>    0.286</td> <td>   -2.449</td> <td> 0.014</td> <td>   -1.261</td> <td>   -0.140</td>\n",
       "</tr>\n",
       "</table>"
      ],
      "text/plain": [
       "<class 'statsmodels.iolib.summary.Summary'>\n",
       "\"\"\"\n",
       "                           Logit Regression Results                           \n",
       "==============================================================================\n",
       "Dep. Variable:                Default   No. Observations:                 1378\n",
       "Model:                          Logit   Df Residuals:                     1363\n",
       "Method:                           MLE   Df Model:                           14\n",
       "Date:                Sun, 19 Nov 2023   Pseudo R-squ.:                  0.4170\n",
       "Time:                        18:24:17   Log-Likelihood:                -272.76\n",
       "converged:                       True   LL-Null:                       -467.84\n",
       "Covariance Type:            nonrobust   LLR p-value:                 1.494e-74\n",
       "==========================================================================================================\n",
       "                                             coef    std err          z      P>|z|      [0.025      0.975]\n",
       "----------------------------------------------------------------------------------------------------------\n",
       "Intercept                                 -3.6952      0.217    -17.025      0.000      -4.121      -3.270\n",
       "_Research_and_development_expense_rate     0.2098      0.109      1.921      0.055      -0.004       0.424\n",
       "_Interest_bearing_debt_interest_rate       0.3013      0.136      2.222      0.026       0.036       0.567\n",
       "_Tax_rate_A                               -0.3021      0.171     -1.770      0.077      -0.637       0.032\n",
       "_Total_debt_to_Total_net_worth             0.6307      0.182      3.463      0.001       0.274       0.988\n",
       "_Accounts_Receivable_Turnover             -0.5838      0.143     -4.082      0.000      -0.864      -0.303\n",
       "_Quick_Assets_to_Total_Assets             -0.3813      0.151     -2.531      0.011      -0.677      -0.086\n",
       "_Cash_to_Current_Liability                 0.2839      0.190      1.492      0.136      -0.089       0.657\n",
       "_Inventory_to_Working_Capital             -0.2614      0.103     -2.550      0.011      -0.462      -0.060\n",
       "_Total_income_to_Total_expense            -1.0837      0.176     -6.162      0.000      -1.428      -0.739\n",
       "_Total_expense_to_Assets                   0.3855      0.120      3.210      0.001       0.150       0.621\n",
       "_Cash_Turnover_Rate                       -0.3022      0.129     -2.336      0.019      -0.556      -0.049\n",
       "_Cash_Flow_to_Liability                   -0.3441      0.140     -2.458      0.014      -0.618      -0.070\n",
       "_No_credit_Interval                       -0.3449      0.132     -2.622      0.009      -0.603      -0.087\n",
       "_Equity_to_Liability                      -0.7005      0.286     -2.449      0.014      -1.261      -0.140\n",
       "==========================================================================================================\n",
       "\"\"\""
      ]
     },
     "execution_count": 77,
     "metadata": {},
     "output_type": "execute_result"
    }
   ],
   "source": [
    "model_1.summary()"
   ]
  },
  {
   "cell_type": "markdown",
   "id": "55a92477",
   "metadata": {},
   "source": [
    "###### _Cash_to_Current_Liability is insignificant so we shall remove it "
   ]
  },
  {
   "cell_type": "code",
   "execution_count": 78,
   "id": "6ed02ddf",
   "metadata": {},
   "outputs": [],
   "source": [
    "f_1 = 'Default ~ _Research_and_development_expense_rate + _Interest_bearing_debt_interest_rate + _Tax_rate_A + _Total_debt_to_Total_net_worth + _Accounts_Receivable_Turnover + _Quick_Assets_to_Total_Assets + _Inventory_to_Working_Capital + _Total_income_to_Total_expense + _Total_expense_to_Assets + _Cash_Turnover_Rate + _Cash_Flow_to_Liability + _No_credit_Interval + _Equity_to_Liability'"
   ]
  },
  {
   "cell_type": "code",
   "execution_count": 79,
   "id": "be1d7c4a",
   "metadata": {},
   "outputs": [
    {
     "name": "stdout",
     "output_type": "stream",
     "text": [
      "Optimization terminated successfully.\n",
      "         Current function value: 0.198726\n",
      "         Iterations 8\n"
     ]
    }
   ],
   "source": [
    "model_2 = SM.logit(formula = f_1, data= train).fit()"
   ]
  },
  {
   "cell_type": "code",
   "execution_count": 80,
   "id": "f7747d99",
   "metadata": {},
   "outputs": [
    {
     "data": {
      "text/html": [
       "<table class=\"simpletable\">\n",
       "<caption>Logit Regression Results</caption>\n",
       "<tr>\n",
       "  <th>Dep. Variable:</th>        <td>Default</td>     <th>  No. Observations:  </th>  <td>  1378</td>  \n",
       "</tr>\n",
       "<tr>\n",
       "  <th>Model:</th>                 <td>Logit</td>      <th>  Df Residuals:      </th>  <td>  1364</td>  \n",
       "</tr>\n",
       "<tr>\n",
       "  <th>Method:</th>                 <td>MLE</td>       <th>  Df Model:          </th>  <td>    13</td>  \n",
       "</tr>\n",
       "<tr>\n",
       "  <th>Date:</th>            <td>Sun, 19 Nov 2023</td> <th>  Pseudo R-squ.:     </th>  <td>0.4147</td>  \n",
       "</tr>\n",
       "<tr>\n",
       "  <th>Time:</th>                <td>18:29:15</td>     <th>  Log-Likelihood:    </th> <td> -273.84</td> \n",
       "</tr>\n",
       "<tr>\n",
       "  <th>converged:</th>             <td>True</td>       <th>  LL-Null:           </th> <td> -467.84</td> \n",
       "</tr>\n",
       "<tr>\n",
       "  <th>Covariance Type:</th>     <td>nonrobust</td>    <th>  LLR p-value:       </th> <td>7.639e-75</td>\n",
       "</tr>\n",
       "</table>\n",
       "<table class=\"simpletable\">\n",
       "<tr>\n",
       "                     <td></td>                       <th>coef</th>     <th>std err</th>      <th>z</th>      <th>P>|z|</th>  <th>[0.025</th>    <th>0.975]</th>  \n",
       "</tr>\n",
       "<tr>\n",
       "  <th>Intercept</th>                              <td>   -3.6474</td> <td>    0.212</td> <td>  -17.198</td> <td> 0.000</td> <td>   -4.063</td> <td>   -3.232</td>\n",
       "</tr>\n",
       "<tr>\n",
       "  <th>_Research_and_development_expense_rate</th> <td>    0.2075</td> <td>    0.109</td> <td>    1.902</td> <td> 0.057</td> <td>   -0.006</td> <td>    0.421</td>\n",
       "</tr>\n",
       "<tr>\n",
       "  <th>_Interest_bearing_debt_interest_rate</th>   <td>    0.2671</td> <td>    0.133</td> <td>    2.005</td> <td> 0.045</td> <td>    0.006</td> <td>    0.528</td>\n",
       "</tr>\n",
       "<tr>\n",
       "  <th>_Tax_rate_A</th>                            <td>   -0.3057</td> <td>    0.171</td> <td>   -1.787</td> <td> 0.074</td> <td>   -0.641</td> <td>    0.030</td>\n",
       "</tr>\n",
       "<tr>\n",
       "  <th>_Total_debt_to_Total_net_worth</th>         <td>    0.6123</td> <td>    0.181</td> <td>    3.377</td> <td> 0.001</td> <td>    0.257</td> <td>    0.968</td>\n",
       "</tr>\n",
       "<tr>\n",
       "  <th>_Accounts_Receivable_Turnover</th>          <td>   -0.5612</td> <td>    0.142</td> <td>   -3.965</td> <td> 0.000</td> <td>   -0.839</td> <td>   -0.284</td>\n",
       "</tr>\n",
       "<tr>\n",
       "  <th>_Quick_Assets_to_Total_Assets</th>          <td>   -0.3439</td> <td>    0.148</td> <td>   -2.326</td> <td> 0.020</td> <td>   -0.634</td> <td>   -0.054</td>\n",
       "</tr>\n",
       "<tr>\n",
       "  <th>_Inventory_to_Working_Capital</th>          <td>   -0.2592</td> <td>    0.102</td> <td>   -2.552</td> <td> 0.011</td> <td>   -0.458</td> <td>   -0.060</td>\n",
       "</tr>\n",
       "<tr>\n",
       "  <th>_Total_income_to_Total_expense</th>         <td>   -1.0742</td> <td>    0.176</td> <td>   -6.105</td> <td> 0.000</td> <td>   -1.419</td> <td>   -0.729</td>\n",
       "</tr>\n",
       "<tr>\n",
       "  <th>_Total_expense_to_Assets</th>               <td>    0.3949</td> <td>    0.119</td> <td>    3.306</td> <td> 0.001</td> <td>    0.161</td> <td>    0.629</td>\n",
       "</tr>\n",
       "<tr>\n",
       "  <th>_Cash_Turnover_Rate</th>                    <td>   -0.2972</td> <td>    0.131</td> <td>   -2.277</td> <td> 0.023</td> <td>   -0.553</td> <td>   -0.041</td>\n",
       "</tr>\n",
       "<tr>\n",
       "  <th>_Cash_Flow_to_Liability</th>                <td>   -0.2854</td> <td>    0.135</td> <td>   -2.118</td> <td> 0.034</td> <td>   -0.550</td> <td>   -0.021</td>\n",
       "</tr>\n",
       "<tr>\n",
       "  <th>_No_credit_Interval</th>                    <td>   -0.3038</td> <td>    0.127</td> <td>   -2.384</td> <td> 0.017</td> <td>   -0.554</td> <td>   -0.054</td>\n",
       "</tr>\n",
       "<tr>\n",
       "  <th>_Equity_to_Liability</th>                   <td>   -0.5613</td> <td>    0.268</td> <td>   -2.095</td> <td> 0.036</td> <td>   -1.086</td> <td>   -0.036</td>\n",
       "</tr>\n",
       "</table>"
      ],
      "text/plain": [
       "<class 'statsmodels.iolib.summary.Summary'>\n",
       "\"\"\"\n",
       "                           Logit Regression Results                           \n",
       "==============================================================================\n",
       "Dep. Variable:                Default   No. Observations:                 1378\n",
       "Model:                          Logit   Df Residuals:                     1364\n",
       "Method:                           MLE   Df Model:                           13\n",
       "Date:                Sun, 19 Nov 2023   Pseudo R-squ.:                  0.4147\n",
       "Time:                        18:29:15   Log-Likelihood:                -273.84\n",
       "converged:                       True   LL-Null:                       -467.84\n",
       "Covariance Type:            nonrobust   LLR p-value:                 7.639e-75\n",
       "==========================================================================================================\n",
       "                                             coef    std err          z      P>|z|      [0.025      0.975]\n",
       "----------------------------------------------------------------------------------------------------------\n",
       "Intercept                                 -3.6474      0.212    -17.198      0.000      -4.063      -3.232\n",
       "_Research_and_development_expense_rate     0.2075      0.109      1.902      0.057      -0.006       0.421\n",
       "_Interest_bearing_debt_interest_rate       0.2671      0.133      2.005      0.045       0.006       0.528\n",
       "_Tax_rate_A                               -0.3057      0.171     -1.787      0.074      -0.641       0.030\n",
       "_Total_debt_to_Total_net_worth             0.6123      0.181      3.377      0.001       0.257       0.968\n",
       "_Accounts_Receivable_Turnover             -0.5612      0.142     -3.965      0.000      -0.839      -0.284\n",
       "_Quick_Assets_to_Total_Assets             -0.3439      0.148     -2.326      0.020      -0.634      -0.054\n",
       "_Inventory_to_Working_Capital             -0.2592      0.102     -2.552      0.011      -0.458      -0.060\n",
       "_Total_income_to_Total_expense            -1.0742      0.176     -6.105      0.000      -1.419      -0.729\n",
       "_Total_expense_to_Assets                   0.3949      0.119      3.306      0.001       0.161       0.629\n",
       "_Cash_Turnover_Rate                       -0.2972      0.131     -2.277      0.023      -0.553      -0.041\n",
       "_Cash_Flow_to_Liability                   -0.2854      0.135     -2.118      0.034      -0.550      -0.021\n",
       "_No_credit_Interval                       -0.3038      0.127     -2.384      0.017      -0.554      -0.054\n",
       "_Equity_to_Liability                      -0.5613      0.268     -2.095      0.036      -1.086      -0.036\n",
       "==========================================================================================================\n",
       "\"\"\""
      ]
     },
     "execution_count": 80,
     "metadata": {},
     "output_type": "execute_result"
    }
   ],
   "source": [
    "model_2.summary()"
   ]
  },
  {
   "cell_type": "code",
   "execution_count": 81,
   "id": "c50246fd",
   "metadata": {},
   "outputs": [],
   "source": [
    "### _Tax_rate_A is insignificant"
   ]
  },
  {
   "cell_type": "code",
   "execution_count": 82,
   "id": "ed12237f",
   "metadata": {},
   "outputs": [],
   "source": [
    "f_1 = 'Default ~ _Research_and_development_expense_rate + _Interest_bearing_debt_interest_rate + _Total_debt_to_Total_net_worth + _Accounts_Receivable_Turnover + _Quick_Assets_to_Total_Assets + _Inventory_to_Working_Capital + _Total_income_to_Total_expense + _Total_expense_to_Assets + _Cash_Turnover_Rate + _Cash_Flow_to_Liability + _No_credit_Interval + _Equity_to_Liability'"
   ]
  },
  {
   "cell_type": "code",
   "execution_count": 83,
   "id": "b6e504f3",
   "metadata": {},
   "outputs": [
    {
     "name": "stdout",
     "output_type": "stream",
     "text": [
      "Optimization terminated successfully.\n",
      "         Current function value: 0.200017\n",
      "         Iterations 8\n"
     ]
    }
   ],
   "source": [
    "model_3 = SM.logit(formula = f_1, data= train).fit()"
   ]
  },
  {
   "cell_type": "code",
   "execution_count": 84,
   "id": "88e348f4",
   "metadata": {},
   "outputs": [
    {
     "data": {
      "text/html": [
       "<table class=\"simpletable\">\n",
       "<caption>Logit Regression Results</caption>\n",
       "<tr>\n",
       "  <th>Dep. Variable:</th>        <td>Default</td>     <th>  No. Observations:  </th>  <td>  1378</td>  \n",
       "</tr>\n",
       "<tr>\n",
       "  <th>Model:</th>                 <td>Logit</td>      <th>  Df Residuals:      </th>  <td>  1365</td>  \n",
       "</tr>\n",
       "<tr>\n",
       "  <th>Method:</th>                 <td>MLE</td>       <th>  Df Model:          </th>  <td>    12</td>  \n",
       "</tr>\n",
       "<tr>\n",
       "  <th>Date:</th>            <td>Sun, 19 Nov 2023</td> <th>  Pseudo R-squ.:     </th>  <td>0.4109</td>  \n",
       "</tr>\n",
       "<tr>\n",
       "  <th>Time:</th>                <td>18:30:58</td>     <th>  Log-Likelihood:    </th> <td> -275.62</td> \n",
       "</tr>\n",
       "<tr>\n",
       "  <th>converged:</th>             <td>True</td>       <th>  LL-Null:           </th> <td> -467.84</td> \n",
       "</tr>\n",
       "<tr>\n",
       "  <th>Covariance Type:</th>     <td>nonrobust</td>    <th>  LLR p-value:       </th> <td>7.427e-75</td>\n",
       "</tr>\n",
       "</table>\n",
       "<table class=\"simpletable\">\n",
       "<tr>\n",
       "                     <td></td>                       <th>coef</th>     <th>std err</th>      <th>z</th>      <th>P>|z|</th>  <th>[0.025</th>    <th>0.975]</th>  \n",
       "</tr>\n",
       "<tr>\n",
       "  <th>Intercept</th>                              <td>   -3.6544</td> <td>    0.212</td> <td>  -17.228</td> <td> 0.000</td> <td>   -4.070</td> <td>   -3.239</td>\n",
       "</tr>\n",
       "<tr>\n",
       "  <th>_Research_and_development_expense_rate</th> <td>    0.2117</td> <td>    0.109</td> <td>    1.940</td> <td> 0.052</td> <td>   -0.002</td> <td>    0.426</td>\n",
       "</tr>\n",
       "<tr>\n",
       "  <th>_Interest_bearing_debt_interest_rate</th>   <td>    0.2501</td> <td>    0.133</td> <td>    1.884</td> <td> 0.060</td> <td>   -0.010</td> <td>    0.510</td>\n",
       "</tr>\n",
       "<tr>\n",
       "  <th>_Total_debt_to_Total_net_worth</th>         <td>    0.6271</td> <td>    0.181</td> <td>    3.474</td> <td> 0.001</td> <td>    0.273</td> <td>    0.981</td>\n",
       "</tr>\n",
       "<tr>\n",
       "  <th>_Accounts_Receivable_Turnover</th>          <td>   -0.5734</td> <td>    0.142</td> <td>   -4.035</td> <td> 0.000</td> <td>   -0.852</td> <td>   -0.295</td>\n",
       "</tr>\n",
       "<tr>\n",
       "  <th>_Quick_Assets_to_Total_Assets</th>          <td>   -0.3827</td> <td>    0.147</td> <td>   -2.603</td> <td> 0.009</td> <td>   -0.671</td> <td>   -0.095</td>\n",
       "</tr>\n",
       "<tr>\n",
       "  <th>_Inventory_to_Working_Capital</th>          <td>   -0.2614</td> <td>    0.101</td> <td>   -2.577</td> <td> 0.010</td> <td>   -0.460</td> <td>   -0.063</td>\n",
       "</tr>\n",
       "<tr>\n",
       "  <th>_Total_income_to_Total_expense</th>         <td>   -1.2305</td> <td>    0.160</td> <td>   -7.709</td> <td> 0.000</td> <td>   -1.543</td> <td>   -0.918</td>\n",
       "</tr>\n",
       "<tr>\n",
       "  <th>_Total_expense_to_Assets</th>               <td>    0.4115</td> <td>    0.119</td> <td>    3.449</td> <td> 0.001</td> <td>    0.178</td> <td>    0.645</td>\n",
       "</tr>\n",
       "<tr>\n",
       "  <th>_Cash_Turnover_Rate</th>                    <td>   -0.2977</td> <td>    0.130</td> <td>   -2.291</td> <td> 0.022</td> <td>   -0.552</td> <td>   -0.043</td>\n",
       "</tr>\n",
       "<tr>\n",
       "  <th>_Cash_Flow_to_Liability</th>                <td>   -0.2807</td> <td>    0.135</td> <td>   -2.076</td> <td> 0.038</td> <td>   -0.546</td> <td>   -0.016</td>\n",
       "</tr>\n",
       "<tr>\n",
       "  <th>_No_credit_Interval</th>                    <td>   -0.3235</td> <td>    0.128</td> <td>   -2.532</td> <td> 0.011</td> <td>   -0.574</td> <td>   -0.073</td>\n",
       "</tr>\n",
       "<tr>\n",
       "  <th>_Equity_to_Liability</th>                   <td>   -0.5419</td> <td>    0.266</td> <td>   -2.033</td> <td> 0.042</td> <td>   -1.064</td> <td>   -0.020</td>\n",
       "</tr>\n",
       "</table>"
      ],
      "text/plain": [
       "<class 'statsmodels.iolib.summary.Summary'>\n",
       "\"\"\"\n",
       "                           Logit Regression Results                           \n",
       "==============================================================================\n",
       "Dep. Variable:                Default   No. Observations:                 1378\n",
       "Model:                          Logit   Df Residuals:                     1365\n",
       "Method:                           MLE   Df Model:                           12\n",
       "Date:                Sun, 19 Nov 2023   Pseudo R-squ.:                  0.4109\n",
       "Time:                        18:30:58   Log-Likelihood:                -275.62\n",
       "converged:                       True   LL-Null:                       -467.84\n",
       "Covariance Type:            nonrobust   LLR p-value:                 7.427e-75\n",
       "==========================================================================================================\n",
       "                                             coef    std err          z      P>|z|      [0.025      0.975]\n",
       "----------------------------------------------------------------------------------------------------------\n",
       "Intercept                                 -3.6544      0.212    -17.228      0.000      -4.070      -3.239\n",
       "_Research_and_development_expense_rate     0.2117      0.109      1.940      0.052      -0.002       0.426\n",
       "_Interest_bearing_debt_interest_rate       0.2501      0.133      1.884      0.060      -0.010       0.510\n",
       "_Total_debt_to_Total_net_worth             0.6271      0.181      3.474      0.001       0.273       0.981\n",
       "_Accounts_Receivable_Turnover             -0.5734      0.142     -4.035      0.000      -0.852      -0.295\n",
       "_Quick_Assets_to_Total_Assets             -0.3827      0.147     -2.603      0.009      -0.671      -0.095\n",
       "_Inventory_to_Working_Capital             -0.2614      0.101     -2.577      0.010      -0.460      -0.063\n",
       "_Total_income_to_Total_expense            -1.2305      0.160     -7.709      0.000      -1.543      -0.918\n",
       "_Total_expense_to_Assets                   0.4115      0.119      3.449      0.001       0.178       0.645\n",
       "_Cash_Turnover_Rate                       -0.2977      0.130     -2.291      0.022      -0.552      -0.043\n",
       "_Cash_Flow_to_Liability                   -0.2807      0.135     -2.076      0.038      -0.546      -0.016\n",
       "_No_credit_Interval                       -0.3235      0.128     -2.532      0.011      -0.574      -0.073\n",
       "_Equity_to_Liability                      -0.5419      0.266     -2.033      0.042      -1.064      -0.020\n",
       "==========================================================================================================\n",
       "\"\"\""
      ]
     },
     "execution_count": 84,
     "metadata": {},
     "output_type": "execute_result"
    }
   ],
   "source": [
    "model_3.summary()"
   ]
  },
  {
   "cell_type": "code",
   "execution_count": 85,
   "id": "6893ee3f",
   "metadata": {},
   "outputs": [],
   "source": [
    "## _Interest_bearing_debt_interest_rate is insignificant , so we remove it "
   ]
  },
  {
   "cell_type": "code",
   "execution_count": 86,
   "id": "3c386020",
   "metadata": {},
   "outputs": [],
   "source": [
    "f_1 = 'Default ~ _Research_and_development_expense_rate + _Total_debt_to_Total_net_worth + _Accounts_Receivable_Turnover + _Quick_Assets_to_Total_Assets + _Inventory_to_Working_Capital + _Total_income_to_Total_expense + _Total_expense_to_Assets + _Cash_Turnover_Rate + _Cash_Flow_to_Liability + _No_credit_Interval + _Equity_to_Liability'"
   ]
  },
  {
   "cell_type": "code",
   "execution_count": 87,
   "id": "a7df38f9",
   "metadata": {},
   "outputs": [
    {
     "name": "stdout",
     "output_type": "stream",
     "text": [
      "Optimization terminated successfully.\n",
      "         Current function value: 0.201305\n",
      "         Iterations 8\n"
     ]
    }
   ],
   "source": [
    "model_4 = SM.logit(formula = f_1, data= train).fit()"
   ]
  },
  {
   "cell_type": "code",
   "execution_count": 88,
   "id": "1bbf68ff",
   "metadata": {},
   "outputs": [
    {
     "data": {
      "text/html": [
       "<table class=\"simpletable\">\n",
       "<caption>Logit Regression Results</caption>\n",
       "<tr>\n",
       "  <th>Dep. Variable:</th>        <td>Default</td>     <th>  No. Observations:  </th>  <td>  1378</td>  \n",
       "</tr>\n",
       "<tr>\n",
       "  <th>Model:</th>                 <td>Logit</td>      <th>  Df Residuals:      </th>  <td>  1366</td>  \n",
       "</tr>\n",
       "<tr>\n",
       "  <th>Method:</th>                 <td>MLE</td>       <th>  Df Model:          </th>  <td>    11</td>  \n",
       "</tr>\n",
       "<tr>\n",
       "  <th>Date:</th>            <td>Sun, 19 Nov 2023</td> <th>  Pseudo R-squ.:     </th>  <td>0.4071</td>  \n",
       "</tr>\n",
       "<tr>\n",
       "  <th>Time:</th>                <td>18:32:14</td>     <th>  Log-Likelihood:    </th> <td> -277.40</td> \n",
       "</tr>\n",
       "<tr>\n",
       "  <th>converged:</th>             <td>True</td>       <th>  LL-Null:           </th> <td> -467.84</td> \n",
       "</tr>\n",
       "<tr>\n",
       "  <th>Covariance Type:</th>     <td>nonrobust</td>    <th>  LLR p-value:       </th> <td>6.935e-75</td>\n",
       "</tr>\n",
       "</table>\n",
       "<table class=\"simpletable\">\n",
       "<tr>\n",
       "                     <td></td>                       <th>coef</th>     <th>std err</th>      <th>z</th>      <th>P>|z|</th>  <th>[0.025</th>    <th>0.975]</th>  \n",
       "</tr>\n",
       "<tr>\n",
       "  <th>Intercept</th>                              <td>   -3.6119</td> <td>    0.207</td> <td>  -17.431</td> <td> 0.000</td> <td>   -4.018</td> <td>   -3.206</td>\n",
       "</tr>\n",
       "<tr>\n",
       "  <th>_Research_and_development_expense_rate</th> <td>    0.2103</td> <td>    0.109</td> <td>    1.938</td> <td> 0.053</td> <td>   -0.002</td> <td>    0.423</td>\n",
       "</tr>\n",
       "<tr>\n",
       "  <th>_Total_debt_to_Total_net_worth</th>         <td>    0.6431</td> <td>    0.180</td> <td>    3.577</td> <td> 0.000</td> <td>    0.291</td> <td>    0.996</td>\n",
       "</tr>\n",
       "<tr>\n",
       "  <th>_Accounts_Receivable_Turnover</th>          <td>   -0.6001</td> <td>    0.142</td> <td>   -4.218</td> <td> 0.000</td> <td>   -0.879</td> <td>   -0.321</td>\n",
       "</tr>\n",
       "<tr>\n",
       "  <th>_Quick_Assets_to_Total_Assets</th>          <td>   -0.4323</td> <td>    0.144</td> <td>   -3.008</td> <td> 0.003</td> <td>   -0.714</td> <td>   -0.151</td>\n",
       "</tr>\n",
       "<tr>\n",
       "  <th>_Inventory_to_Working_Capital</th>          <td>   -0.2632</td> <td>    0.101</td> <td>   -2.600</td> <td> 0.009</td> <td>   -0.462</td> <td>   -0.065</td>\n",
       "</tr>\n",
       "<tr>\n",
       "  <th>_Total_income_to_Total_expense</th>         <td>   -1.1782</td> <td>    0.155</td> <td>   -7.616</td> <td> 0.000</td> <td>   -1.481</td> <td>   -0.875</td>\n",
       "</tr>\n",
       "<tr>\n",
       "  <th>_Total_expense_to_Assets</th>               <td>    0.4208</td> <td>    0.119</td> <td>    3.537</td> <td> 0.000</td> <td>    0.188</td> <td>    0.654</td>\n",
       "</tr>\n",
       "<tr>\n",
       "  <th>_Cash_Turnover_Rate</th>                    <td>   -0.3161</td> <td>    0.129</td> <td>   -2.444</td> <td> 0.015</td> <td>   -0.570</td> <td>   -0.063</td>\n",
       "</tr>\n",
       "<tr>\n",
       "  <th>_Cash_Flow_to_Liability</th>                <td>   -0.2742</td> <td>    0.135</td> <td>   -2.031</td> <td> 0.042</td> <td>   -0.539</td> <td>   -0.010</td>\n",
       "</tr>\n",
       "<tr>\n",
       "  <th>_No_credit_Interval</th>                    <td>   -0.3644</td> <td>    0.126</td> <td>   -2.896</td> <td> 0.004</td> <td>   -0.611</td> <td>   -0.118</td>\n",
       "</tr>\n",
       "<tr>\n",
       "  <th>_Equity_to_Liability</th>                   <td>   -0.5596</td> <td>    0.268</td> <td>   -2.087</td> <td> 0.037</td> <td>   -1.085</td> <td>   -0.034</td>\n",
       "</tr>\n",
       "</table>"
      ],
      "text/plain": [
       "<class 'statsmodels.iolib.summary.Summary'>\n",
       "\"\"\"\n",
       "                           Logit Regression Results                           \n",
       "==============================================================================\n",
       "Dep. Variable:                Default   No. Observations:                 1378\n",
       "Model:                          Logit   Df Residuals:                     1366\n",
       "Method:                           MLE   Df Model:                           11\n",
       "Date:                Sun, 19 Nov 2023   Pseudo R-squ.:                  0.4071\n",
       "Time:                        18:32:14   Log-Likelihood:                -277.40\n",
       "converged:                       True   LL-Null:                       -467.84\n",
       "Covariance Type:            nonrobust   LLR p-value:                 6.935e-75\n",
       "==========================================================================================================\n",
       "                                             coef    std err          z      P>|z|      [0.025      0.975]\n",
       "----------------------------------------------------------------------------------------------------------\n",
       "Intercept                                 -3.6119      0.207    -17.431      0.000      -4.018      -3.206\n",
       "_Research_and_development_expense_rate     0.2103      0.109      1.938      0.053      -0.002       0.423\n",
       "_Total_debt_to_Total_net_worth             0.6431      0.180      3.577      0.000       0.291       0.996\n",
       "_Accounts_Receivable_Turnover             -0.6001      0.142     -4.218      0.000      -0.879      -0.321\n",
       "_Quick_Assets_to_Total_Assets             -0.4323      0.144     -3.008      0.003      -0.714      -0.151\n",
       "_Inventory_to_Working_Capital             -0.2632      0.101     -2.600      0.009      -0.462      -0.065\n",
       "_Total_income_to_Total_expense            -1.1782      0.155     -7.616      0.000      -1.481      -0.875\n",
       "_Total_expense_to_Assets                   0.4208      0.119      3.537      0.000       0.188       0.654\n",
       "_Cash_Turnover_Rate                       -0.3161      0.129     -2.444      0.015      -0.570      -0.063\n",
       "_Cash_Flow_to_Liability                   -0.2742      0.135     -2.031      0.042      -0.539      -0.010\n",
       "_No_credit_Interval                       -0.3644      0.126     -2.896      0.004      -0.611      -0.118\n",
       "_Equity_to_Liability                      -0.5596      0.268     -2.087      0.037      -1.085      -0.034\n",
       "==========================================================================================================\n",
       "\"\"\""
      ]
     },
     "execution_count": 88,
     "metadata": {},
     "output_type": "execute_result"
    }
   ],
   "source": [
    "model_4.summary()"
   ]
  },
  {
   "cell_type": "code",
   "execution_count": 89,
   "id": "e203f165",
   "metadata": {},
   "outputs": [],
   "source": [
    "Default_train = pd.concat([X_train, y_train], axis = 1)\n",
    "Default_test = pd.concat([X_test, y_test], axis = 1)"
   ]
  },
  {
   "cell_type": "code",
   "execution_count": 90,
   "id": "3fd30737",
   "metadata": {},
   "outputs": [],
   "source": [
    "y_prob_pred_train = model_4.predict(train)"
   ]
  },
  {
   "cell_type": "code",
   "execution_count": 91,
   "id": "6628bb38",
   "metadata": {},
   "outputs": [],
   "source": [
    "from sklearn.metrics import roc_curve\n",
    "fpr, tpr, thresholds = roc_curve(train['Default'],y_prob_pred_train)"
   ]
  },
  {
   "cell_type": "code",
   "execution_count": 92,
   "id": "081f334f",
   "metadata": {},
   "outputs": [
    {
     "data": {
      "text/plain": [
       "0.09004355711956494"
      ]
     },
     "execution_count": 92,
     "metadata": {},
     "output_type": "execute_result"
    }
   ],
   "source": [
    "optimal_idx = np.argmax(tpr - fpr)\n",
    "optimal_threshold = thresholds[optimal_idx]\n",
    "optimal_threshold"
   ]
  },
  {
   "cell_type": "markdown",
   "id": "ec3734d8",
   "metadata": {},
   "source": [
    "## PART A: Validate the Model on Test Dataset and state the performance metrics. Also state interpretation from the model"
   ]
  },
  {
   "cell_type": "code",
   "execution_count": 93,
   "id": "bfd7937c",
   "metadata": {},
   "outputs": [],
   "source": [
    "y_prob_pred_test = model_4.predict(test)"
   ]
  },
  {
   "cell_type": "code",
   "execution_count": 94,
   "id": "ccf55e02",
   "metadata": {},
   "outputs": [],
   "source": [
    "y_class_pred=[]\n",
    "for i in range(0,len(y_prob_pred_test)):\n",
    "    if np.array(y_prob_pred_test)[i]>0.09:\n",
    "        a=1\n",
    "    else:\n",
    "        a=0\n",
    "    y_class_pred.append(a)"
   ]
  },
  {
   "cell_type": "code",
   "execution_count": 95,
   "id": "59d02a7d",
   "metadata": {},
   "outputs": [],
   "source": [
    "import sklearn.metrics as metrics"
   ]
  },
  {
   "cell_type": "code",
   "execution_count": 96,
   "id": "edf5b531",
   "metadata": {},
   "outputs": [
    {
     "data": {
      "image/png": "[encoded data removed]",
      "text/plain": [
       "<Figure size 640x480 with 2 Axes>"
      ]
     },
     "metadata": {},
     "output_type": "display_data"
    }
   ],
   "source": [
    "sns.heatmap((metrics.confusion_matrix(test['Default'],y_class_pred)),annot=True,fmt='.5g'\n",
    "            ,cmap='Blues');\n",
    "plt.xlabel('Predicted');\n",
    "plt.ylabel('Actuals',rotation=0);"
   ]
  },
  {
   "cell_type": "code",
   "execution_count": 97,
   "id": "fabf80d3",
   "metadata": {},
   "outputs": [
    {
     "name": "stdout",
     "output_type": "stream",
     "text": [
      "              precision    recall  f1-score   support\n",
      "\n",
      "         0.0      0.975     0.824     0.893       607\n",
      "         1.0      0.359     0.822     0.500        73\n",
      "\n",
      "    accuracy                          0.824       680\n",
      "   macro avg      0.667     0.823     0.696       680\n",
      "weighted avg      0.909     0.824     0.851       680\n",
      "\n"
     ]
    }
   ],
   "source": [
    "print(metrics.classification_report(test['Default'],y_class_pred,digits=3))"
   ]
  },
  {
   "cell_type": "code",
   "execution_count": 109,
   "id": "f678fa52",
   "metadata": {},
   "outputs": [
    {
     "data": {
      "text/plain": [
       "0      0.001860\n",
       "1      0.001388\n",
       "2      0.007675\n",
       "3      0.001656\n",
       "4      0.001978\n",
       "         ...   \n",
       "675    0.080990\n",
       "676    0.055263\n",
       "677    0.005115\n",
       "678    0.003353\n",
       "679    0.043602\n",
       "Length: 680, dtype: float64"
      ]
     },
     "execution_count": 109,
     "metadata": {},
     "output_type": "execute_result"
    }
   ],
   "source": [
    "y_prob_pred_test[:]"
   ]
  },
  {
   "cell_type": "code",
   "execution_count": 105,
   "id": "e193fd65",
   "metadata": {},
   "outputs": [
    {
     "data": {
      "text/plain": [
       "0      0.0\n",
       "1      0.0\n",
       "2      0.0\n",
       "3      0.0\n",
       "4      0.0\n",
       "      ... \n",
       "675    0.0\n",
       "676    0.0\n",
       "677    0.0\n",
       "678    0.0\n",
       "679    0.0\n",
       "Name: Default, Length: 680, dtype: float64"
      ]
     },
     "execution_count": 105,
     "metadata": {},
     "output_type": "execute_result"
    }
   ],
   "source": [
    "y_test"
   ]
  },
  {
   "cell_type": "code",
   "execution_count": 111,
   "id": "ef434ca1",
   "metadata": {},
   "outputs": [
    {
     "data": {
      "image/png": "[encoded data removed]",
      "text/plain": [
       "<Figure size 640x480 with 1 Axes>"
      ]
     },
     "metadata": {},
     "output_type": "display_data"
    }
   ],
   "source": [
    "fpr, tpr, thresholds = metrics.roc_curve(y_test,y_prob_pred_test[:])\n",
    "plt.plot([0, 1], [0, 1], linestyle='--')\n",
    "# plot the roc curve for the model\n",
    "plt.plot(fpr, tpr, marker='.',label='Test Data')\n",
    "# show the plot\n",
    "plt.legend(loc='best')\n",
    "plt.xlabel('False Positive Rate')\n",
    "plt.ylabel('True Positive Rate')\n",
    "plt.title(\"ROC Curve Logistic Regression\")\n",
    "plt.show()"
   ]
  },
  {
   "cell_type": "markdown",
   "id": "09d541ab",
   "metadata": {},
   "source": [
    "## PART A: Build a Random Forest Model on Train Dataset. Also showcase your model building approach"
   ]
  },
  {
   "cell_type": "code",
   "execution_count": 116,
   "id": "7a792585",
   "metadata": {},
   "outputs": [],
   "source": [
    "X_train = df_imputed_train.drop('Default', axis = 1)\n",
    "y_train = df_imputed_train['Default']\n",
    "X_test = df_imputed_test.drop('Default', axis = 1)\n",
    "y_test = df_imputed_test['Default']"
   ]
  },
  {
   "cell_type": "code",
   "execution_count": 117,
   "id": "29f69b78",
   "metadata": {},
   "outputs": [
    {
     "data": {
      "text/plain": [
       "RandomForestClassifier(random_state=42)"
      ]
     },
     "execution_count": 117,
     "metadata": {},
     "output_type": "execute_result"
    }
   ],
   "source": [
    "from sklearn.ensemble import RandomForestClassifier\n",
    "\n",
    "RF_model=RandomForestClassifier(n_estimators=100,random_state=42)\n",
    "RF_model.fit(X_train, y_train)"
   ]
  },
  {
   "cell_type": "code",
   "execution_count": 118,
   "id": "9e3b67c2",
   "metadata": {},
   "outputs": [
    {
     "data": {
      "text/plain": [
       "RandomForestClassifier(random_state=42)"
      ]
     },
     "execution_count": 118,
     "metadata": {},
     "output_type": "execute_result"
    }
   ],
   "source": [
    "RF_model"
   ]
  },
  {
   "cell_type": "markdown",
   "id": "fb0567cf",
   "metadata": {},
   "source": [
    "## PART A: Validate the Random Forest Model on test Dataset and state the performance metrics. Also state interpretation from the model"
   ]
  },
  {
   "cell_type": "code",
   "execution_count": 119,
   "id": "edfc98ba",
   "metadata": {},
   "outputs": [
    {
     "name": "stdout",
     "output_type": "stream",
     "text": [
      "[[592  15]\n",
      " [ 43  30]]\n",
      "              precision    recall  f1-score   support\n",
      "\n",
      "         0.0       0.93      0.98      0.95       607\n",
      "         1.0       0.67      0.41      0.51        73\n",
      "\n",
      "    accuracy                           0.91       680\n",
      "   macro avg       0.80      0.69      0.73       680\n",
      "weighted avg       0.90      0.91      0.91       680\n",
      "\n",
      "0.9\n"
     ]
    }
   ],
   "source": [
    "y_test_predict = RF_model.predict(X_test)\n",
    "y_test_proba = RF_model.predict_proba(X_test)[:,1]\n",
    "RF_test_accuracy = RF_model.score(X_test, y_test)\n",
    "print(metrics.confusion_matrix(y_test, y_test_predict))\n",
    "print(metrics.classification_report(y_test, y_test_predict))\n",
    "RF_test_AUC = round(metrics.roc_auc_score(y_test,y_test_proba),2)\n",
    "print(RF_test_AUC)"
   ]
  },
  {
   "cell_type": "code",
   "execution_count": 120,
   "id": "8b104488",
   "metadata": {},
   "outputs": [
    {
     "data": {
      "image/png": "[encoded data removed]",
      "text/plain": [
       "<Figure size 640x480 with 2 Axes>"
      ]
     },
     "metadata": {},
     "output_type": "display_data"
    }
   ],
   "source": [
    "sns.heatmap((metrics.confusion_matrix(y_test, y_test_predict)),annot=True,fmt='.5g'\n",
    "            ,cmap='Blues');\n",
    "plt.xlabel('Predicted');\n",
    "plt.ylabel('Actuals',rotation=0);"
   ]
  },
  {
   "cell_type": "code",
   "execution_count": 125,
   "id": "b5b3a28b",
   "metadata": {
    "scrolled": true
   },
   "outputs": [
    {
     "data": {
      "image/png": "[encoded data removed]",
      "text/plain": [
       "<Figure size 640x480 with 1 Axes>"
      ]
     },
     "metadata": {},
     "output_type": "display_data"
    }
   ],
   "source": [
    "fpr, tpr, thresholds = metrics.roc_curve(y_test,y_test_proba)\n",
    "plt.plot([0, 1], [0, 1], linestyle='--')\n",
    "# plot the roc curve for the model\n",
    "plt.plot(fpr, tpr, marker='.',label='Test Data')\n",
    "# show the plot\n",
    "plt.legend(loc='best')\n",
    "plt.xlabel('False Positive Rate')\n",
    "plt.ylabel('True Positive Rate')\n",
    "plt.title(\"ROC Curve Random Forest\")\n",
    "plt.show()"
   ]
  },
  {
   "cell_type": "markdown",
   "id": "8bf85c6f",
   "metadata": {},
   "source": [
    "## PART A: Build a LDA Model on Train Dataset. Also showcase your model building approach"
   ]
  },
  {
   "cell_type": "code",
   "execution_count": 128,
   "id": "c0f2b203",
   "metadata": {},
   "outputs": [],
   "source": [
    "from sklearn.discriminant_analysis import LinearDiscriminantAnalysis"
   ]
  },
  {
   "cell_type": "code",
   "execution_count": 129,
   "id": "fb57abf7",
   "metadata": {},
   "outputs": [
    {
     "data": {
      "text/plain": [
       "LinearDiscriminantAnalysis()"
      ]
     },
     "execution_count": 129,
     "metadata": {},
     "output_type": "execute_result"
    }
   ],
   "source": [
    "clf = LinearDiscriminantAnalysis()\n",
    "model_LDA=clf.fit(X_train,y_train)\n",
    "model_LDA"
   ]
  },
  {
   "cell_type": "code",
   "execution_count": 133,
   "id": "2798ad55",
   "metadata": {},
   "outputs": [],
   "source": [
    "pred_class_train = model_LDA.predict(X_train)\n",
    "pred_class_test = model_LDA.predict(X_test)"
   ]
  },
  {
   "cell_type": "markdown",
   "id": "fb58571b",
   "metadata": {},
   "source": [
    "## PART A: Validate the LDA Model on test Dataset and state the performance metrics. Also state interpretation from the model"
   ]
  },
  {
   "cell_type": "code",
   "execution_count": 134,
   "id": "92616eef",
   "metadata": {},
   "outputs": [
    {
     "name": "stdout",
     "output_type": "stream",
     "text": [
      "Classification Report of the test data:\n",
      "\n",
      "               precision    recall  f1-score   support\n",
      "\n",
      "         0.0       0.94      0.94      0.94       607\n",
      "         1.0       0.49      0.47      0.48        73\n",
      "\n",
      "    accuracy                           0.89       680\n",
      "   macro avg       0.71      0.70      0.71       680\n",
      "weighted avg       0.89      0.89      0.89       680\n",
      " \n",
      "\n"
     ]
    }
   ],
   "source": [
    "print('Classification Report of the test data:\\n\\n',metrics.classification_report(y_test,pred_class_test),'\\n')"
   ]
  },
  {
   "cell_type": "code",
   "execution_count": 135,
   "id": "34db37da",
   "metadata": {},
   "outputs": [],
   "source": [
    "pred_prob_test = model_LDA.predict_proba(X_test)"
   ]
  },
  {
   "cell_type": "code",
   "execution_count": 136,
   "id": "2db6c29d",
   "metadata": {},
   "outputs": [
    {
     "data": {
      "image/png": "[encoded data removed]",
      "text/plain": [
       "<Figure size 640x480 with 1 Axes>"
      ]
     },
     "metadata": {},
     "output_type": "display_data"
    }
   ],
   "source": [
    "fpr, tpr, thresholds = metrics.roc_curve(y_test,pred_prob_test[:,1])\n",
    "plt.plot([0, 1], [0, 1], linestyle='--')\n",
    "# plot the roc curve for the model\n",
    "plt.plot(fpr, tpr, marker='.',label='Test Data')\n",
    "# show the plot\n",
    "plt.legend(loc='best')\n",
    "plt.xlabel('False Positive Rate')\n",
    "plt.ylabel('True Positive Rate')\n",
    "plt.title(\"ROC Curve LDA\")\n",
    "plt.show()"
   ]
  },
  {
   "cell_type": "code",
   "execution_count": 137,
   "id": "b3236784",
   "metadata": {},
   "outputs": [
    {
     "data": {
      "image/png": "[encoded data removed]",
      "text/plain": [
       "<Figure size 640x480 with 2 Axes>"
      ]
     },
     "metadata": {},
     "output_type": "display_data"
    }
   ],
   "source": [
    "sns.heatmap((metrics.confusion_matrix(y_test, pred_class_test)),annot=True,fmt='.5g'\n",
    "            ,cmap='Blues');\n",
    "plt.xlabel('Predicted');\n",
    "plt.ylabel('Actuals',rotation=0);"
   ]
  },
  {
   "cell_type": "markdown",
   "id": "e03773a6",
   "metadata": {},
   "source": [
    "## PART A: Compare the performances of Logistic Regression, Random Forest, and LDA models (include ROC curve)"
   ]
  },
  {
   "cell_type": "markdown",
   "id": "98183f9f",
   "metadata": {},
   "source": [
    "## PART A: Conclusions and Recommendations"
   ]
  },
  {
   "cell_type": "markdown",
   "id": "8190ea86",
   "metadata": {},
   "source": [
    "## PART A: Univariate (4 marks) & Bivariate (6 marks) analysis with proper interpretation. (You may choose to include only those variables which were significant in the model building)"
   ]
  },
  {
   "cell_type": "code",
   "execution_count": 145,
   "id": "8c160e16",
   "metadata": {},
   "outputs": [
    {
     "data": {
      "text/html": [
       "<div>\n",
       "<style scoped>\n",
       "    .dataframe tbody tr th:only-of-type {\n",
       "        vertical-align: middle;\n",
       "    }\n",
       "\n",
       "    .dataframe tbody tr th {\n",
       "        vertical-align: top;\n",
       "    }\n",
       "\n",
       "    .dataframe thead th {\n",
       "        text-align: right;\n",
       "    }\n",
       "</style>\n",
       "<table border=\"1\" class=\"dataframe\">\n",
       "  <thead>\n",
       "    <tr style=\"text-align: right;\">\n",
       "      <th></th>\n",
       "      <th>_Operating_Expense_Rate</th>\n",
       "      <th>_Research_and_development_expense_rate</th>\n",
       "      <th>_Cash_flow_rate</th>\n",
       "      <th>_Interest_bearing_debt_interest_rate</th>\n",
       "      <th>_Tax_rate_A</th>\n",
       "      <th>_Cash_Flow_Per_Share</th>\n",
       "      <th>_Per_Share_Net_profit_before_tax_Yuan_</th>\n",
       "      <th>_Realized_Sales_Gross_Profit_Growth_Rate</th>\n",
       "      <th>_Operating_Profit_Growth_Rate</th>\n",
       "      <th>_Continuous_Net_Profit_Growth_Rate</th>\n",
       "      <th>...</th>\n",
       "      <th>_Cash_Flow_to_Liability</th>\n",
       "      <th>_CFO_to_Assets</th>\n",
       "      <th>_Cash_Flow_to_Equity</th>\n",
       "      <th>_Current_Liability_to_Current_Assets</th>\n",
       "      <th>_Total_assets_to_GNP_price</th>\n",
       "      <th>_No_credit_Interval</th>\n",
       "      <th>_Degree_of_Financial_Leverage_DFL</th>\n",
       "      <th>_Interest_Coverage_Ratio_Interest_expense_to_EBIT</th>\n",
       "      <th>_Equity_to_Liability</th>\n",
       "      <th>Default</th>\n",
       "    </tr>\n",
       "  </thead>\n",
       "  <tbody>\n",
       "    <tr>\n",
       "      <th>0</th>\n",
       "      <td>2.081168</td>\n",
       "      <td>-0.516860</td>\n",
       "      <td>-0.308453</td>\n",
       "      <td>-0.381617</td>\n",
       "      <td>-0.827491</td>\n",
       "      <td>0.214266</td>\n",
       "      <td>1.264019</td>\n",
       "      <td>-0.336136</td>\n",
       "      <td>-0.173342</td>\n",
       "      <td>-0.249595</td>\n",
       "      <td>...</td>\n",
       "      <td>-0.454730</td>\n",
       "      <td>-0.122180</td>\n",
       "      <td>-1.311543</td>\n",
       "      <td>0.191528</td>\n",
       "      <td>NaN</td>\n",
       "      <td>NaN</td>\n",
       "      <td>0.480066</td>\n",
       "      <td>0.261839</td>\n",
       "      <td>-1.062182</td>\n",
       "      <td>0</td>\n",
       "    </tr>\n",
       "    <tr>\n",
       "      <th>1</th>\n",
       "      <td>2.253378</td>\n",
       "      <td>NaN</td>\n",
       "      <td>-0.641492</td>\n",
       "      <td>1.067984</td>\n",
       "      <td>-0.839204</td>\n",
       "      <td>-0.650263</td>\n",
       "      <td>-1.002647</td>\n",
       "      <td>NaN</td>\n",
       "      <td>NaN</td>\n",
       "      <td>NaN</td>\n",
       "      <td>...</td>\n",
       "      <td>-0.054284</td>\n",
       "      <td>-0.671677</td>\n",
       "      <td>0.000709</td>\n",
       "      <td>0.638247</td>\n",
       "      <td>0.784135</td>\n",
       "      <td>-2.554392</td>\n",
       "      <td>NaN</td>\n",
       "      <td>NaN</td>\n",
       "      <td>-0.080368</td>\n",
       "      <td>1</td>\n",
       "    </tr>\n",
       "    <tr>\n",
       "      <th>2</th>\n",
       "      <td>0.537423</td>\n",
       "      <td>0.327609</td>\n",
       "      <td>-2.406308</td>\n",
       "      <td>0.191853</td>\n",
       "      <td>-0.839204</td>\n",
       "      <td>-2.574817</td>\n",
       "      <td>-0.248825</td>\n",
       "      <td>1.345182</td>\n",
       "      <td>1.610975</td>\n",
       "      <td>-0.797439</td>\n",
       "      <td>...</td>\n",
       "      <td>0.084190</td>\n",
       "      <td>-2.589857</td>\n",
       "      <td>0.073774</td>\n",
       "      <td>0.101821</td>\n",
       "      <td>-0.663251</td>\n",
       "      <td>-0.034903</td>\n",
       "      <td>2.463565</td>\n",
       "      <td>1.507954</td>\n",
       "      <td>0.773827</td>\n",
       "      <td>0</td>\n",
       "    </tr>\n",
       "    <tr>\n",
       "      <th>3</th>\n",
       "      <td>1.349273</td>\n",
       "      <td>-0.516860</td>\n",
       "      <td>-0.190007</td>\n",
       "      <td>0.574162</td>\n",
       "      <td>-0.762232</td>\n",
       "      <td>-0.120251</td>\n",
       "      <td>-0.098060</td>\n",
       "      <td>NaN</td>\n",
       "      <td>NaN</td>\n",
       "      <td>2.038620</td>\n",
       "      <td>...</td>\n",
       "      <td>0.799397</td>\n",
       "      <td>-0.114746</td>\n",
       "      <td>0.859157</td>\n",
       "      <td>-1.027225</td>\n",
       "      <td>0.090555</td>\n",
       "      <td>-1.638602</td>\n",
       "      <td>0.811180</td>\n",
       "      <td>0.517715</td>\n",
       "      <td>-0.253590</td>\n",
       "      <td>0</td>\n",
       "    </tr>\n",
       "    <tr>\n",
       "      <th>4</th>\n",
       "      <td>0.500521</td>\n",
       "      <td>-0.516860</td>\n",
       "      <td>-0.123400</td>\n",
       "      <td>1.330821</td>\n",
       "      <td>2.468920</td>\n",
       "      <td>0.527060</td>\n",
       "      <td>0.026710</td>\n",
       "      <td>-0.366632</td>\n",
       "      <td>-0.522386</td>\n",
       "      <td>-0.290186</td>\n",
       "      <td>...</td>\n",
       "      <td>0.593293</td>\n",
       "      <td>0.250024</td>\n",
       "      <td>1.128876</td>\n",
       "      <td>0.163944</td>\n",
       "      <td>0.898818</td>\n",
       "      <td>1.329212</td>\n",
       "      <td>NaN</td>\n",
       "      <td>2.048261</td>\n",
       "      <td>-0.744648</td>\n",
       "      <td>0</td>\n",
       "    </tr>\n",
       "    <tr>\n",
       "      <th>...</th>\n",
       "      <td>...</td>\n",
       "      <td>...</td>\n",
       "      <td>...</td>\n",
       "      <td>...</td>\n",
       "      <td>...</td>\n",
       "      <td>...</td>\n",
       "      <td>...</td>\n",
       "      <td>...</td>\n",
       "      <td>...</td>\n",
       "      <td>...</td>\n",
       "      <td>...</td>\n",
       "      <td>...</td>\n",
       "      <td>...</td>\n",
       "      <td>...</td>\n",
       "      <td>...</td>\n",
       "      <td>...</td>\n",
       "      <td>...</td>\n",
       "      <td>...</td>\n",
       "      <td>...</td>\n",
       "      <td>...</td>\n",
       "      <td>...</td>\n",
       "    </tr>\n",
       "    <tr>\n",
       "      <th>2053</th>\n",
       "      <td>-0.631148</td>\n",
       "      <td>NaN</td>\n",
       "      <td>2.284616</td>\n",
       "      <td>-1.783427</td>\n",
       "      <td>0.673463</td>\n",
       "      <td>0.153444</td>\n",
       "      <td>1.144447</td>\n",
       "      <td>0.456280</td>\n",
       "      <td>-0.188904</td>\n",
       "      <td>-0.232000</td>\n",
       "      <td>...</td>\n",
       "      <td>NaN</td>\n",
       "      <td>0.358707</td>\n",
       "      <td>2.078725</td>\n",
       "      <td>-1.829095</td>\n",
       "      <td>-0.854727</td>\n",
       "      <td>1.631546</td>\n",
       "      <td>-0.316624</td>\n",
       "      <td>-0.468487</td>\n",
       "      <td>NaN</td>\n",
       "      <td>0</td>\n",
       "    </tr>\n",
       "    <tr>\n",
       "      <th>2054</th>\n",
       "      <td>-0.631148</td>\n",
       "      <td>-0.516860</td>\n",
       "      <td>0.238020</td>\n",
       "      <td>0.837003</td>\n",
       "      <td>-0.839204</td>\n",
       "      <td>-0.128939</td>\n",
       "      <td>-0.467173</td>\n",
       "      <td>-0.374922</td>\n",
       "      <td>-0.413612</td>\n",
       "      <td>1.261558</td>\n",
       "      <td>...</td>\n",
       "      <td>-2.130659</td>\n",
       "      <td>0.030434</td>\n",
       "      <td>-0.802821</td>\n",
       "      <td>0.017246</td>\n",
       "      <td>-0.723743</td>\n",
       "      <td>0.491103</td>\n",
       "      <td>NaN</td>\n",
       "      <td>NaN</td>\n",
       "      <td>1.610534</td>\n",
       "      <td>0</td>\n",
       "    </tr>\n",
       "    <tr>\n",
       "      <th>2055</th>\n",
       "      <td>-0.631148</td>\n",
       "      <td>NaN</td>\n",
       "      <td>NaN</td>\n",
       "      <td>0.215745</td>\n",
       "      <td>-0.839204</td>\n",
       "      <td>0.861576</td>\n",
       "      <td>-1.460139</td>\n",
       "      <td>NaN</td>\n",
       "      <td>-2.239449</td>\n",
       "      <td>-2.350231</td>\n",
       "      <td>...</td>\n",
       "      <td>-1.430365</td>\n",
       "      <td>1.384751</td>\n",
       "      <td>-0.517491</td>\n",
       "      <td>0.594879</td>\n",
       "      <td>1.746284</td>\n",
       "      <td>-0.098458</td>\n",
       "      <td>-0.824875</td>\n",
       "      <td>-1.044012</td>\n",
       "      <td>1.697065</td>\n",
       "      <td>0</td>\n",
       "    </tr>\n",
       "    <tr>\n",
       "      <th>2056</th>\n",
       "      <td>0.522047</td>\n",
       "      <td>-0.516860</td>\n",
       "      <td>1.871069</td>\n",
       "      <td>0.518410</td>\n",
       "      <td>1.691670</td>\n",
       "      <td>0.149100</td>\n",
       "      <td>-0.160445</td>\n",
       "      <td>1.059526</td>\n",
       "      <td>0.777679</td>\n",
       "      <td>-0.339383</td>\n",
       "      <td>...</td>\n",
       "      <td>1.015564</td>\n",
       "      <td>0.683158</td>\n",
       "      <td>0.379456</td>\n",
       "      <td>-0.778775</td>\n",
       "      <td>0.433925</td>\n",
       "      <td>-0.659439</td>\n",
       "      <td>0.554788</td>\n",
       "      <td>0.321721</td>\n",
       "      <td>1.875890</td>\n",
       "      <td>0</td>\n",
       "    </tr>\n",
       "    <tr>\n",
       "      <th>2057</th>\n",
       "      <td>-0.631148</td>\n",
       "      <td>-0.516860</td>\n",
       "      <td>0.582064</td>\n",
       "      <td>1.506050</td>\n",
       "      <td>-0.839204</td>\n",
       "      <td>1.130927</td>\n",
       "      <td>0.281450</td>\n",
       "      <td>NaN</td>\n",
       "      <td>1.475756</td>\n",
       "      <td>1.532732</td>\n",
       "      <td>...</td>\n",
       "      <td>0.405540</td>\n",
       "      <td>1.746951</td>\n",
       "      <td>0.773102</td>\n",
       "      <td>-0.043514</td>\n",
       "      <td>-0.921273</td>\n",
       "      <td>-0.363956</td>\n",
       "      <td>0.140523</td>\n",
       "      <td>-0.027568</td>\n",
       "      <td>-0.719178</td>\n",
       "      <td>0</td>\n",
       "    </tr>\n",
       "  </tbody>\n",
       "</table>\n",
       "<p>2058 rows × 54 columns</p>\n",
       "</div>"
      ],
      "text/plain": [
       "      _Operating_Expense_Rate  _Research_and_development_expense_rate  \\\n",
       "0                    2.081168                               -0.516860   \n",
       "1                    2.253378                                     NaN   \n",
       "2                    0.537423                                0.327609   \n",
       "3                    1.349273                               -0.516860   \n",
       "4                    0.500521                               -0.516860   \n",
       "...                       ...                                     ...   \n",
       "2053                -0.631148                                     NaN   \n",
       "2054                -0.631148                               -0.516860   \n",
       "2055                -0.631148                                     NaN   \n",
       "2056                 0.522047                               -0.516860   \n",
       "2057                -0.631148                               -0.516860   \n",
       "\n",
       "      _Cash_flow_rate  _Interest_bearing_debt_interest_rate  _Tax_rate_A  \\\n",
       "0           -0.308453                             -0.381617    -0.827491   \n",
       "1           -0.641492                              1.067984    -0.839204   \n",
       "2           -2.406308                              0.191853    -0.839204   \n",
       "3           -0.190007                              0.574162    -0.762232   \n",
       "4           -0.123400                              1.330821     2.468920   \n",
       "...               ...                                   ...          ...   \n",
       "2053         2.284616                             -1.783427     0.673463   \n",
       "2054         0.238020                              0.837003    -0.839204   \n",
       "2055              NaN                              0.215745    -0.839204   \n",
       "2056         1.871069                              0.518410     1.691670   \n",
       "2057         0.582064                              1.506050    -0.839204   \n",
       "\n",
       "      _Cash_Flow_Per_Share  _Per_Share_Net_profit_before_tax_Yuan_  \\\n",
       "0                 0.214266                                1.264019   \n",
       "1                -0.650263                               -1.002647   \n",
       "2                -2.574817                               -0.248825   \n",
       "3                -0.120251                               -0.098060   \n",
       "4                 0.527060                                0.026710   \n",
       "...                    ...                                     ...   \n",
       "2053              0.153444                                1.144447   \n",
       "2054             -0.128939                               -0.467173   \n",
       "2055              0.861576                               -1.460139   \n",
       "2056              0.149100                               -0.160445   \n",
       "2057              1.130927                                0.281450   \n",
       "\n",
       "      _Realized_Sales_Gross_Profit_Growth_Rate  _Operating_Profit_Growth_Rate  \\\n",
       "0                                    -0.336136                      -0.173342   \n",
       "1                                          NaN                            NaN   \n",
       "2                                     1.345182                       1.610975   \n",
       "3                                          NaN                            NaN   \n",
       "4                                    -0.366632                      -0.522386   \n",
       "...                                        ...                            ...   \n",
       "2053                                  0.456280                      -0.188904   \n",
       "2054                                 -0.374922                      -0.413612   \n",
       "2055                                       NaN                      -2.239449   \n",
       "2056                                  1.059526                       0.777679   \n",
       "2057                                       NaN                       1.475756   \n",
       "\n",
       "      _Continuous_Net_Profit_Growth_Rate  ...  _Cash_Flow_to_Liability  \\\n",
       "0                              -0.249595  ...                -0.454730   \n",
       "1                                    NaN  ...                -0.054284   \n",
       "2                              -0.797439  ...                 0.084190   \n",
       "3                               2.038620  ...                 0.799397   \n",
       "4                              -0.290186  ...                 0.593293   \n",
       "...                                  ...  ...                      ...   \n",
       "2053                           -0.232000  ...                      NaN   \n",
       "2054                            1.261558  ...                -2.130659   \n",
       "2055                           -2.350231  ...                -1.430365   \n",
       "2056                           -0.339383  ...                 1.015564   \n",
       "2057                            1.532732  ...                 0.405540   \n",
       "\n",
       "      _CFO_to_Assets  _Cash_Flow_to_Equity  \\\n",
       "0          -0.122180             -1.311543   \n",
       "1          -0.671677              0.000709   \n",
       "2          -2.589857              0.073774   \n",
       "3          -0.114746              0.859157   \n",
       "4           0.250024              1.128876   \n",
       "...              ...                   ...   \n",
       "2053        0.358707              2.078725   \n",
       "2054        0.030434             -0.802821   \n",
       "2055        1.384751             -0.517491   \n",
       "2056        0.683158              0.379456   \n",
       "2057        1.746951              0.773102   \n",
       "\n",
       "      _Current_Liability_to_Current_Assets  _Total_assets_to_GNP_price  \\\n",
       "0                                 0.191528                         NaN   \n",
       "1                                 0.638247                    0.784135   \n",
       "2                                 0.101821                   -0.663251   \n",
       "3                                -1.027225                    0.090555   \n",
       "4                                 0.163944                    0.898818   \n",
       "...                                    ...                         ...   \n",
       "2053                             -1.829095                   -0.854727   \n",
       "2054                              0.017246                   -0.723743   \n",
       "2055                              0.594879                    1.746284   \n",
       "2056                             -0.778775                    0.433925   \n",
       "2057                             -0.043514                   -0.921273   \n",
       "\n",
       "      _No_credit_Interval  _Degree_of_Financial_Leverage_DFL  \\\n",
       "0                     NaN                           0.480066   \n",
       "1               -2.554392                                NaN   \n",
       "2               -0.034903                           2.463565   \n",
       "3               -1.638602                           0.811180   \n",
       "4                1.329212                                NaN   \n",
       "...                   ...                                ...   \n",
       "2053             1.631546                          -0.316624   \n",
       "2054             0.491103                                NaN   \n",
       "2055            -0.098458                          -0.824875   \n",
       "2056            -0.659439                           0.554788   \n",
       "2057            -0.363956                           0.140523   \n",
       "\n",
       "      _Interest_Coverage_Ratio_Interest_expense_to_EBIT  _Equity_to_Liability  \\\n",
       "0                                              0.261839             -1.062182   \n",
       "1                                                   NaN             -0.080368   \n",
       "2                                              1.507954              0.773827   \n",
       "3                                              0.517715             -0.253590   \n",
       "4                                              2.048261             -0.744648   \n",
       "...                                                 ...                   ...   \n",
       "2053                                          -0.468487                   NaN   \n",
       "2054                                                NaN              1.610534   \n",
       "2055                                          -1.044012              1.697065   \n",
       "2056                                           0.321721              1.875890   \n",
       "2057                                          -0.027568             -0.719178   \n",
       "\n",
       "      Default  \n",
       "0           0  \n",
       "1           1  \n",
       "2           0  \n",
       "3           0  \n",
       "4           0  \n",
       "...       ...  \n",
       "2053        0  \n",
       "2054        0  \n",
       "2055        0  \n",
       "2056        0  \n",
       "2057        0  \n",
       "\n",
       "[2058 rows x 54 columns]"
      ]
     },
     "execution_count": 145,
     "metadata": {},
     "output_type": "execute_result"
    }
   ],
   "source": [
    "df_sub3"
   ]
  },
  {
   "cell_type": "code",
   "execution_count": 146,
   "id": "3d064b8d",
   "metadata": {},
   "outputs": [
    {
     "data": {
      "text/plain": [
       "<AxesSubplot:xlabel='Default', ylabel='count'>"
      ]
     },
     "execution_count": 146,
     "metadata": {},
     "output_type": "execute_result"
    },
    {
     "data": {
      "image/png": "[encoded data removed]",
      "text/plain": [
       "<Figure size 640x480 with 1 Axes>"
      ]
     },
     "metadata": {},
     "output_type": "display_data"
    }
   ],
   "source": [
    "sns.countplot(data= df_sub3,x='Default')"
   ]
  },
  {
   "cell_type": "code",
   "execution_count": 148,
   "id": "2e913cbb",
   "metadata": {},
   "outputs": [
    {
     "data": {
      "text/plain": [
       "<AxesSubplot:xlabel='_Total_debt_to_Total_net_worth'>"
      ]
     },
     "execution_count": 148,
     "metadata": {},
     "output_type": "execute_result"
    },
    {
     "data": {
      "image/png": "[encoded data removed]",
      "text/plain": [
       "<Figure size 640x480 with 1 Axes>"
      ]
     },
     "metadata": {},
     "output_type": "display_data"
    }
   ],
   "source": [
    "sns.boxplot(data= df_sub3,x='_Total_debt_to_Total_net_worth')"
   ]
  },
  {
   "cell_type": "code",
   "execution_count": 149,
   "id": "6cad9b01",
   "metadata": {},
   "outputs": [
    {
     "data": {
      "text/plain": [
       "<AxesSubplot:xlabel='_Equity_to_Liability', ylabel='_Cash_Flow_to_Liability'>"
      ]
     },
     "execution_count": 149,
     "metadata": {},
     "output_type": "execute_result"
    },
    {
     "data": {
      "image/png": "[encoded data removed]",
      "text/plain": [
       "<Figure size 640x480 with 1 Axes>"
      ]
     },
     "metadata": {},
     "output_type": "display_data"
    }
   ],
   "source": [
    "sns.scatterplot(data=df_sub3,x='_Equity_to_Liability',y='_Cash_Flow_to_Liability')"
   ]
  },
  {
   "cell_type": "code",
   "execution_count": 150,
   "id": "a12e484d",
   "metadata": {},
   "outputs": [
    {
     "data": {
      "text/plain": [
       "<AxesSubplot:xlabel='_Total_income_to_Total_expense', ylabel='_Total_expense_to_Assets'>"
      ]
     },
     "execution_count": 150,
     "metadata": {},
     "output_type": "execute_result"
    },
    {
     "data": {
      "image/png": "[encoded data removed]",
      "text/plain": [
       "<Figure size 640x480 with 1 Axes>"
      ]
     },
     "metadata": {},
     "output_type": "display_data"
    }
   ],
   "source": [
    "sns.scatterplot(data=df_sub3,x='_Total_income_to_Total_expense',y='_Total_expense_to_Assets')"
   ]
  },
  {
   "cell_type": "code",
   "execution_count": 151,
   "id": "f4090817",
   "metadata": {},
   "outputs": [
    {
     "data": {
      "text/plain": [
       "<AxesSubplot:xlabel='_Cash_Turnover_Rate', ylabel='_Cash_Flow_to_Liability'>"
      ]
     },
     "execution_count": 151,
     "metadata": {},
     "output_type": "execute_result"
    },
    {
     "data": {
      "image/png": "[encoded data removed]",
      "text/plain": [
       "<Figure size 640x480 with 1 Axes>"
      ]
     },
     "metadata": {},
     "output_type": "display_data"
    }
   ],
   "source": [
    "sns.scatterplot(data=df_sub3,x='_Cash_Turnover_Rate',y='_Cash_Flow_to_Liability')"
   ]
  },
  {
   "cell_type": "code",
   "execution_count": 152,
   "id": "b621988d",
   "metadata": {},
   "outputs": [
    {
     "data": {
      "text/plain": [
       "<AxesSubplot:xlabel='Default', ylabel='_Inventory_to_Working_Capital'>"
      ]
     },
     "execution_count": 152,
     "metadata": {},
     "output_type": "execute_result"
    },
    {
     "data": {
      "image/png": "[encoded data removed]",
      "text/plain": [
       "<Figure size 640x480 with 1 Axes>"
      ]
     },
     "metadata": {},
     "output_type": "display_data"
    }
   ],
   "source": [
    "sns.boxplot(data=df_sub3,x='Default',y='_Inventory_to_Working_Capital')"
   ]
  },
  {
   "cell_type": "code",
   "execution_count": null,
   "id": "2bc5ba3c",
   "metadata": {},
   "outputs": [],
   "source": []
  }
 ],
 "metadata": {
  "kernelspec": {
   "display_name": "Python 3 (ipykernel)",
   "language": "python",
   "name": "python3"
  },
  "language_info": {
   "codemirror_mode": {
    "name": "ipython",
    "version": 3
   },
   "file_extension": ".py",
   "mimetype": "text/x-python",
   "name": "python",
   "nbconvert_exporter": "python",
   "pygments_lexer": "ipython3",
   "version": "3.9.13"
  }
 },
 "nbformat": 4,
 "nbformat_minor": 5
}
