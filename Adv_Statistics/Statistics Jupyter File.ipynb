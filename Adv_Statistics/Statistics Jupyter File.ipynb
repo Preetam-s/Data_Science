{
 "cells": [
  {
   "cell_type": "markdown",
   "id": "100e3cae",
   "metadata": {},
   "source": [
    "## Problem 1"
   ]
  },
  {
   "cell_type": "markdown",
   "id": "e2410380",
   "metadata": {},
   "source": [
    "### 1.1"
   ]
  },
  {
   "cell_type": "code",
   "execution_count": 115,
   "id": "314c3164",
   "metadata": {},
   "outputs": [
    {
     "data": {
      "text/plain": [
       "0.617"
      ]
     },
     "execution_count": 115,
     "metadata": {},
     "output_type": "execute_result"
    }
   ],
   "source": [
    "injured = 145\n",
    "Total = 235\n",
    "p = injured/Total\n",
    "np.round(p,4)"
   ]
  },
  {
   "cell_type": "markdown",
   "id": "7ebc8c5d",
   "metadata": {},
   "source": [
    "### 1.2"
   ]
  },
  {
   "cell_type": "code",
   "execution_count": 116,
   "id": "b7faba48",
   "metadata": {},
   "outputs": [
    {
     "data": {
      "text/plain": [
       "0.5234"
      ]
     },
     "execution_count": 116,
     "metadata": {},
     "output_type": "execute_result"
    }
   ],
   "source": [
    "Total = 235\n",
    "forward = 94\n",
    "winger = 29\n",
    "p = (forward+winger)/Total\n",
    "np.round(p,4)"
   ]
  },
  {
   "cell_type": "markdown",
   "id": "b4d20790",
   "metadata": {},
   "source": [
    "### 1.3"
   ]
  },
  {
   "cell_type": "code",
   "execution_count": 117,
   "id": "8f66e067",
   "metadata": {},
   "outputs": [
    {
     "data": {
      "text/plain": [
       "0.1915"
      ]
     },
     "execution_count": 117,
     "metadata": {},
     "output_type": "execute_result"
    }
   ],
   "source": [
    "Total  = 235\n",
    "Sp_fi = 45    # Striker position with Foot Injury\n",
    "p = Sp_fi/Total\n",
    "np.round(p,4)"
   ]
  },
  {
   "cell_type": "markdown",
   "id": "52b821fa",
   "metadata": {},
   "source": [
    "### 1.4"
   ]
  },
  {
   "cell_type": "code",
   "execution_count": 118,
   "id": "66196f9d",
   "metadata": {},
   "outputs": [
    {
     "data": {
      "text/plain": [
       "0.3103"
      ]
     },
     "execution_count": 118,
     "metadata": {},
     "output_type": "execute_result"
    }
   ],
   "source": [
    "total = 145 # total no of injured players\n",
    "striker = 45\n",
    "p = striker/total\n",
    "np.round(p,4)"
   ]
  },
  {
   "cell_type": "markdown",
   "id": "09da4911",
   "metadata": {},
   "source": [
    "### 1.5"
   ]
  },
  {
   "cell_type": "code",
   "execution_count": 119,
   "id": "91c46395",
   "metadata": {},
   "outputs": [
    {
     "data": {
      "text/plain": [
       "0.5517"
      ]
     },
     "execution_count": 119,
     "metadata": {},
     "output_type": "execute_result"
    }
   ],
   "source": [
    "total = 145 # total no of injured players\n",
    "forward = 56\n",
    "attack_mf = 24\n",
    "p = (forward+attack_mf)/total\n",
    "np.round(p,4)"
   ]
  },
  {
   "cell_type": "markdown",
   "id": "8bd4ef07",
   "metadata": {},
   "source": [
    "## Problem 2"
   ]
  },
  {
   "cell_type": "markdown",
   "id": "777dd9ec",
   "metadata": {},
   "source": [
    "#### probability of a radiation leak in case of a fire = 0.20\n",
    "#### probability of a radiation leak in case of a mechanical = 0.50\n",
    "#### probability of a radiation leak in case of a human error = 0.10\n",
    "\n",
    "#### The probability of a radiation leak occurring simultaneously with a fire is 0.1%. = 0.001\n",
    "#### The probability of a radiation leak occurring simultaneously with a mechanical failure is 0.15%. = 0.0015\n",
    "#### The probability of a radiation leak occurring simultaneously with a human error is 0.12%. = 0.0012\n",
    "\n",
    "#### Probability = favorable outcomes/ total outcomes and the sum of probabilities for all possible outcomes = 1 "
   ]
  },
  {
   "cell_type": "markdown",
   "id": "c00706f8",
   "metadata": {},
   "source": [
    "### 2.1"
   ]
  },
  {
   "cell_type": "code",
   "execution_count": 120,
   "id": "08f7d501",
   "metadata": {},
   "outputs": [
    {
     "data": {
      "text/plain": [
       "0.25"
      ]
     },
     "execution_count": 120,
     "metadata": {},
     "output_type": "execute_result"
    }
   ],
   "source": [
    "# probability of fire\n",
    "p = 0.20/(0.20+0.50+0.10)\n",
    "np.round(p,4)"
   ]
  },
  {
   "cell_type": "code",
   "execution_count": 121,
   "id": "8b188db5",
   "metadata": {},
   "outputs": [
    {
     "data": {
      "text/plain": [
       "0.625"
      ]
     },
     "execution_count": 121,
     "metadata": {},
     "output_type": "execute_result"
    }
   ],
   "source": [
    "# probability of Mechanical Failure\n",
    "p = 0.50/(0.20+0.50+0.10)\n",
    "np.round(p,4)"
   ]
  },
  {
   "cell_type": "code",
   "execution_count": 122,
   "id": "5aebcd5d",
   "metadata": {},
   "outputs": [
    {
     "data": {
      "text/plain": [
       "0.125"
      ]
     },
     "execution_count": 122,
     "metadata": {},
     "output_type": "execute_result"
    }
   ],
   "source": [
    "# probability of Human Error\n",
    "p = 0.10/(0.20+0.50+0.10)\n",
    "np.round(p,4)"
   ]
  },
  {
   "cell_type": "markdown",
   "id": "717f49be",
   "metadata": {},
   "source": [
    "### 2.2"
   ]
  },
  {
   "cell_type": "code",
   "execution_count": 123,
   "id": "7f41aab3",
   "metadata": {},
   "outputs": [
    {
     "data": {
      "text/plain": [
       "0.0037"
      ]
     },
     "execution_count": 123,
     "metadata": {},
     "output_type": "execute_result"
    }
   ],
   "source": [
    "# probability of radiation leak\n",
    "p = 0.001+0.0015+0.0012\n",
    "np.round(p,4)"
   ]
  },
  {
   "cell_type": "markdown",
   "id": "e244cb7e",
   "metadata": {},
   "source": [
    "### 2.3"
   ]
  },
  {
   "cell_type": "code",
   "execution_count": 124,
   "id": "bf0b4493",
   "metadata": {},
   "outputs": [
    {
     "data": {
      "text/plain": [
       "0.2703"
      ]
     },
     "execution_count": 124,
     "metadata": {},
     "output_type": "execute_result"
    }
   ],
   "source": [
    "# probability of radiation leak due to fire\n",
    "p = 0.001/0.0037\n",
    "np.round(p,4)"
   ]
  },
  {
   "cell_type": "code",
   "execution_count": 125,
   "id": "b806b6b0",
   "metadata": {},
   "outputs": [
    {
     "data": {
      "text/plain": [
       "0.4054"
      ]
     },
     "execution_count": 125,
     "metadata": {},
     "output_type": "execute_result"
    }
   ],
   "source": [
    "# probability of radiation leak due to mechanical Failure\n",
    "p = 0.0015/0.0037\n",
    "np.round(p,4)"
   ]
  },
  {
   "cell_type": "code",
   "execution_count": 126,
   "id": "33bc0c82",
   "metadata": {},
   "outputs": [
    {
     "data": {
      "text/plain": [
       "0.3243"
      ]
     },
     "execution_count": 126,
     "metadata": {},
     "output_type": "execute_result"
    }
   ],
   "source": [
    "# probability of radiation leak due to Human Error\n",
    "p = 0.0012/0.0037\n",
    "np.round(p,4)"
   ]
  },
  {
   "cell_type": "markdown",
   "id": "966ac944",
   "metadata": {},
   "source": [
    "## Problem 3"
   ]
  },
  {
   "cell_type": "code",
   "execution_count": 130,
   "id": "ee6b8d02",
   "metadata": {},
   "outputs": [],
   "source": [
    "import scipy.stats as stats\n",
    "import pandas as pd\n",
    "import numpy as np\n",
    "import matplotlib.pyplot as plt\n",
    "import seaborn as sns\n",
    "%matplotlib inline\n",
    "mu = 5 \n",
    "sigma = 1.5"
   ]
  },
  {
   "cell_type": "code",
   "execution_count": 131,
   "id": "41ad7dba",
   "metadata": {},
   "outputs": [],
   "source": [
    "\n",
    "density = pd.DataFrame() # create an empty DataFrame\n",
    "density[\"x\"] = np.linspace(0, 10, 100)\n",
    "density[\"pdf\"] = stats.norm.pdf(density[\"x\"], mu, sigma) \n"
   ]
  },
  {
   "cell_type": "markdown",
   "id": "5310d277",
   "metadata": {},
   "source": [
    "#### 3.1"
   ]
  },
  {
   "cell_type": "code",
   "execution_count": 133,
   "id": "8064dbc7",
   "metadata": {},
   "outputs": [
    {
     "data": {
      "text/plain": [
       "0.1112"
      ]
     },
     "execution_count": 133,
     "metadata": {},
     "output_type": "execute_result"
    }
   ],
   "source": [
    "np.round(stats.norm.cdf(3.17,mu,sigma),4)"
   ]
  },
  {
   "cell_type": "code",
   "execution_count": 43,
   "id": "a9ebda74",
   "metadata": {},
   "outputs": [
    {
     "data": {
      "image/png": "[encoded data removed]",
      "text/plain": [
       "<Figure size 640x480 with 1 Axes>"
      ]
     },
     "metadata": {},
     "output_type": "display_data"
    }
   ],
   "source": [
    "plt.plot(density[\"x\"], density[\"pdf\"]) \n",
    "plt.axvline(x=3.17, c=\"r\") \n",
    "x1 = np.linspace(density[\"x\"].min(), 3.17, 50) \n",
    "plt.fill_between(x1, stats.norm.pdf(x1, mu, sigma), color=\"r\") \n",
    "plt.xlabel(\"weight\") # set the x-axis label\n",
    "plt.ylabel(\"Probability\") # set the y-axis label\n",
    "plt.title(\"Normal Distribution\") # set the title\n",
    "plt.show() "
   ]
  },
  {
   "cell_type": "markdown",
   "id": "148f83ab",
   "metadata": {},
   "source": [
    "#### 3.2"
   ]
  },
  {
   "cell_type": "code",
   "execution_count": 134,
   "id": "6ad334e8",
   "metadata": {},
   "outputs": [
    {
     "data": {
      "text/plain": [
       "0.8247"
      ]
     },
     "execution_count": 134,
     "metadata": {},
     "output_type": "execute_result"
    }
   ],
   "source": [
    "np.round(1-stats.norm.cdf(3.6,mu,sigma),4)"
   ]
  },
  {
   "cell_type": "code",
   "execution_count": 45,
   "id": "5e95a086",
   "metadata": {},
   "outputs": [
    {
     "data": {
      "image/png": "[encoded data removed]",
      "text/plain": [
       "<Figure size 640x480 with 1 Axes>"
      ]
     },
     "metadata": {},
     "output_type": "display_data"
    }
   ],
   "source": [
    "plt.plot(density[\"x\"], density[\"pdf\"])\n",
    "plt.axvline(x=3.6, c=\"r\")\n",
    "x1 = np.linspace(3.6, density[\"x\"].max(), 50)\n",
    "plt.fill_between(x1, stats.norm.pdf(x1, mu, sigma), color=\"r\")\n",
    "plt.xlabel(\"weight\")\n",
    "plt.ylabel(\"Probability\")\n",
    "plt.title(\"Normal Distribution\")\n",
    "plt.show()"
   ]
  },
  {
   "cell_type": "markdown",
   "id": "87b7e429",
   "metadata": {},
   "source": [
    "#### 3.3"
   ]
  },
  {
   "cell_type": "code",
   "execution_count": 135,
   "id": "7bf71812",
   "metadata": {},
   "outputs": [
    {
     "data": {
      "text/plain": [
       "0.1306"
      ]
     },
     "execution_count": 135,
     "metadata": {},
     "output_type": "execute_result"
    }
   ],
   "source": [
    "np.round(stats.norm.cdf(5.5,mu,sigma) - stats.norm.cdf(5,mu,sigma),4)"
   ]
  },
  {
   "cell_type": "code",
   "execution_count": 99,
   "id": "6bba0ea9",
   "metadata": {},
   "outputs": [
    {
     "data": {
      "image/png": "[encoded data removed]",
      "text/plain": [
       "<Figure size 640x480 with 1 Axes>"
      ]
     },
     "metadata": {},
     "output_type": "display_data"
    }
   ],
   "source": [
    "plt.plot(density[\"x\"], density[\"pdf\"])\n",
    "plt.axvline(x=5.5, c=\"r\")\n",
    "plt.axvline(x=5, c=\"r\")\n",
    "x1 = np.linspace(5, 5.5, 50)\n",
    "x2 = np.linspace(5.5, density[\"x\"].max(), 50)\n",
    "plt.fill_between(x1, stats.norm.pdf(x1, mu, sigma))\n",
    "plt.xlabel(\"weight\")\n",
    "plt.ylabel(\"Probability\")\n",
    "plt.title(\"Normal Distribution\")\n",
    "plt.show()"
   ]
  },
  {
   "cell_type": "markdown",
   "id": "a4c60621",
   "metadata": {},
   "source": [
    "#### 3.4"
   ]
  },
  {
   "cell_type": "code",
   "execution_count": 136,
   "id": "943274ce",
   "metadata": {},
   "outputs": [
    {
     "data": {
      "text/plain": [
       "0.139"
      ]
     },
     "execution_count": 136,
     "metadata": {},
     "output_type": "execute_result"
    }
   ],
   "source": [
    "np.round(stats.norm.cdf(3,mu,sigma)+(1-stats.norm.cdf(7.5,mu,sigma)),4)"
   ]
  },
  {
   "cell_type": "code",
   "execution_count": 92,
   "id": "6a1202a9",
   "metadata": {},
   "outputs": [
    {
     "data": {
      "image/png": "[encoded data removed]",
      "text/plain": [
       "<Figure size 640x480 with 1 Axes>"
      ]
     },
     "metadata": {},
     "output_type": "display_data"
    }
   ],
   "source": [
    "plt.plot(density[\"x\"], density[\"pdf\"]) \n",
    "\n",
    "plt.axvline(x=3, c=\"r\") \n",
    "x1 = np.linspace(density[\"x\"].min(), 3, 50) \n",
    "plt.fill_between(x1, stats.norm.pdf(x1, mu, sigma), color=\"r\") \n",
    "\n",
    "plt.axvline(x=7.5, c=\"r\")\n",
    "x2 = np.linspace(7.5, density[\"x\"].max(), 50)\n",
    "plt.fill_between(x2, stats.norm.pdf(x2, mu, sigma), color=\"r\")\n",
    "\n",
    "plt.xlabel(\"weight\")\n",
    "plt.ylabel(\"Probability\")\n",
    "plt.title(\"Normal Distribution\")\n",
    "plt.show()\n"
   ]
  },
  {
   "cell_type": "markdown",
   "id": "5c65d8c3",
   "metadata": {},
   "source": [
    "## Problem 4"
   ]
  },
  {
   "cell_type": "code",
   "execution_count": 137,
   "id": "13b2bf3f",
   "metadata": {},
   "outputs": [],
   "source": [
    "mu = 77\n",
    "sigma = 8.5"
   ]
  },
  {
   "cell_type": "code",
   "execution_count": 138,
   "id": "c00c4ab7",
   "metadata": {},
   "outputs": [],
   "source": [
    "density = pd.DataFrame() # create an empty DataFrame\n",
    "density[\"x\"] = np.linspace(0, 100, 1000)\n",
    "density[\"pdf\"] = stats.norm.pdf(density[\"x\"], mu, sigma) \n"
   ]
  },
  {
   "cell_type": "markdown",
   "id": "edde2e32",
   "metadata": {},
   "source": [
    "### 4.1"
   ]
  },
  {
   "cell_type": "code",
   "execution_count": 139,
   "id": "22b438ec",
   "metadata": {},
   "outputs": [
    {
     "data": {
      "text/plain": [
       "0.8267"
      ]
     },
     "execution_count": 139,
     "metadata": {},
     "output_type": "execute_result"
    }
   ],
   "source": [
    "np.round(stats.norm.cdf(85,mu,sigma),4)"
   ]
  },
  {
   "cell_type": "code",
   "execution_count": 141,
   "id": "206329b4",
   "metadata": {},
   "outputs": [
    {
     "data": {
      "image/png": "[encoded data removed]",
      "text/plain": [
       "<Figure size 640x480 with 1 Axes>"
      ]
     },
     "metadata": {},
     "output_type": "display_data"
    }
   ],
   "source": [
    "plt.plot(density[\"x\"], density[\"pdf\"]) \n",
    "plt.axvline(x=85, c=\"r\") \n",
    "x1 = np.linspace(density[\"x\"].min(), 85, 50) \n",
    "plt.fill_between(x1, stats.norm.pdf(x1, mu, sigma), color=\"r\") \n",
    "plt.xlabel(\"Grade\") # set the x-axis label\n",
    "plt.ylabel(\"Probability\") # set the y-axis label\n",
    "plt.title(\"Normal Distribution\") # set the title\n",
    "plt.show() "
   ]
  },
  {
   "cell_type": "markdown",
   "id": "a9c91219",
   "metadata": {},
   "source": [
    "### 4.2"
   ]
  },
  {
   "cell_type": "code",
   "execution_count": 142,
   "id": "f088cf61",
   "metadata": {},
   "outputs": [
    {
     "data": {
      "text/plain": [
       "0.8013"
      ]
     },
     "execution_count": 142,
     "metadata": {},
     "output_type": "execute_result"
    }
   ],
   "source": [
    "np.round(stats.norm.cdf(87,mu,sigma) - stats.norm.cdf(65,mu,sigma),4)"
   ]
  },
  {
   "cell_type": "code",
   "execution_count": 143,
   "id": "e4f41ec4",
   "metadata": {},
   "outputs": [
    {
     "data": {
      "image/png": "[encoded data removed]",
      "text/plain": [
       "<Figure size 640x480 with 1 Axes>"
      ]
     },
     "metadata": {},
     "output_type": "display_data"
    }
   ],
   "source": [
    "plt.plot(density[\"x\"], density[\"pdf\"])\n",
    "plt.axvline(x=87, c=\"r\")\n",
    "plt.axvline(x=65, c=\"r\")\n",
    "x1 = np.linspace(65, 87, 50)\n",
    "plt.fill_between(x1, stats.norm.pdf(x1, mu, sigma))\n",
    "plt.xlabel(\"Grade\")\n",
    "plt.ylabel(\"Probability\")\n",
    "plt.title(\"Normal Distribution\")\n",
    "plt.show()"
   ]
  },
  {
   "cell_type": "markdown",
   "id": "62287287",
   "metadata": {},
   "source": [
    "### 4.3"
   ]
  },
  {
   "cell_type": "code",
   "execution_count": 144,
   "id": "615812c1",
   "metadata": {},
   "outputs": [
    {
     "data": {
      "text/plain": [
       "71.2668"
      ]
     },
     "execution_count": 144,
     "metadata": {},
     "output_type": "execute_result"
    }
   ],
   "source": [
    "np.round(stats.norm.ppf(0.25,mu,sigma),4)"
   ]
  },
  {
   "cell_type": "code",
   "execution_count": 145,
   "id": "7219cb09",
   "metadata": {},
   "outputs": [
    {
     "data": {
      "image/png": "[encoded data removed]",
      "text/plain": [
       "<Figure size 640x480 with 1 Axes>"
      ]
     },
     "metadata": {},
     "output_type": "display_data"
    }
   ],
   "source": [
    "plt.plot(density[\"x\"], density[\"pdf\"])\n",
    "plt.axvline(x=stats.norm.ppf(0.25,mu,sigma), c=\"r\",)\n",
    "plt.xlabel(\"Grade\")\n",
    "plt.ylabel(\"Probability\")\n",
    "plt.title(\"Normal Distribution\")\n",
    "plt.show()"
   ]
  },
  {
   "cell_type": "markdown",
   "id": "8c1db73a",
   "metadata": {},
   "source": [
    "## Problem 5"
   ]
  },
  {
   "cell_type": "code",
   "execution_count": 146,
   "id": "aa7c6625",
   "metadata": {},
   "outputs": [],
   "source": [
    "import numpy as np\n",
    "import pandas as pd\n",
    "from scipy.stats import norm as norm\n",
    "import seaborn as sns\n",
    "import matplotlib.pyplot as plt\n",
    "%matplotlib inline "
   ]
  },
  {
   "cell_type": "code",
   "execution_count": 147,
   "id": "e7a30d2c",
   "metadata": {},
   "outputs": [],
   "source": [
    "df =  pd.read_csv('Zingaro_Company.csv', encoding=\"utf-8-sig\")"
   ]
  },
  {
   "cell_type": "code",
   "execution_count": 148,
   "id": "f90b1c67",
   "metadata": {},
   "outputs": [
    {
     "data": {
      "text/html": [
       "<div>\n",
       "<style scoped>\n",
       "    .dataframe tbody tr th:only-of-type {\n",
       "        vertical-align: middle;\n",
       "    }\n",
       "\n",
       "    .dataframe tbody tr th {\n",
       "        vertical-align: top;\n",
       "    }\n",
       "\n",
       "    .dataframe thead th {\n",
       "        text-align: right;\n",
       "    }\n",
       "</style>\n",
       "<table border=\"1\" class=\"dataframe\">\n",
       "  <thead>\n",
       "    <tr style=\"text-align: right;\">\n",
       "      <th></th>\n",
       "      <th>Unpolished</th>\n",
       "      <th>Treated and Polished</th>\n",
       "    </tr>\n",
       "  </thead>\n",
       "  <tbody>\n",
       "    <tr>\n",
       "      <th>0</th>\n",
       "      <td>164.481713</td>\n",
       "      <td>133.209393</td>\n",
       "    </tr>\n",
       "    <tr>\n",
       "      <th>1</th>\n",
       "      <td>154.307045</td>\n",
       "      <td>138.482771</td>\n",
       "    </tr>\n",
       "    <tr>\n",
       "      <th>2</th>\n",
       "      <td>129.861048</td>\n",
       "      <td>159.665201</td>\n",
       "    </tr>\n",
       "    <tr>\n",
       "      <th>3</th>\n",
       "      <td>159.096184</td>\n",
       "      <td>145.663528</td>\n",
       "    </tr>\n",
       "    <tr>\n",
       "      <th>4</th>\n",
       "      <td>135.256748</td>\n",
       "      <td>136.789227</td>\n",
       "    </tr>\n",
       "    <tr>\n",
       "      <th>...</th>\n",
       "      <td>...</td>\n",
       "      <td>...</td>\n",
       "    </tr>\n",
       "    <tr>\n",
       "      <th>70</th>\n",
       "      <td>123.067611</td>\n",
       "      <td>142.293544</td>\n",
       "    </tr>\n",
       "    <tr>\n",
       "      <th>71</th>\n",
       "      <td>171.822218</td>\n",
       "      <td>140.124092</td>\n",
       "    </tr>\n",
       "    <tr>\n",
       "      <th>72</th>\n",
       "      <td>88.135994</td>\n",
       "      <td>141.393091</td>\n",
       "    </tr>\n",
       "    <tr>\n",
       "      <th>73</th>\n",
       "      <td>145.150397</td>\n",
       "      <td>131.370530</td>\n",
       "    </tr>\n",
       "    <tr>\n",
       "      <th>74</th>\n",
       "      <td>170.854823</td>\n",
       "      <td>144.502647</td>\n",
       "    </tr>\n",
       "  </tbody>\n",
       "</table>\n",
       "<p>75 rows × 2 columns</p>\n",
       "</div>"
      ],
      "text/plain": [
       "    Unpolished   Treated and Polished\n",
       "0    164.481713            133.209393\n",
       "1    154.307045            138.482771\n",
       "2    129.861048            159.665201\n",
       "3    159.096184            145.663528\n",
       "4    135.256748            136.789227\n",
       "..          ...                   ...\n",
       "70   123.067611            142.293544\n",
       "71   171.822218            140.124092\n",
       "72    88.135994            141.393091\n",
       "73   145.150397            131.370530\n",
       "74   170.854823            144.502647\n",
       "\n",
       "[75 rows x 2 columns]"
      ]
     },
     "execution_count": 148,
     "metadata": {},
     "output_type": "execute_result"
    }
   ],
   "source": [
    "df"
   ]
  },
  {
   "cell_type": "code",
   "execution_count": 149,
   "id": "a87907d2",
   "metadata": {},
   "outputs": [
    {
     "name": "stdout",
     "output_type": "stream",
     "text": [
      "<class 'pandas.core.frame.DataFrame'>\n",
      "RangeIndex: 75 entries, 0 to 74\n",
      "Data columns (total 2 columns):\n",
      " #   Column                Non-Null Count  Dtype  \n",
      "---  ------                --------------  -----  \n",
      " 0   Unpolished            75 non-null     float64\n",
      " 1   Treated and Polished  75 non-null     float64\n",
      "dtypes: float64(2)\n",
      "memory usage: 1.3 KB\n"
     ]
    }
   ],
   "source": [
    "df.info()"
   ]
  },
  {
   "cell_type": "code",
   "execution_count": 162,
   "id": "7c5fcf76",
   "metadata": {},
   "outputs": [
    {
     "data": {
      "text/html": [
       "<div>\n",
       "<style scoped>\n",
       "    .dataframe tbody tr th:only-of-type {\n",
       "        vertical-align: middle;\n",
       "    }\n",
       "\n",
       "    .dataframe tbody tr th {\n",
       "        vertical-align: top;\n",
       "    }\n",
       "\n",
       "    .dataframe thead th {\n",
       "        text-align: right;\n",
       "    }\n",
       "</style>\n",
       "<table border=\"1\" class=\"dataframe\">\n",
       "  <thead>\n",
       "    <tr style=\"text-align: right;\">\n",
       "      <th></th>\n",
       "      <th>count</th>\n",
       "      <th>mean</th>\n",
       "      <th>std</th>\n",
       "      <th>min</th>\n",
       "      <th>25%</th>\n",
       "      <th>50%</th>\n",
       "      <th>75%</th>\n",
       "      <th>max</th>\n",
       "    </tr>\n",
       "  </thead>\n",
       "  <tbody>\n",
       "    <tr>\n",
       "      <th>Unpolished</th>\n",
       "      <td>75.0</td>\n",
       "      <td>134.110527</td>\n",
       "      <td>33.041804</td>\n",
       "      <td>48.406838</td>\n",
       "      <td>115.329753</td>\n",
       "      <td>135.597121</td>\n",
       "      <td>158.215098</td>\n",
       "      <td>200.161313</td>\n",
       "    </tr>\n",
       "    <tr>\n",
       "      <th>Treated and Polished</th>\n",
       "      <td>75.0</td>\n",
       "      <td>147.788117</td>\n",
       "      <td>15.587355</td>\n",
       "      <td>107.524167</td>\n",
       "      <td>138.268300</td>\n",
       "      <td>145.721322</td>\n",
       "      <td>157.373318</td>\n",
       "      <td>192.272856</td>\n",
       "    </tr>\n",
       "  </tbody>\n",
       "</table>\n",
       "</div>"
      ],
      "text/plain": [
       "                      count        mean        std         min         25%  \\\n",
       "Unpolished             75.0  134.110527  33.041804   48.406838  115.329753   \n",
       "Treated and Polished   75.0  147.788117  15.587355  107.524167  138.268300   \n",
       "\n",
       "                             50%         75%         max  \n",
       "Unpolished            135.597121  158.215098  200.161313  \n",
       "Treated and Polished  145.721322  157.373318  192.272856  "
      ]
     },
     "execution_count": 162,
     "metadata": {},
     "output_type": "execute_result"
    }
   ],
   "source": [
    "df.describe().T"
   ]
  },
  {
   "cell_type": "code",
   "execution_count": 151,
   "id": "04789bea",
   "metadata": {},
   "outputs": [
    {
     "data": {
      "text/plain": [
       "Unpolished              0\n",
       "Treated and Polished    0\n",
       "dtype: int64"
      ]
     },
     "execution_count": 151,
     "metadata": {},
     "output_type": "execute_result"
    }
   ],
   "source": [
    "df.isna().sum()\n",
    "# no missing values"
   ]
  },
  {
   "cell_type": "code",
   "execution_count": 152,
   "id": "f05395e4",
   "metadata": {},
   "outputs": [
    {
     "data": {
      "text/plain": [
       "0"
      ]
     },
     "execution_count": 152,
     "metadata": {},
     "output_type": "execute_result"
    }
   ],
   "source": [
    "df.duplicated().sum()\n",
    "# no duplicates"
   ]
  },
  {
   "cell_type": "code",
   "execution_count": 153,
   "id": "4f145890",
   "metadata": {},
   "outputs": [],
   "source": [
    "mu = 150\n",
    "alpha = 0.05\n",
    "# 2 independent samples of polished and unpolished stones are given , and no population standard deviation is known \n",
    "# hence a 2 sample , independent t test is viable "
   ]
  },
  {
   "cell_type": "markdown",
   "id": "a3d758da",
   "metadata": {},
   "source": [
    "Null Hypothesis: Mean hardness of unpolished stones is  equal to Mean hardness of Treated and Polished stone\n",
    "\n",
    "H0\n",
    ": µ Unpolished = µ Treated and Polished\n",
    "\n",
    "Alternate Hypothesis: Mean hardness of unpolished stones is  not equal to Mean hardness of Treated and Polished stone\n",
    "\n",
    "Ha\n",
    ": µ Unpolished ≠ µ Treated and Polished"
   ]
  },
  {
   "cell_type": "code",
   "execution_count": 159,
   "id": "8c7e26b6",
   "metadata": {},
   "outputs": [
    {
     "data": {
      "text/plain": [
       "Index(['Unpolished ', 'Treated and Polished'], dtype='object')"
      ]
     },
     "execution_count": 159,
     "metadata": {},
     "output_type": "execute_result"
    }
   ],
   "source": [
    "df.columns"
   ]
  },
  {
   "cell_type": "markdown",
   "id": "322c4a5b",
   "metadata": {},
   "source": [
    "### 5.1"
   ]
  },
  {
   "cell_type": "code",
   "execution_count": 160,
   "id": "a18c8c6a",
   "metadata": {},
   "outputs": [],
   "source": [
    "from scipy.stats import ttest_ind\n",
    "t_statistic,p_value = ttest_ind(df['Unpolished '],df['Treated and Polished'])"
   ]
  },
  {
   "cell_type": "code",
   "execution_count": 161,
   "id": "72f7fbc6",
   "metadata": {},
   "outputs": [
    {
     "name": "stdout",
     "output_type": "stream",
     "text": [
      "t_statistic :  -3.2422\n",
      "p_value : 0.0015\n"
     ]
    }
   ],
   "source": [
    "print('t_statistic : ',np.round(t_statistic,4))\n",
    "print('p_value :', np.round(p_value,4))"
   ]
  },
  {
   "cell_type": "markdown",
   "id": "cc3a17f7",
   "metadata": {},
   "source": [
    "0.0015 < 0.05\n",
    "as p is less then alpha , so we reject the null hypothesis , hence Mean hardness of unpolished stones is not equal to Mean hardness of Treated and Polished stone"
   ]
  },
  {
   "cell_type": "code",
   "execution_count": 157,
   "id": "08067367",
   "metadata": {},
   "outputs": [
    {
     "name": "stdout",
     "output_type": "stream",
     "text": [
      "-4.164629601426757\n",
      "8.342573994839304e-05\n"
     ]
    }
   ],
   "source": [
    "from scipy.stats import ttest_1samp\n",
    "t_statistic,p_value = ttest_1samp(df['Unpolished '],150)\n",
    "print(t_statistic)\n",
    "print(p_value)"
   ]
  },
  {
   "cell_type": "code",
   "execution_count": 158,
   "id": "dcd691de",
   "metadata": {},
   "outputs": [
    {
     "name": "stdout",
     "output_type": "stream",
     "text": [
      "-1.228910663544687\n",
      "0.22299896833808433\n"
     ]
    }
   ],
   "source": [
    "from scipy.stats import ttest_1samp\n",
    "t_statistic,p_value = ttest_1samp(df['Treated and Polished'],150)\n",
    "print(t_statistic)\n",
    "print(p_value)"
   ]
  },
  {
   "cell_type": "markdown",
   "id": "89e04529",
   "metadata": {},
   "source": [
    "### 5.2"
   ]
  },
  {
   "cell_type": "markdown",
   "id": "f57e52c2",
   "metadata": {},
   "source": [
    "The mean hardness Treated and Polished stones are way higher than mean hardness of unpolished stones and also the standard deviation from the mean is signoficantly lower for Treated and Polished stones"
   ]
  },
  {
   "cell_type": "code",
   "execution_count": 164,
   "id": "f9a44a53",
   "metadata": {},
   "outputs": [
    {
     "data": {
      "text/plain": [
       "0.3153"
      ]
     },
     "execution_count": 164,
     "metadata": {},
     "output_type": "execute_result"
    }
   ],
   "source": [
    "np.round(1-norm.cdf(150,df['Unpolished '].mean(),df['Unpolished '].std()),4)"
   ]
  },
  {
   "cell_type": "code",
   "execution_count": 171,
   "id": "73019ac7",
   "metadata": {},
   "outputs": [
    {
     "data": {
      "image/png": "[encoded data removed]",
      "text/plain": [
       "<Figure size 640x480 with 1 Axes>"
      ]
     },
     "metadata": {},
     "output_type": "display_data"
    }
   ],
   "source": [
    "density = pd.DataFrame()\n",
    "density[\"x\"] = np.linspace(0, 300, 1000)\n",
    "density[\"pdf\"] = stats.norm.pdf(density[\"x\"],  df['Unpolished '].mean(), df['Unpolished '].std()) \n",
    "plt.plot(density[\"x\"], density[\"pdf\"])\n",
    "plt.axvline(x=150, c=\"r\")\n",
    "x1 = np.linspace(150, density[\"x\"].max(), 1000)\n",
    "plt.fill_between(x1, stats.norm.pdf(x1, df['Unpolished '].mean(), df['Unpolished '].std()), color=\"r\")\n",
    "plt.xlabel(\"Hardness\")\n",
    "plt.ylabel(\"Probability\")\n",
    "plt.title(\"Normal Distribution - Unpolished\")\n",
    "plt.show()"
   ]
  },
  {
   "cell_type": "code",
   "execution_count": 167,
   "id": "727d1bf9",
   "metadata": {},
   "outputs": [
    {
     "data": {
      "text/plain": [
       "0.4436"
      ]
     },
     "execution_count": 167,
     "metadata": {},
     "output_type": "execute_result"
    }
   ],
   "source": [
    "np.round(1-norm.cdf(150,df['Treated and Polished'].mean(),df['Treated and Polished'].std()),4)"
   ]
  },
  {
   "cell_type": "code",
   "execution_count": 170,
   "id": "5fa3a51f",
   "metadata": {},
   "outputs": [
    {
     "data": {
      "image/png": "[encoded data removed]",
      "text/plain": [
       "<Figure size 640x480 with 1 Axes>"
      ]
     },
     "metadata": {},
     "output_type": "display_data"
    }
   ],
   "source": [
    "density = pd.DataFrame()\n",
    "density[\"x\"] = np.linspace(0, 300, 1000)\n",
    "density[\"pdf\"] = stats.norm.pdf(density[\"x\"],  df['Treated and Polished'].mean(), df['Treated and Polished'].std()) \n",
    "plt.plot(density[\"x\"], density[\"pdf\"])\n",
    "plt.axvline(x=150, c=\"r\")\n",
    "x1 = np.linspace(150, density[\"x\"].max(), 1000)\n",
    "plt.fill_between(x1, stats.norm.pdf(x1, df['Treated and Polished'].mean(), df['Treated and Polished'].std()), color=\"r\")\n",
    "plt.xlabel(\"Hardness\")\n",
    "plt.ylabel(\"Probability\")\n",
    "plt.title(\"Normal Distribution - Treated and Polished\")\n",
    "plt.show()"
   ]
  },
  {
   "cell_type": "markdown",
   "id": "ef6fabc4",
   "metadata": {},
   "source": [
    "also , its to be noted that , the number of stones which meet the Brinell's hardness index of at least 150 has  greater probablity for Treated and Polished Stones "
   ]
  },
  {
   "cell_type": "markdown",
   "id": "c3195efe",
   "metadata": {},
   "source": [
    "## Problem 6"
   ]
  },
  {
   "cell_type": "code",
   "execution_count": 184,
   "id": "fb5a7c70",
   "metadata": {},
   "outputs": [],
   "source": [
    "import numpy as np\n",
    "import pandas as pd\n",
    "from scipy.stats import norm as norm\n",
    "from scipy.stats import ttest_rel\n",
    "import seaborn as sns\n",
    "import matplotlib.pyplot as plt\n",
    "%matplotlib inline \n"
   ]
  },
  {
   "cell_type": "code",
   "execution_count": 185,
   "id": "d5da9b7e",
   "metadata": {},
   "outputs": [],
   "source": [
    "df =  pd.read_csv('Aquarius_gym.csv')"
   ]
  },
  {
   "cell_type": "code",
   "execution_count": 186,
   "id": "7c9d1088",
   "metadata": {},
   "outputs": [
    {
     "data": {
      "text/html": [
       "<div>\n",
       "<style scoped>\n",
       "    .dataframe tbody tr th:only-of-type {\n",
       "        vertical-align: middle;\n",
       "    }\n",
       "\n",
       "    .dataframe tbody tr th {\n",
       "        vertical-align: top;\n",
       "    }\n",
       "\n",
       "    .dataframe thead th {\n",
       "        text-align: right;\n",
       "    }\n",
       "</style>\n",
       "<table border=\"1\" class=\"dataframe\">\n",
       "  <thead>\n",
       "    <tr style=\"text-align: right;\">\n",
       "      <th></th>\n",
       "      <th>Sr no.</th>\n",
       "      <th>Before</th>\n",
       "      <th>After</th>\n",
       "    </tr>\n",
       "  </thead>\n",
       "  <tbody>\n",
       "    <tr>\n",
       "      <th>0</th>\n",
       "      <td>1</td>\n",
       "      <td>39</td>\n",
       "      <td>44</td>\n",
       "    </tr>\n",
       "    <tr>\n",
       "      <th>1</th>\n",
       "      <td>2</td>\n",
       "      <td>25</td>\n",
       "      <td>25</td>\n",
       "    </tr>\n",
       "    <tr>\n",
       "      <th>2</th>\n",
       "      <td>3</td>\n",
       "      <td>39</td>\n",
       "      <td>39</td>\n",
       "    </tr>\n",
       "    <tr>\n",
       "      <th>3</th>\n",
       "      <td>4</td>\n",
       "      <td>6</td>\n",
       "      <td>13</td>\n",
       "    </tr>\n",
       "    <tr>\n",
       "      <th>4</th>\n",
       "      <td>5</td>\n",
       "      <td>40</td>\n",
       "      <td>44</td>\n",
       "    </tr>\n",
       "    <tr>\n",
       "      <th>...</th>\n",
       "      <td>...</td>\n",
       "      <td>...</td>\n",
       "      <td>...</td>\n",
       "    </tr>\n",
       "    <tr>\n",
       "      <th>95</th>\n",
       "      <td>96</td>\n",
       "      <td>16</td>\n",
       "      <td>18</td>\n",
       "    </tr>\n",
       "    <tr>\n",
       "      <th>96</th>\n",
       "      <td>97</td>\n",
       "      <td>19</td>\n",
       "      <td>28</td>\n",
       "    </tr>\n",
       "    <tr>\n",
       "      <th>97</th>\n",
       "      <td>98</td>\n",
       "      <td>24</td>\n",
       "      <td>28</td>\n",
       "    </tr>\n",
       "    <tr>\n",
       "      <th>98</th>\n",
       "      <td>99</td>\n",
       "      <td>14</td>\n",
       "      <td>24</td>\n",
       "    </tr>\n",
       "    <tr>\n",
       "      <th>99</th>\n",
       "      <td>100</td>\n",
       "      <td>30</td>\n",
       "      <td>39</td>\n",
       "    </tr>\n",
       "  </tbody>\n",
       "</table>\n",
       "<p>100 rows × 3 columns</p>\n",
       "</div>"
      ],
      "text/plain": [
       "    Sr no.  Before  After\n",
       "0        1      39     44\n",
       "1        2      25     25\n",
       "2        3      39     39\n",
       "3        4       6     13\n",
       "4        5      40     44\n",
       "..     ...     ...    ...\n",
       "95      96      16     18\n",
       "96      97      19     28\n",
       "97      98      24     28\n",
       "98      99      14     24\n",
       "99     100      30     39\n",
       "\n",
       "[100 rows x 3 columns]"
      ]
     },
     "execution_count": 186,
     "metadata": {},
     "output_type": "execute_result"
    }
   ],
   "source": [
    "df"
   ]
  },
  {
   "cell_type": "code",
   "execution_count": 187,
   "id": "351a95ae",
   "metadata": {},
   "outputs": [
    {
     "name": "stdout",
     "output_type": "stream",
     "text": [
      "<class 'pandas.core.frame.DataFrame'>\n",
      "RangeIndex: 100 entries, 0 to 99\n",
      "Data columns (total 3 columns):\n",
      " #   Column  Non-Null Count  Dtype\n",
      "---  ------  --------------  -----\n",
      " 0   Sr no.  100 non-null    int64\n",
      " 1   Before  100 non-null    int64\n",
      " 2   After   100 non-null    int64\n",
      "dtypes: int64(3)\n",
      "memory usage: 2.5 KB\n"
     ]
    }
   ],
   "source": [
    "df.info()"
   ]
  },
  {
   "cell_type": "code",
   "execution_count": 188,
   "id": "c897c0f0",
   "metadata": {},
   "outputs": [
    {
     "data": {
      "text/html": [
       "<div>\n",
       "<style scoped>\n",
       "    .dataframe tbody tr th:only-of-type {\n",
       "        vertical-align: middle;\n",
       "    }\n",
       "\n",
       "    .dataframe tbody tr th {\n",
       "        vertical-align: top;\n",
       "    }\n",
       "\n",
       "    .dataframe thead th {\n",
       "        text-align: right;\n",
       "    }\n",
       "</style>\n",
       "<table border=\"1\" class=\"dataframe\">\n",
       "  <thead>\n",
       "    <tr style=\"text-align: right;\">\n",
       "      <th></th>\n",
       "      <th>Sr no.</th>\n",
       "      <th>Before</th>\n",
       "      <th>After</th>\n",
       "    </tr>\n",
       "  </thead>\n",
       "  <tbody>\n",
       "    <tr>\n",
       "      <th>count</th>\n",
       "      <td>100.000000</td>\n",
       "      <td>100.000000</td>\n",
       "      <td>100.000000</td>\n",
       "    </tr>\n",
       "    <tr>\n",
       "      <th>mean</th>\n",
       "      <td>50.500000</td>\n",
       "      <td>26.940000</td>\n",
       "      <td>32.490000</td>\n",
       "    </tr>\n",
       "    <tr>\n",
       "      <th>std</th>\n",
       "      <td>29.011492</td>\n",
       "      <td>8.806357</td>\n",
       "      <td>8.779562</td>\n",
       "    </tr>\n",
       "    <tr>\n",
       "      <th>min</th>\n",
       "      <td>1.000000</td>\n",
       "      <td>3.000000</td>\n",
       "      <td>10.000000</td>\n",
       "    </tr>\n",
       "    <tr>\n",
       "      <th>25%</th>\n",
       "      <td>25.750000</td>\n",
       "      <td>21.750000</td>\n",
       "      <td>26.000000</td>\n",
       "    </tr>\n",
       "    <tr>\n",
       "      <th>50%</th>\n",
       "      <td>50.500000</td>\n",
       "      <td>28.000000</td>\n",
       "      <td>34.000000</td>\n",
       "    </tr>\n",
       "    <tr>\n",
       "      <th>75%</th>\n",
       "      <td>75.250000</td>\n",
       "      <td>32.250000</td>\n",
       "      <td>39.000000</td>\n",
       "    </tr>\n",
       "    <tr>\n",
       "      <th>max</th>\n",
       "      <td>100.000000</td>\n",
       "      <td>47.000000</td>\n",
       "      <td>51.000000</td>\n",
       "    </tr>\n",
       "  </tbody>\n",
       "</table>\n",
       "</div>"
      ],
      "text/plain": [
       "           Sr no.      Before       After\n",
       "count  100.000000  100.000000  100.000000\n",
       "mean    50.500000   26.940000   32.490000\n",
       "std     29.011492    8.806357    8.779562\n",
       "min      1.000000    3.000000   10.000000\n",
       "25%     25.750000   21.750000   26.000000\n",
       "50%     50.500000   28.000000   34.000000\n",
       "75%     75.250000   32.250000   39.000000\n",
       "max    100.000000   47.000000   51.000000"
      ]
     },
     "execution_count": 188,
     "metadata": {},
     "output_type": "execute_result"
    }
   ],
   "source": [
    "df.describe()"
   ]
  },
  {
   "cell_type": "code",
   "execution_count": 189,
   "id": "110e2490",
   "metadata": {},
   "outputs": [
    {
     "data": {
      "text/plain": [
       "Sr no.    0\n",
       "Before    0\n",
       "After     0\n",
       "dtype: int64"
      ]
     },
     "execution_count": 189,
     "metadata": {},
     "output_type": "execute_result"
    }
   ],
   "source": [
    "df.isna().sum()\n",
    "# no null values"
   ]
  },
  {
   "cell_type": "code",
   "execution_count": 190,
   "id": "c9cb633e",
   "metadata": {},
   "outputs": [
    {
     "data": {
      "text/plain": [
       "0"
      ]
     },
     "execution_count": 190,
     "metadata": {},
     "output_type": "execute_result"
    }
   ],
   "source": [
    "df.duplicated().sum()\n",
    "# no duplicates "
   ]
  },
  {
   "cell_type": "code",
   "execution_count": 191,
   "id": "10c8ff23",
   "metadata": {},
   "outputs": [
    {
     "data": {
      "text/html": [
       "<div>\n",
       "<style scoped>\n",
       "    .dataframe tbody tr th:only-of-type {\n",
       "        vertical-align: middle;\n",
       "    }\n",
       "\n",
       "    .dataframe tbody tr th {\n",
       "        vertical-align: top;\n",
       "    }\n",
       "\n",
       "    .dataframe thead th {\n",
       "        text-align: right;\n",
       "    }\n",
       "</style>\n",
       "<table border=\"1\" class=\"dataframe\">\n",
       "  <thead>\n",
       "    <tr style=\"text-align: right;\">\n",
       "      <th></th>\n",
       "      <th>Sr no.</th>\n",
       "      <th>Before</th>\n",
       "      <th>After</th>\n",
       "      <th>Difference</th>\n",
       "    </tr>\n",
       "  </thead>\n",
       "  <tbody>\n",
       "    <tr>\n",
       "      <th>count</th>\n",
       "      <td>100.000000</td>\n",
       "      <td>100.000000</td>\n",
       "      <td>100.000000</td>\n",
       "      <td>100.000000</td>\n",
       "    </tr>\n",
       "    <tr>\n",
       "      <th>mean</th>\n",
       "      <td>50.500000</td>\n",
       "      <td>26.940000</td>\n",
       "      <td>32.490000</td>\n",
       "      <td>5.550000</td>\n",
       "    </tr>\n",
       "    <tr>\n",
       "      <th>std</th>\n",
       "      <td>29.011492</td>\n",
       "      <td>8.806357</td>\n",
       "      <td>8.779562</td>\n",
       "      <td>2.872281</td>\n",
       "    </tr>\n",
       "    <tr>\n",
       "      <th>min</th>\n",
       "      <td>1.000000</td>\n",
       "      <td>3.000000</td>\n",
       "      <td>10.000000</td>\n",
       "      <td>0.000000</td>\n",
       "    </tr>\n",
       "    <tr>\n",
       "      <th>25%</th>\n",
       "      <td>25.750000</td>\n",
       "      <td>21.750000</td>\n",
       "      <td>26.000000</td>\n",
       "      <td>3.750000</td>\n",
       "    </tr>\n",
       "    <tr>\n",
       "      <th>50%</th>\n",
       "      <td>50.500000</td>\n",
       "      <td>28.000000</td>\n",
       "      <td>34.000000</td>\n",
       "      <td>6.000000</td>\n",
       "    </tr>\n",
       "    <tr>\n",
       "      <th>75%</th>\n",
       "      <td>75.250000</td>\n",
       "      <td>32.250000</td>\n",
       "      <td>39.000000</td>\n",
       "      <td>8.000000</td>\n",
       "    </tr>\n",
       "    <tr>\n",
       "      <th>max</th>\n",
       "      <td>100.000000</td>\n",
       "      <td>47.000000</td>\n",
       "      <td>51.000000</td>\n",
       "      <td>10.000000</td>\n",
       "    </tr>\n",
       "  </tbody>\n",
       "</table>\n",
       "</div>"
      ],
      "text/plain": [
       "           Sr no.      Before       After  Difference\n",
       "count  100.000000  100.000000  100.000000  100.000000\n",
       "mean    50.500000   26.940000   32.490000    5.550000\n",
       "std     29.011492    8.806357    8.779562    2.872281\n",
       "min      1.000000    3.000000   10.000000    0.000000\n",
       "25%     25.750000   21.750000   26.000000    3.750000\n",
       "50%     50.500000   28.000000   34.000000    6.000000\n",
       "75%     75.250000   32.250000   39.000000    8.000000\n",
       "max    100.000000   47.000000   51.000000   10.000000"
      ]
     },
     "execution_count": 191,
     "metadata": {},
     "output_type": "execute_result"
    }
   ],
   "source": [
    "df['Difference']=df['After']-df['Before']\n",
    "df.describe()"
   ]
  },
  {
   "cell_type": "code",
   "execution_count": 200,
   "id": "82138bf0",
   "metadata": {},
   "outputs": [
    {
     "data": {
      "text/html": [
       "<div>\n",
       "<style scoped>\n",
       "    .dataframe tbody tr th:only-of-type {\n",
       "        vertical-align: middle;\n",
       "    }\n",
       "\n",
       "    .dataframe tbody tr th {\n",
       "        vertical-align: top;\n",
       "    }\n",
       "\n",
       "    .dataframe thead th {\n",
       "        text-align: right;\n",
       "    }\n",
       "</style>\n",
       "<table border=\"1\" class=\"dataframe\">\n",
       "  <thead>\n",
       "    <tr style=\"text-align: right;\">\n",
       "      <th></th>\n",
       "      <th>Sr no.</th>\n",
       "      <th>Before</th>\n",
       "      <th>After</th>\n",
       "      <th>Difference</th>\n",
       "    </tr>\n",
       "  </thead>\n",
       "  <tbody>\n",
       "    <tr>\n",
       "      <th>0</th>\n",
       "      <td>1</td>\n",
       "      <td>39</td>\n",
       "      <td>44</td>\n",
       "      <td>5</td>\n",
       "    </tr>\n",
       "    <tr>\n",
       "      <th>1</th>\n",
       "      <td>2</td>\n",
       "      <td>25</td>\n",
       "      <td>25</td>\n",
       "      <td>0</td>\n",
       "    </tr>\n",
       "    <tr>\n",
       "      <th>2</th>\n",
       "      <td>3</td>\n",
       "      <td>39</td>\n",
       "      <td>39</td>\n",
       "      <td>0</td>\n",
       "    </tr>\n",
       "    <tr>\n",
       "      <th>3</th>\n",
       "      <td>4</td>\n",
       "      <td>6</td>\n",
       "      <td>13</td>\n",
       "      <td>7</td>\n",
       "    </tr>\n",
       "    <tr>\n",
       "      <th>4</th>\n",
       "      <td>5</td>\n",
       "      <td>40</td>\n",
       "      <td>44</td>\n",
       "      <td>4</td>\n",
       "    </tr>\n",
       "    <tr>\n",
       "      <th>...</th>\n",
       "      <td>...</td>\n",
       "      <td>...</td>\n",
       "      <td>...</td>\n",
       "      <td>...</td>\n",
       "    </tr>\n",
       "    <tr>\n",
       "      <th>95</th>\n",
       "      <td>96</td>\n",
       "      <td>16</td>\n",
       "      <td>18</td>\n",
       "      <td>2</td>\n",
       "    </tr>\n",
       "    <tr>\n",
       "      <th>96</th>\n",
       "      <td>97</td>\n",
       "      <td>19</td>\n",
       "      <td>28</td>\n",
       "      <td>9</td>\n",
       "    </tr>\n",
       "    <tr>\n",
       "      <th>97</th>\n",
       "      <td>98</td>\n",
       "      <td>24</td>\n",
       "      <td>28</td>\n",
       "      <td>4</td>\n",
       "    </tr>\n",
       "    <tr>\n",
       "      <th>98</th>\n",
       "      <td>99</td>\n",
       "      <td>14</td>\n",
       "      <td>24</td>\n",
       "      <td>10</td>\n",
       "    </tr>\n",
       "    <tr>\n",
       "      <th>99</th>\n",
       "      <td>100</td>\n",
       "      <td>30</td>\n",
       "      <td>39</td>\n",
       "      <td>9</td>\n",
       "    </tr>\n",
       "  </tbody>\n",
       "</table>\n",
       "<p>100 rows × 4 columns</p>\n",
       "</div>"
      ],
      "text/plain": [
       "    Sr no.  Before  After  Difference\n",
       "0        1      39     44           5\n",
       "1        2      25     25           0\n",
       "2        3      39     39           0\n",
       "3        4       6     13           7\n",
       "4        5      40     44           4\n",
       "..     ...     ...    ...         ...\n",
       "95      96      16     18           2\n",
       "96      97      19     28           9\n",
       "97      98      24     28           4\n",
       "98      99      14     24          10\n",
       "99     100      30     39           9\n",
       "\n",
       "[100 rows x 4 columns]"
      ]
     },
     "execution_count": 200,
     "metadata": {},
     "output_type": "execute_result"
    }
   ],
   "source": [
    "df"
   ]
  },
  {
   "cell_type": "markdown",
   "id": "af6b3681",
   "metadata": {},
   "source": [
    "Null Hypothesis: Mean number of pushups After program  is at most 5 more than Mean number of pushups Before program\n",
    "\n",
    "H0\n",
    ": µ After - µ Before =< 5\n",
    "\n",
    "Alternate Hypothesis:  Mean number of pushups After program  is at least 6 more than Mean number of pushups Before program\n",
    "\n",
    "Ha\n",
    ": µ After - µ Before > 5"
   ]
  },
  {
   "cell_type": "code",
   "execution_count": 192,
   "id": "64f059b6",
   "metadata": {},
   "outputs": [],
   "source": [
    "alpha = 0.05"
   ]
  },
  {
   "cell_type": "markdown",
   "id": "8f0da7d8",
   "metadata": {},
   "source": [
    "Null Hypothesis: Mean number of pushups before the program = Mean number of pushups after the program \n",
    "\n",
    "\n",
    "H0 : µ Before = µ After \n",
    "    \n",
    "Alternate Hypothesis:  Mean number of pushups before the program <  Mean number of pushups after the program \n",
    "Ha : µ Before < µ After\n"
   ]
  },
  {
   "cell_type": "markdown",
   "id": "b2bad21b",
   "metadata": {},
   "source": [
    "This is one tailed dependent t test "
   ]
  },
  {
   "cell_type": "code",
   "execution_count": 209,
   "id": "8b80340b",
   "metadata": {},
   "outputs": [
    {
     "name": "stdout",
     "output_type": "stream",
     "text": [
      "t_statistic : -19.322619811082458\n",
      "p_value : 1.1460209626255983e-35\n"
     ]
    }
   ],
   "source": [
    "t_statistic,p_value = ttest_rel(df['Before'],df['After'])\n",
    "print('t_statistic :',t_statistic)\n",
    "print('p_value :',p_value/2)  # p /2 as its a one tailed test"
   ]
  },
  {
   "cell_type": "code",
   "execution_count": 210,
   "id": "026f602f",
   "metadata": {},
   "outputs": [
    {
     "name": "stdout",
     "output_type": "stream",
     "text": [
      "True\n"
     ]
    }
   ],
   "source": [
    "# since this a One tailed t test p value is p value / 2\n",
    "print(p_value<alpha) "
   ]
  },
  {
   "cell_type": "markdown",
   "id": "32c0a765",
   "metadata": {},
   "source": [
    "so p value is less then significance level , hence we reject the null hyothesis , ie Mean number of pushups after program is at least 6 more than the mean number of pushups before program "
   ]
  },
  {
   "cell_type": "code",
   "execution_count": 215,
   "id": "8ee78d11",
   "metadata": {},
   "outputs": [
    {
     "name": "stdout",
     "output_type": "stream",
     "text": [
      "t_statistic -1.5666989036012808\n",
      "p_value 0.060188015134156087\n",
      "p_value<alpha:  False\n"
     ]
    }
   ],
   "source": [
    "#as the process is considered success only when the after pushups is 6 or more and failed otherwise , we perform a 1 sample ttest of the difference of before and after against 6\n",
    "from scipy.stats import ttest_1samp\n",
    "t_statistic,p_value = ttest_1samp(df['Difference'],6)\n",
    "print('t_statistic',t_statistic)\n",
    "print('p_value',p_value/2)\n",
    "\n",
    "# since this a One tailed t test p value is p value / 2\n",
    "print('p_value<alpha: ',p_value<alpha) \n",
    "\n"
   ]
  },
  {
   "cell_type": "markdown",
   "id": "32476dc2",
   "metadata": {},
   "source": [
    "so p value is more then significance level , hence we fail to reject the null hyothesis , ie  Mean number of pushups After program is at most 5 more than Mean number of pushups Before program."
   ]
  },
  {
   "cell_type": "markdown",
   "id": "4692fab6",
   "metadata": {},
   "source": [
    "so , basically though there is an improvement in the number of pushups after the program as evident from the paired ttest , as  per the criteria for success of the program ie, number of pushups after is at least 6 more than before, its simply not true. "
   ]
  },
  {
   "cell_type": "markdown",
   "id": "e2f42585",
   "metadata": {},
   "source": [
    "## Problem 7"
   ]
  },
  {
   "cell_type": "code",
   "execution_count": 216,
   "id": "e2eb7de7",
   "metadata": {},
   "outputs": [],
   "source": [
    "import numpy as np\n",
    "import pandas as pd\n",
    "from statsmodels.formula.api import ols\n",
    "from statsmodels.stats.anova import anova_lm, _get_covariance\n",
    "import seaborn as sns\n",
    "import matplotlib.pyplot as plt\n",
    "%matplotlib inline "
   ]
  },
  {
   "cell_type": "code",
   "execution_count": 217,
   "id": "37fade7b",
   "metadata": {},
   "outputs": [],
   "source": [
    "df = pd.read_excel('Dental_Hardness_data.xlsx')"
   ]
  },
  {
   "cell_type": "code",
   "execution_count": 218,
   "id": "af1f3067",
   "metadata": {},
   "outputs": [
    {
     "data": {
      "text/html": [
       "<div>\n",
       "<style scoped>\n",
       "    .dataframe tbody tr th:only-of-type {\n",
       "        vertical-align: middle;\n",
       "    }\n",
       "\n",
       "    .dataframe tbody tr th {\n",
       "        vertical-align: top;\n",
       "    }\n",
       "\n",
       "    .dataframe thead th {\n",
       "        text-align: right;\n",
       "    }\n",
       "</style>\n",
       "<table border=\"1\" class=\"dataframe\">\n",
       "  <thead>\n",
       "    <tr style=\"text-align: right;\">\n",
       "      <th></th>\n",
       "      <th>Dentist</th>\n",
       "      <th>Method</th>\n",
       "      <th>Alloy</th>\n",
       "      <th>Temp</th>\n",
       "      <th>Response</th>\n",
       "      <th>Unnamed: 5</th>\n",
       "      <th>Unnamed: 6</th>\n",
       "      <th>Unnamed: 7</th>\n",
       "      <th>Unnamed: 8</th>\n",
       "      <th>Unnamed: 9</th>\n",
       "      <th>Unnamed: 10</th>\n",
       "      <th>Unnamed: 11</th>\n",
       "      <th>Unnamed: 12</th>\n",
       "      <th>Unnamed: 13</th>\n",
       "    </tr>\n",
       "  </thead>\n",
       "  <tbody>\n",
       "    <tr>\n",
       "      <th>0</th>\n",
       "      <td>1.0</td>\n",
       "      <td>1.0</td>\n",
       "      <td>1.0</td>\n",
       "      <td>1500.0</td>\n",
       "      <td>813.0</td>\n",
       "      <td>NaN</td>\n",
       "      <td>NaN</td>\n",
       "      <td>Anova: Two-Factor Without Replication</td>\n",
       "      <td>NaN</td>\n",
       "      <td>NaN</td>\n",
       "      <td>NaN</td>\n",
       "      <td>NaN</td>\n",
       "      <td>NaN</td>\n",
       "      <td>NaN</td>\n",
       "    </tr>\n",
       "    <tr>\n",
       "      <th>1</th>\n",
       "      <td>1.0</td>\n",
       "      <td>1.0</td>\n",
       "      <td>1.0</td>\n",
       "      <td>1600.0</td>\n",
       "      <td>792.0</td>\n",
       "      <td>NaN</td>\n",
       "      <td>NaN</td>\n",
       "      <td>NaN</td>\n",
       "      <td>NaN</td>\n",
       "      <td>NaN</td>\n",
       "      <td>NaN</td>\n",
       "      <td>NaN</td>\n",
       "      <td>NaN</td>\n",
       "      <td>NaN</td>\n",
       "    </tr>\n",
       "    <tr>\n",
       "      <th>2</th>\n",
       "      <td>1.0</td>\n",
       "      <td>1.0</td>\n",
       "      <td>1.0</td>\n",
       "      <td>1700.0</td>\n",
       "      <td>792.0</td>\n",
       "      <td>NaN</td>\n",
       "      <td>NaN</td>\n",
       "      <td>SUMMARY</td>\n",
       "      <td>Count</td>\n",
       "      <td>Sum</td>\n",
       "      <td>Average</td>\n",
       "      <td>Variance</td>\n",
       "      <td>NaN</td>\n",
       "      <td>NaN</td>\n",
       "    </tr>\n",
       "    <tr>\n",
       "      <th>3</th>\n",
       "      <td>1.0</td>\n",
       "      <td>1.0</td>\n",
       "      <td>2.0</td>\n",
       "      <td>1500.0</td>\n",
       "      <td>907.0</td>\n",
       "      <td>NaN</td>\n",
       "      <td>NaN</td>\n",
       "      <td>1</td>\n",
       "      <td>4</td>\n",
       "      <td>2315</td>\n",
       "      <td>578.75</td>\n",
       "      <td>523721.583333</td>\n",
       "      <td>NaN</td>\n",
       "      <td>NaN</td>\n",
       "    </tr>\n",
       "    <tr>\n",
       "      <th>4</th>\n",
       "      <td>1.0</td>\n",
       "      <td>1.0</td>\n",
       "      <td>2.0</td>\n",
       "      <td>1600.0</td>\n",
       "      <td>792.0</td>\n",
       "      <td>NaN</td>\n",
       "      <td>NaN</td>\n",
       "      <td>1</td>\n",
       "      <td>4</td>\n",
       "      <td>2394</td>\n",
       "      <td>598.5</td>\n",
       "      <td>584819</td>\n",
       "      <td>NaN</td>\n",
       "      <td>NaN</td>\n",
       "    </tr>\n",
       "    <tr>\n",
       "      <th>...</th>\n",
       "      <td>...</td>\n",
       "      <td>...</td>\n",
       "      <td>...</td>\n",
       "      <td>...</td>\n",
       "      <td>...</td>\n",
       "      <td>...</td>\n",
       "      <td>...</td>\n",
       "      <td>...</td>\n",
       "      <td>...</td>\n",
       "      <td>...</td>\n",
       "      <td>...</td>\n",
       "      <td>...</td>\n",
       "      <td>...</td>\n",
       "      <td>...</td>\n",
       "    </tr>\n",
       "    <tr>\n",
       "      <th>102</th>\n",
       "      <td>NaN</td>\n",
       "      <td>NaN</td>\n",
       "      <td>NaN</td>\n",
       "      <td>NaN</td>\n",
       "      <td>NaN</td>\n",
       "      <td>NaN</td>\n",
       "      <td>NaN</td>\n",
       "      <td>Rows</td>\n",
       "      <td>513114.013889</td>\n",
       "      <td>89</td>\n",
       "      <td>5765.325999</td>\n",
       "      <td>0.778206</td>\n",
       "      <td>0.917216</td>\n",
       "      <td>1.315369</td>\n",
       "    </tr>\n",
       "    <tr>\n",
       "      <th>103</th>\n",
       "      <td>NaN</td>\n",
       "      <td>NaN</td>\n",
       "      <td>NaN</td>\n",
       "      <td>NaN</td>\n",
       "      <td>NaN</td>\n",
       "      <td>NaN</td>\n",
       "      <td>NaN</td>\n",
       "      <td>Columns</td>\n",
       "      <td>156164270.208333</td>\n",
       "      <td>3</td>\n",
       "      <td>52054756.736111</td>\n",
       "      <td>7026.375161</td>\n",
       "      <td>0.0</td>\n",
       "      <td>2.638412</td>\n",
       "    </tr>\n",
       "    <tr>\n",
       "      <th>104</th>\n",
       "      <td>NaN</td>\n",
       "      <td>NaN</td>\n",
       "      <td>NaN</td>\n",
       "      <td>NaN</td>\n",
       "      <td>NaN</td>\n",
       "      <td>NaN</td>\n",
       "      <td>NaN</td>\n",
       "      <td>Error</td>\n",
       "      <td>1978064.041667</td>\n",
       "      <td>267</td>\n",
       "      <td>7408.479557</td>\n",
       "      <td>NaN</td>\n",
       "      <td>NaN</td>\n",
       "      <td>NaN</td>\n",
       "    </tr>\n",
       "    <tr>\n",
       "      <th>105</th>\n",
       "      <td>NaN</td>\n",
       "      <td>NaN</td>\n",
       "      <td>NaN</td>\n",
       "      <td>NaN</td>\n",
       "      <td>NaN</td>\n",
       "      <td>NaN</td>\n",
       "      <td>NaN</td>\n",
       "      <td>NaN</td>\n",
       "      <td>NaN</td>\n",
       "      <td>NaN</td>\n",
       "      <td>NaN</td>\n",
       "      <td>NaN</td>\n",
       "      <td>NaN</td>\n",
       "      <td>NaN</td>\n",
       "    </tr>\n",
       "    <tr>\n",
       "      <th>106</th>\n",
       "      <td>NaN</td>\n",
       "      <td>NaN</td>\n",
       "      <td>NaN</td>\n",
       "      <td>NaN</td>\n",
       "      <td>NaN</td>\n",
       "      <td>NaN</td>\n",
       "      <td>NaN</td>\n",
       "      <td>Total</td>\n",
       "      <td>158655448.263889</td>\n",
       "      <td>359</td>\n",
       "      <td>NaN</td>\n",
       "      <td>NaN</td>\n",
       "      <td>NaN</td>\n",
       "      <td>NaN</td>\n",
       "    </tr>\n",
       "  </tbody>\n",
       "</table>\n",
       "<p>107 rows × 14 columns</p>\n",
       "</div>"
      ],
      "text/plain": [
       "     Dentist  Method  Alloy    Temp  Response  Unnamed: 5  Unnamed: 6  \\\n",
       "0        1.0     1.0    1.0  1500.0     813.0         NaN         NaN   \n",
       "1        1.0     1.0    1.0  1600.0     792.0         NaN         NaN   \n",
       "2        1.0     1.0    1.0  1700.0     792.0         NaN         NaN   \n",
       "3        1.0     1.0    2.0  1500.0     907.0         NaN         NaN   \n",
       "4        1.0     1.0    2.0  1600.0     792.0         NaN         NaN   \n",
       "..       ...     ...    ...     ...       ...         ...         ...   \n",
       "102      NaN     NaN    NaN     NaN       NaN         NaN         NaN   \n",
       "103      NaN     NaN    NaN     NaN       NaN         NaN         NaN   \n",
       "104      NaN     NaN    NaN     NaN       NaN         NaN         NaN   \n",
       "105      NaN     NaN    NaN     NaN       NaN         NaN         NaN   \n",
       "106      NaN     NaN    NaN     NaN       NaN         NaN         NaN   \n",
       "\n",
       "                                Unnamed: 7        Unnamed: 8 Unnamed: 9  \\\n",
       "0    Anova: Two-Factor Without Replication               NaN        NaN   \n",
       "1                                      NaN               NaN        NaN   \n",
       "2                                  SUMMARY             Count        Sum   \n",
       "3                                        1                 4       2315   \n",
       "4                                        1                 4       2394   \n",
       "..                                     ...               ...        ...   \n",
       "102                                   Rows     513114.013889         89   \n",
       "103                                Columns  156164270.208333          3   \n",
       "104                                  Error    1978064.041667        267   \n",
       "105                                    NaN               NaN        NaN   \n",
       "106                                  Total  158655448.263889        359   \n",
       "\n",
       "         Unnamed: 10    Unnamed: 11 Unnamed: 12 Unnamed: 13  \n",
       "0                NaN            NaN         NaN         NaN  \n",
       "1                NaN            NaN         NaN         NaN  \n",
       "2            Average       Variance         NaN         NaN  \n",
       "3             578.75  523721.583333         NaN         NaN  \n",
       "4              598.5         584819         NaN         NaN  \n",
       "..               ...            ...         ...         ...  \n",
       "102      5765.325999       0.778206    0.917216    1.315369  \n",
       "103  52054756.736111    7026.375161         0.0    2.638412  \n",
       "104      7408.479557            NaN         NaN         NaN  \n",
       "105              NaN            NaN         NaN         NaN  \n",
       "106              NaN            NaN         NaN         NaN  \n",
       "\n",
       "[107 rows x 14 columns]"
      ]
     },
     "execution_count": 218,
     "metadata": {},
     "output_type": "execute_result"
    }
   ],
   "source": [
    "df"
   ]
  },
  {
   "cell_type": "code",
   "execution_count": 219,
   "id": "f38bee05",
   "metadata": {},
   "outputs": [],
   "source": [
    "df.drop(['Unnamed: 5','Unnamed: 6','Unnamed: 7','Unnamed: 8','Unnamed: 9','Unnamed: 10','Unnamed: 11','Unnamed: 12','Unnamed: 13'],axis=1,inplace=True)"
   ]
  },
  {
   "cell_type": "code",
   "execution_count": 220,
   "id": "dc966c66",
   "metadata": {},
   "outputs": [
    {
     "data": {
      "text/html": [
       "<div>\n",
       "<style scoped>\n",
       "    .dataframe tbody tr th:only-of-type {\n",
       "        vertical-align: middle;\n",
       "    }\n",
       "\n",
       "    .dataframe tbody tr th {\n",
       "        vertical-align: top;\n",
       "    }\n",
       "\n",
       "    .dataframe thead th {\n",
       "        text-align: right;\n",
       "    }\n",
       "</style>\n",
       "<table border=\"1\" class=\"dataframe\">\n",
       "  <thead>\n",
       "    <tr style=\"text-align: right;\">\n",
       "      <th></th>\n",
       "      <th>Dentist</th>\n",
       "      <th>Method</th>\n",
       "      <th>Alloy</th>\n",
       "      <th>Temp</th>\n",
       "      <th>Response</th>\n",
       "    </tr>\n",
       "  </thead>\n",
       "  <tbody>\n",
       "    <tr>\n",
       "      <th>0</th>\n",
       "      <td>1.0</td>\n",
       "      <td>1.0</td>\n",
       "      <td>1.0</td>\n",
       "      <td>1500.0</td>\n",
       "      <td>813.0</td>\n",
       "    </tr>\n",
       "    <tr>\n",
       "      <th>1</th>\n",
       "      <td>1.0</td>\n",
       "      <td>1.0</td>\n",
       "      <td>1.0</td>\n",
       "      <td>1600.0</td>\n",
       "      <td>792.0</td>\n",
       "    </tr>\n",
       "    <tr>\n",
       "      <th>2</th>\n",
       "      <td>1.0</td>\n",
       "      <td>1.0</td>\n",
       "      <td>1.0</td>\n",
       "      <td>1700.0</td>\n",
       "      <td>792.0</td>\n",
       "    </tr>\n",
       "    <tr>\n",
       "      <th>3</th>\n",
       "      <td>1.0</td>\n",
       "      <td>1.0</td>\n",
       "      <td>2.0</td>\n",
       "      <td>1500.0</td>\n",
       "      <td>907.0</td>\n",
       "    </tr>\n",
       "    <tr>\n",
       "      <th>4</th>\n",
       "      <td>1.0</td>\n",
       "      <td>1.0</td>\n",
       "      <td>2.0</td>\n",
       "      <td>1600.0</td>\n",
       "      <td>792.0</td>\n",
       "    </tr>\n",
       "    <tr>\n",
       "      <th>...</th>\n",
       "      <td>...</td>\n",
       "      <td>...</td>\n",
       "      <td>...</td>\n",
       "      <td>...</td>\n",
       "      <td>...</td>\n",
       "    </tr>\n",
       "    <tr>\n",
       "      <th>102</th>\n",
       "      <td>NaN</td>\n",
       "      <td>NaN</td>\n",
       "      <td>NaN</td>\n",
       "      <td>NaN</td>\n",
       "      <td>NaN</td>\n",
       "    </tr>\n",
       "    <tr>\n",
       "      <th>103</th>\n",
       "      <td>NaN</td>\n",
       "      <td>NaN</td>\n",
       "      <td>NaN</td>\n",
       "      <td>NaN</td>\n",
       "      <td>NaN</td>\n",
       "    </tr>\n",
       "    <tr>\n",
       "      <th>104</th>\n",
       "      <td>NaN</td>\n",
       "      <td>NaN</td>\n",
       "      <td>NaN</td>\n",
       "      <td>NaN</td>\n",
       "      <td>NaN</td>\n",
       "    </tr>\n",
       "    <tr>\n",
       "      <th>105</th>\n",
       "      <td>NaN</td>\n",
       "      <td>NaN</td>\n",
       "      <td>NaN</td>\n",
       "      <td>NaN</td>\n",
       "      <td>NaN</td>\n",
       "    </tr>\n",
       "    <tr>\n",
       "      <th>106</th>\n",
       "      <td>NaN</td>\n",
       "      <td>NaN</td>\n",
       "      <td>NaN</td>\n",
       "      <td>NaN</td>\n",
       "      <td>NaN</td>\n",
       "    </tr>\n",
       "  </tbody>\n",
       "</table>\n",
       "<p>107 rows × 5 columns</p>\n",
       "</div>"
      ],
      "text/plain": [
       "     Dentist  Method  Alloy    Temp  Response\n",
       "0        1.0     1.0    1.0  1500.0     813.0\n",
       "1        1.0     1.0    1.0  1600.0     792.0\n",
       "2        1.0     1.0    1.0  1700.0     792.0\n",
       "3        1.0     1.0    2.0  1500.0     907.0\n",
       "4        1.0     1.0    2.0  1600.0     792.0\n",
       "..       ...     ...    ...     ...       ...\n",
       "102      NaN     NaN    NaN     NaN       NaN\n",
       "103      NaN     NaN    NaN     NaN       NaN\n",
       "104      NaN     NaN    NaN     NaN       NaN\n",
       "105      NaN     NaN    NaN     NaN       NaN\n",
       "106      NaN     NaN    NaN     NaN       NaN\n",
       "\n",
       "[107 rows x 5 columns]"
      ]
     },
     "execution_count": 220,
     "metadata": {},
     "output_type": "execute_result"
    }
   ],
   "source": [
    "df"
   ]
  },
  {
   "cell_type": "code",
   "execution_count": 221,
   "id": "a4dc4408",
   "metadata": {},
   "outputs": [
    {
     "data": {
      "text/plain": [
       "Dentist     17\n",
       "Method      17\n",
       "Alloy       17\n",
       "Temp        17\n",
       "Response    17\n",
       "dtype: int64"
      ]
     },
     "execution_count": 221,
     "metadata": {},
     "output_type": "execute_result"
    }
   ],
   "source": [
    "df.isna().sum()"
   ]
  },
  {
   "cell_type": "code",
   "execution_count": 222,
   "id": "1bc8831f",
   "metadata": {},
   "outputs": [],
   "source": [
    "df.drop_duplicates(inplace=True)"
   ]
  },
  {
   "cell_type": "code",
   "execution_count": 223,
   "id": "ce35b8ac",
   "metadata": {},
   "outputs": [
    {
     "data": {
      "text/html": [
       "<div>\n",
       "<style scoped>\n",
       "    .dataframe tbody tr th:only-of-type {\n",
       "        vertical-align: middle;\n",
       "    }\n",
       "\n",
       "    .dataframe tbody tr th {\n",
       "        vertical-align: top;\n",
       "    }\n",
       "\n",
       "    .dataframe thead th {\n",
       "        text-align: right;\n",
       "    }\n",
       "</style>\n",
       "<table border=\"1\" class=\"dataframe\">\n",
       "  <thead>\n",
       "    <tr style=\"text-align: right;\">\n",
       "      <th></th>\n",
       "      <th>Dentist</th>\n",
       "      <th>Method</th>\n",
       "      <th>Alloy</th>\n",
       "      <th>Temp</th>\n",
       "      <th>Response</th>\n",
       "    </tr>\n",
       "  </thead>\n",
       "  <tbody>\n",
       "    <tr>\n",
       "      <th>0</th>\n",
       "      <td>1.0</td>\n",
       "      <td>1.0</td>\n",
       "      <td>1.0</td>\n",
       "      <td>1500.0</td>\n",
       "      <td>813.0</td>\n",
       "    </tr>\n",
       "    <tr>\n",
       "      <th>1</th>\n",
       "      <td>1.0</td>\n",
       "      <td>1.0</td>\n",
       "      <td>1.0</td>\n",
       "      <td>1600.0</td>\n",
       "      <td>792.0</td>\n",
       "    </tr>\n",
       "    <tr>\n",
       "      <th>2</th>\n",
       "      <td>1.0</td>\n",
       "      <td>1.0</td>\n",
       "      <td>1.0</td>\n",
       "      <td>1700.0</td>\n",
       "      <td>792.0</td>\n",
       "    </tr>\n",
       "    <tr>\n",
       "      <th>3</th>\n",
       "      <td>1.0</td>\n",
       "      <td>1.0</td>\n",
       "      <td>2.0</td>\n",
       "      <td>1500.0</td>\n",
       "      <td>907.0</td>\n",
       "    </tr>\n",
       "    <tr>\n",
       "      <th>4</th>\n",
       "      <td>1.0</td>\n",
       "      <td>1.0</td>\n",
       "      <td>2.0</td>\n",
       "      <td>1600.0</td>\n",
       "      <td>792.0</td>\n",
       "    </tr>\n",
       "    <tr>\n",
       "      <th>...</th>\n",
       "      <td>...</td>\n",
       "      <td>...</td>\n",
       "      <td>...</td>\n",
       "      <td>...</td>\n",
       "      <td>...</td>\n",
       "    </tr>\n",
       "    <tr>\n",
       "      <th>85</th>\n",
       "      <td>5.0</td>\n",
       "      <td>3.0</td>\n",
       "      <td>1.0</td>\n",
       "      <td>1600.0</td>\n",
       "      <td>483.0</td>\n",
       "    </tr>\n",
       "    <tr>\n",
       "      <th>86</th>\n",
       "      <td>5.0</td>\n",
       "      <td>3.0</td>\n",
       "      <td>1.0</td>\n",
       "      <td>1700.0</td>\n",
       "      <td>405.0</td>\n",
       "    </tr>\n",
       "    <tr>\n",
       "      <th>87</th>\n",
       "      <td>5.0</td>\n",
       "      <td>3.0</td>\n",
       "      <td>2.0</td>\n",
       "      <td>1500.0</td>\n",
       "      <td>536.0</td>\n",
       "    </tr>\n",
       "    <tr>\n",
       "      <th>88</th>\n",
       "      <td>5.0</td>\n",
       "      <td>3.0</td>\n",
       "      <td>2.0</td>\n",
       "      <td>1600.0</td>\n",
       "      <td>405.0</td>\n",
       "    </tr>\n",
       "    <tr>\n",
       "      <th>89</th>\n",
       "      <td>5.0</td>\n",
       "      <td>3.0</td>\n",
       "      <td>2.0</td>\n",
       "      <td>1700.0</td>\n",
       "      <td>312.0</td>\n",
       "    </tr>\n",
       "  </tbody>\n",
       "</table>\n",
       "<p>90 rows × 5 columns</p>\n",
       "</div>"
      ],
      "text/plain": [
       "    Dentist  Method  Alloy    Temp  Response\n",
       "0       1.0     1.0    1.0  1500.0     813.0\n",
       "1       1.0     1.0    1.0  1600.0     792.0\n",
       "2       1.0     1.0    1.0  1700.0     792.0\n",
       "3       1.0     1.0    2.0  1500.0     907.0\n",
       "4       1.0     1.0    2.0  1600.0     792.0\n",
       "..      ...     ...    ...     ...       ...\n",
       "85      5.0     3.0    1.0  1600.0     483.0\n",
       "86      5.0     3.0    1.0  1700.0     405.0\n",
       "87      5.0     3.0    2.0  1500.0     536.0\n",
       "88      5.0     3.0    2.0  1600.0     405.0\n",
       "89      5.0     3.0    2.0  1700.0     312.0\n",
       "\n",
       "[90 rows x 5 columns]"
      ]
     },
     "execution_count": 223,
     "metadata": {},
     "output_type": "execute_result"
    }
   ],
   "source": [
    "df.dropna(axis=0)"
   ]
  },
  {
   "cell_type": "code",
   "execution_count": 224,
   "id": "5211389d",
   "metadata": {},
   "outputs": [
    {
     "name": "stdout",
     "output_type": "stream",
     "text": [
      "<class 'pandas.core.frame.DataFrame'>\n",
      "Int64Index: 91 entries, 0 to 90\n",
      "Data columns (total 5 columns):\n",
      " #   Column    Non-Null Count  Dtype  \n",
      "---  ------    --------------  -----  \n",
      " 0   Dentist   90 non-null     float64\n",
      " 1   Method    90 non-null     float64\n",
      " 2   Alloy     90 non-null     float64\n",
      " 3   Temp      90 non-null     float64\n",
      " 4   Response  90 non-null     float64\n",
      "dtypes: float64(5)\n",
      "memory usage: 4.3 KB\n"
     ]
    }
   ],
   "source": [
    "df.info()"
   ]
  },
  {
   "cell_type": "code",
   "execution_count": 225,
   "id": "b78fb1d3",
   "metadata": {},
   "outputs": [
    {
     "data": {
      "text/html": [
       "<div>\n",
       "<style scoped>\n",
       "    .dataframe tbody tr th:only-of-type {\n",
       "        vertical-align: middle;\n",
       "    }\n",
       "\n",
       "    .dataframe tbody tr th {\n",
       "        vertical-align: top;\n",
       "    }\n",
       "\n",
       "    .dataframe thead th {\n",
       "        text-align: right;\n",
       "    }\n",
       "</style>\n",
       "<table border=\"1\" class=\"dataframe\">\n",
       "  <thead>\n",
       "    <tr style=\"text-align: right;\">\n",
       "      <th></th>\n",
       "      <th>Dentist</th>\n",
       "      <th>Method</th>\n",
       "      <th>Alloy</th>\n",
       "      <th>Temp</th>\n",
       "      <th>Response</th>\n",
       "    </tr>\n",
       "  </thead>\n",
       "  <tbody>\n",
       "    <tr>\n",
       "      <th>count</th>\n",
       "      <td>90.000000</td>\n",
       "      <td>90.000000</td>\n",
       "      <td>90.000000</td>\n",
       "      <td>90.000000</td>\n",
       "      <td>90.000000</td>\n",
       "    </tr>\n",
       "    <tr>\n",
       "      <th>mean</th>\n",
       "      <td>3.000000</td>\n",
       "      <td>2.000000</td>\n",
       "      <td>1.500000</td>\n",
       "      <td>1600.000000</td>\n",
       "      <td>741.777778</td>\n",
       "    </tr>\n",
       "    <tr>\n",
       "      <th>std</th>\n",
       "      <td>1.422136</td>\n",
       "      <td>0.821071</td>\n",
       "      <td>0.502801</td>\n",
       "      <td>82.107083</td>\n",
       "      <td>145.767845</td>\n",
       "    </tr>\n",
       "    <tr>\n",
       "      <th>min</th>\n",
       "      <td>1.000000</td>\n",
       "      <td>1.000000</td>\n",
       "      <td>1.000000</td>\n",
       "      <td>1500.000000</td>\n",
       "      <td>289.000000</td>\n",
       "    </tr>\n",
       "    <tr>\n",
       "      <th>25%</th>\n",
       "      <td>2.000000</td>\n",
       "      <td>1.000000</td>\n",
       "      <td>1.000000</td>\n",
       "      <td>1500.000000</td>\n",
       "      <td>698.000000</td>\n",
       "    </tr>\n",
       "    <tr>\n",
       "      <th>50%</th>\n",
       "      <td>3.000000</td>\n",
       "      <td>2.000000</td>\n",
       "      <td>1.500000</td>\n",
       "      <td>1600.000000</td>\n",
       "      <td>767.000000</td>\n",
       "    </tr>\n",
       "    <tr>\n",
       "      <th>75%</th>\n",
       "      <td>4.000000</td>\n",
       "      <td>3.000000</td>\n",
       "      <td>2.000000</td>\n",
       "      <td>1700.000000</td>\n",
       "      <td>824.000000</td>\n",
       "    </tr>\n",
       "    <tr>\n",
       "      <th>max</th>\n",
       "      <td>5.000000</td>\n",
       "      <td>3.000000</td>\n",
       "      <td>2.000000</td>\n",
       "      <td>1700.000000</td>\n",
       "      <td>1115.000000</td>\n",
       "    </tr>\n",
       "  </tbody>\n",
       "</table>\n",
       "</div>"
      ],
      "text/plain": [
       "         Dentist     Method      Alloy         Temp     Response\n",
       "count  90.000000  90.000000  90.000000    90.000000    90.000000\n",
       "mean    3.000000   2.000000   1.500000  1600.000000   741.777778\n",
       "std     1.422136   0.821071   0.502801    82.107083   145.767845\n",
       "min     1.000000   1.000000   1.000000  1500.000000   289.000000\n",
       "25%     2.000000   1.000000   1.000000  1500.000000   698.000000\n",
       "50%     3.000000   2.000000   1.500000  1600.000000   767.000000\n",
       "75%     4.000000   3.000000   2.000000  1700.000000   824.000000\n",
       "max     5.000000   3.000000   2.000000  1700.000000  1115.000000"
      ]
     },
     "execution_count": 225,
     "metadata": {},
     "output_type": "execute_result"
    }
   ],
   "source": [
    "df.describe()\n",
    "# All the unwanted rows, duplicates and nulls has been removed\n",
    "# there are 90 entries "
   ]
  },
  {
   "cell_type": "code",
   "execution_count": 226,
   "id": "64064560",
   "metadata": {},
   "outputs": [],
   "source": [
    "# here Dentist, Method , Alloy are Categorical data , so we need to convert it into categorical variavles\n",
    "df.Dentist = pd.Categorical(df.Dentist)\n",
    "df.Method = pd.Categorical(df.Method)\n",
    "df.Alloy = pd.Categorical(df.Alloy)"
   ]
  },
  {
   "cell_type": "code",
   "execution_count": 227,
   "id": "c47d83e9",
   "metadata": {},
   "outputs": [
    {
     "name": "stdout",
     "output_type": "stream",
     "text": [
      "<class 'pandas.core.frame.DataFrame'>\n",
      "Int64Index: 91 entries, 0 to 90\n",
      "Data columns (total 5 columns):\n",
      " #   Column    Non-Null Count  Dtype   \n",
      "---  ------    --------------  -----   \n",
      " 0   Dentist   90 non-null     category\n",
      " 1   Method    90 non-null     category\n",
      " 2   Alloy     90 non-null     category\n",
      " 3   Temp      90 non-null     float64 \n",
      " 4   Response  90 non-null     float64 \n",
      "dtypes: category(3), float64(2)\n",
      "memory usage: 2.9 KB\n"
     ]
    }
   ],
   "source": [
    "df.info()"
   ]
  },
  {
   "cell_type": "code",
   "execution_count": 228,
   "id": "d2810782",
   "metadata": {},
   "outputs": [
    {
     "name": "stdout",
     "output_type": "stream",
     "text": [
      "<class 'pandas.core.frame.DataFrame'>\n",
      "Int64Index: 45 entries, 0 to 86\n",
      "Data columns (total 5 columns):\n",
      " #   Column    Non-Null Count  Dtype   \n",
      "---  ------    --------------  -----   \n",
      " 0   Dentist   45 non-null     category\n",
      " 1   Method    45 non-null     category\n",
      " 2   Alloy     45 non-null     category\n",
      " 3   Temp      45 non-null     float64 \n",
      " 4   Response  45 non-null     float64 \n",
      "dtypes: category(3), float64(2)\n",
      "memory usage: 1.6 KB\n"
     ]
    }
   ],
   "source": [
    "# subsetting the Data based on alloy Types 1,2\n",
    "df_alloy1 = df[df.Alloy==1]\n",
    "df_alloy1.info()"
   ]
  },
  {
   "cell_type": "code",
   "execution_count": 229,
   "id": "1bb16526",
   "metadata": {},
   "outputs": [
    {
     "data": {
      "text/html": [
       "<div>\n",
       "<style scoped>\n",
       "    .dataframe tbody tr th:only-of-type {\n",
       "        vertical-align: middle;\n",
       "    }\n",
       "\n",
       "    .dataframe tbody tr th {\n",
       "        vertical-align: top;\n",
       "    }\n",
       "\n",
       "    .dataframe thead th {\n",
       "        text-align: right;\n",
       "    }\n",
       "</style>\n",
       "<table border=\"1\" class=\"dataframe\">\n",
       "  <thead>\n",
       "    <tr style=\"text-align: right;\">\n",
       "      <th></th>\n",
       "      <th>Dentist</th>\n",
       "      <th>Method</th>\n",
       "      <th>Alloy</th>\n",
       "      <th>Temp</th>\n",
       "      <th>Response</th>\n",
       "    </tr>\n",
       "  </thead>\n",
       "  <tbody>\n",
       "    <tr>\n",
       "      <th>count</th>\n",
       "      <td>45.0</td>\n",
       "      <td>45.0</td>\n",
       "      <td>45.0</td>\n",
       "      <td>45.000000</td>\n",
       "      <td>45.000000</td>\n",
       "    </tr>\n",
       "    <tr>\n",
       "      <th>unique</th>\n",
       "      <td>5.0</td>\n",
       "      <td>3.0</td>\n",
       "      <td>1.0</td>\n",
       "      <td>NaN</td>\n",
       "      <td>NaN</td>\n",
       "    </tr>\n",
       "    <tr>\n",
       "      <th>top</th>\n",
       "      <td>1.0</td>\n",
       "      <td>1.0</td>\n",
       "      <td>1.0</td>\n",
       "      <td>NaN</td>\n",
       "      <td>NaN</td>\n",
       "    </tr>\n",
       "    <tr>\n",
       "      <th>freq</th>\n",
       "      <td>9.0</td>\n",
       "      <td>15.0</td>\n",
       "      <td>45.0</td>\n",
       "      <td>NaN</td>\n",
       "      <td>NaN</td>\n",
       "    </tr>\n",
       "    <tr>\n",
       "      <th>mean</th>\n",
       "      <td>NaN</td>\n",
       "      <td>NaN</td>\n",
       "      <td>NaN</td>\n",
       "      <td>1600.000000</td>\n",
       "      <td>707.488889</td>\n",
       "    </tr>\n",
       "    <tr>\n",
       "      <th>std</th>\n",
       "      <td>NaN</td>\n",
       "      <td>NaN</td>\n",
       "      <td>NaN</td>\n",
       "      <td>82.572282</td>\n",
       "      <td>121.194551</td>\n",
       "    </tr>\n",
       "    <tr>\n",
       "      <th>min</th>\n",
       "      <td>NaN</td>\n",
       "      <td>NaN</td>\n",
       "      <td>NaN</td>\n",
       "      <td>1500.000000</td>\n",
       "      <td>289.000000</td>\n",
       "    </tr>\n",
       "    <tr>\n",
       "      <th>25%</th>\n",
       "      <td>NaN</td>\n",
       "      <td>NaN</td>\n",
       "      <td>NaN</td>\n",
       "      <td>1500.000000</td>\n",
       "      <td>681.000000</td>\n",
       "    </tr>\n",
       "    <tr>\n",
       "      <th>50%</th>\n",
       "      <td>NaN</td>\n",
       "      <td>NaN</td>\n",
       "      <td>NaN</td>\n",
       "      <td>1600.000000</td>\n",
       "      <td>743.000000</td>\n",
       "    </tr>\n",
       "    <tr>\n",
       "      <th>75%</th>\n",
       "      <td>NaN</td>\n",
       "      <td>NaN</td>\n",
       "      <td>NaN</td>\n",
       "      <td>1700.000000</td>\n",
       "      <td>782.000000</td>\n",
       "    </tr>\n",
       "    <tr>\n",
       "      <th>max</th>\n",
       "      <td>NaN</td>\n",
       "      <td>NaN</td>\n",
       "      <td>NaN</td>\n",
       "      <td>1700.000000</td>\n",
       "      <td>882.000000</td>\n",
       "    </tr>\n",
       "  </tbody>\n",
       "</table>\n",
       "</div>"
      ],
      "text/plain": [
       "        Dentist  Method  Alloy         Temp    Response\n",
       "count      45.0    45.0   45.0    45.000000   45.000000\n",
       "unique      5.0     3.0    1.0          NaN         NaN\n",
       "top         1.0     1.0    1.0          NaN         NaN\n",
       "freq        9.0    15.0   45.0          NaN         NaN\n",
       "mean        NaN     NaN    NaN  1600.000000  707.488889\n",
       "std         NaN     NaN    NaN    82.572282  121.194551\n",
       "min         NaN     NaN    NaN  1500.000000  289.000000\n",
       "25%         NaN     NaN    NaN  1500.000000  681.000000\n",
       "50%         NaN     NaN    NaN  1600.000000  743.000000\n",
       "75%         NaN     NaN    NaN  1700.000000  782.000000\n",
       "max         NaN     NaN    NaN  1700.000000  882.000000"
      ]
     },
     "execution_count": 229,
     "metadata": {},
     "output_type": "execute_result"
    }
   ],
   "source": [
    "df_alloy1.describe(include='all')"
   ]
  },
  {
   "cell_type": "code",
   "execution_count": 230,
   "id": "1c6556c7",
   "metadata": {},
   "outputs": [
    {
     "name": "stdout",
     "output_type": "stream",
     "text": [
      "<class 'pandas.core.frame.DataFrame'>\n",
      "Int64Index: 45 entries, 3 to 89\n",
      "Data columns (total 5 columns):\n",
      " #   Column    Non-Null Count  Dtype   \n",
      "---  ------    --------------  -----   \n",
      " 0   Dentist   45 non-null     category\n",
      " 1   Method    45 non-null     category\n",
      " 2   Alloy     45 non-null     category\n",
      " 3   Temp      45 non-null     float64 \n",
      " 4   Response  45 non-null     float64 \n",
      "dtypes: category(3), float64(2)\n",
      "memory usage: 1.6 KB\n"
     ]
    }
   ],
   "source": [
    "df_alloy2 = df[df.Alloy==2]\n",
    "df_alloy2.info()"
   ]
  },
  {
   "cell_type": "code",
   "execution_count": 231,
   "id": "2fde4500",
   "metadata": {},
   "outputs": [
    {
     "data": {
      "text/html": [
       "<div>\n",
       "<style scoped>\n",
       "    .dataframe tbody tr th:only-of-type {\n",
       "        vertical-align: middle;\n",
       "    }\n",
       "\n",
       "    .dataframe tbody tr th {\n",
       "        vertical-align: top;\n",
       "    }\n",
       "\n",
       "    .dataframe thead th {\n",
       "        text-align: right;\n",
       "    }\n",
       "</style>\n",
       "<table border=\"1\" class=\"dataframe\">\n",
       "  <thead>\n",
       "    <tr style=\"text-align: right;\">\n",
       "      <th></th>\n",
       "      <th>Dentist</th>\n",
       "      <th>Method</th>\n",
       "      <th>Alloy</th>\n",
       "      <th>Temp</th>\n",
       "      <th>Response</th>\n",
       "    </tr>\n",
       "  </thead>\n",
       "  <tbody>\n",
       "    <tr>\n",
       "      <th>count</th>\n",
       "      <td>45.0</td>\n",
       "      <td>45.0</td>\n",
       "      <td>45.0</td>\n",
       "      <td>45.000000</td>\n",
       "      <td>45.000000</td>\n",
       "    </tr>\n",
       "    <tr>\n",
       "      <th>unique</th>\n",
       "      <td>5.0</td>\n",
       "      <td>3.0</td>\n",
       "      <td>1.0</td>\n",
       "      <td>NaN</td>\n",
       "      <td>NaN</td>\n",
       "    </tr>\n",
       "    <tr>\n",
       "      <th>top</th>\n",
       "      <td>1.0</td>\n",
       "      <td>1.0</td>\n",
       "      <td>2.0</td>\n",
       "      <td>NaN</td>\n",
       "      <td>NaN</td>\n",
       "    </tr>\n",
       "    <tr>\n",
       "      <th>freq</th>\n",
       "      <td>9.0</td>\n",
       "      <td>15.0</td>\n",
       "      <td>45.0</td>\n",
       "      <td>NaN</td>\n",
       "      <td>NaN</td>\n",
       "    </tr>\n",
       "    <tr>\n",
       "      <th>mean</th>\n",
       "      <td>NaN</td>\n",
       "      <td>NaN</td>\n",
       "      <td>NaN</td>\n",
       "      <td>1600.000000</td>\n",
       "      <td>776.066667</td>\n",
       "    </tr>\n",
       "    <tr>\n",
       "      <th>std</th>\n",
       "      <td>NaN</td>\n",
       "      <td>NaN</td>\n",
       "      <td>NaN</td>\n",
       "      <td>82.572282</td>\n",
       "      <td>160.892595</td>\n",
       "    </tr>\n",
       "    <tr>\n",
       "      <th>min</th>\n",
       "      <td>NaN</td>\n",
       "      <td>NaN</td>\n",
       "      <td>NaN</td>\n",
       "      <td>1500.000000</td>\n",
       "      <td>312.000000</td>\n",
       "    </tr>\n",
       "    <tr>\n",
       "      <th>25%</th>\n",
       "      <td>NaN</td>\n",
       "      <td>NaN</td>\n",
       "      <td>NaN</td>\n",
       "      <td>1500.000000</td>\n",
       "      <td>715.000000</td>\n",
       "    </tr>\n",
       "    <tr>\n",
       "      <th>50%</th>\n",
       "      <td>NaN</td>\n",
       "      <td>NaN</td>\n",
       "      <td>NaN</td>\n",
       "      <td>1600.000000</td>\n",
       "      <td>824.000000</td>\n",
       "    </tr>\n",
       "    <tr>\n",
       "      <th>75%</th>\n",
       "      <td>NaN</td>\n",
       "      <td>NaN</td>\n",
       "      <td>NaN</td>\n",
       "      <td>1700.000000</td>\n",
       "      <td>858.000000</td>\n",
       "    </tr>\n",
       "    <tr>\n",
       "      <th>max</th>\n",
       "      <td>NaN</td>\n",
       "      <td>NaN</td>\n",
       "      <td>NaN</td>\n",
       "      <td>1700.000000</td>\n",
       "      <td>1115.000000</td>\n",
       "    </tr>\n",
       "  </tbody>\n",
       "</table>\n",
       "</div>"
      ],
      "text/plain": [
       "        Dentist  Method  Alloy         Temp     Response\n",
       "count      45.0    45.0   45.0    45.000000    45.000000\n",
       "unique      5.0     3.0    1.0          NaN          NaN\n",
       "top         1.0     1.0    2.0          NaN          NaN\n",
       "freq        9.0    15.0   45.0          NaN          NaN\n",
       "mean        NaN     NaN    NaN  1600.000000   776.066667\n",
       "std         NaN     NaN    NaN    82.572282   160.892595\n",
       "min         NaN     NaN    NaN  1500.000000   312.000000\n",
       "25%         NaN     NaN    NaN  1500.000000   715.000000\n",
       "50%         NaN     NaN    NaN  1600.000000   824.000000\n",
       "75%         NaN     NaN    NaN  1700.000000   858.000000\n",
       "max         NaN     NaN    NaN  1700.000000  1115.000000"
      ]
     },
     "execution_count": 231,
     "metadata": {},
     "output_type": "execute_result"
    }
   ],
   "source": [
    "df_alloy2.describe(include='all')"
   ]
  },
  {
   "cell_type": "markdown",
   "id": "697495d7",
   "metadata": {},
   "source": [
    "So the data is evenly split between the two alloy types 1 and 2 , 45 entries in each "
   ]
  },
  {
   "cell_type": "markdown",
   "id": "7cadbdce",
   "metadata": {},
   "source": [
    "### lets assume alpha or level of significance to be 0.05 ie \n",
    "### α = 0.05"
   ]
  },
  {
   "cell_type": "markdown",
   "id": "ff20eecb",
   "metadata": {},
   "source": [
    "### 7.1 , 7.3\n",
    "#### Test whether there is any difference among the dentists on the implant hardness."
   ]
  },
  {
   "cell_type": "markdown",
   "id": "34e8380b",
   "metadata": {},
   "source": [
    "##### Alloy 1\n",
    "H0\n",
    ": The mean implant  hardness among all dentists is same for Alloy 1 \n",
    "i.e\n",
    "H0\n",
    ": µ Dentist 1 =  µ Dentist 2 =  µ Dentist 3 =  µ Dentist 4 =  µ Dentist 5\n",
    "\n",
    "Ha\n",
    ":  The mean implant  hardness is different in atleast one of the dentists for Alloy 1 \n"
   ]
  },
  {
   "cell_type": "code",
   "execution_count": 232,
   "id": "3a04ed61",
   "metadata": {},
   "outputs": [
    {
     "data": {
      "text/html": [
       "<div>\n",
       "<style scoped>\n",
       "    .dataframe tbody tr th:only-of-type {\n",
       "        vertical-align: middle;\n",
       "    }\n",
       "\n",
       "    .dataframe tbody tr th {\n",
       "        vertical-align: top;\n",
       "    }\n",
       "\n",
       "    .dataframe thead th {\n",
       "        text-align: right;\n",
       "    }\n",
       "</style>\n",
       "<table border=\"1\" class=\"dataframe\">\n",
       "  <thead>\n",
       "    <tr style=\"text-align: right;\">\n",
       "      <th></th>\n",
       "      <th>df</th>\n",
       "      <th>sum_sq</th>\n",
       "      <th>mean_sq</th>\n",
       "      <th>F</th>\n",
       "      <th>PR(&gt;F)</th>\n",
       "    </tr>\n",
       "  </thead>\n",
       "  <tbody>\n",
       "    <tr>\n",
       "      <th>C(Dentist)</th>\n",
       "      <td>4.0</td>\n",
       "      <td>106683.688889</td>\n",
       "      <td>26670.922222</td>\n",
       "      <td>1.977112</td>\n",
       "      <td>0.116567</td>\n",
       "    </tr>\n",
       "    <tr>\n",
       "      <th>Residual</th>\n",
       "      <td>40.0</td>\n",
       "      <td>539593.555556</td>\n",
       "      <td>13489.838889</td>\n",
       "      <td>NaN</td>\n",
       "      <td>NaN</td>\n",
       "    </tr>\n",
       "  </tbody>\n",
       "</table>\n",
       "</div>"
      ],
      "text/plain": [
       "              df         sum_sq       mean_sq         F    PR(>F)\n",
       "C(Dentist)   4.0  106683.688889  26670.922222  1.977112  0.116567\n",
       "Residual    40.0  539593.555556  13489.838889       NaN       NaN"
      ]
     },
     "execution_count": 232,
     "metadata": {},
     "output_type": "execute_result"
    }
   ],
   "source": [
    "formula = ' Response ~ C(Dentist)'\n",
    "model =  ols(formula,df_alloy1).fit()\n",
    "anova_table  =  anova_lm(model)\n",
    "anova_table"
   ]
  },
  {
   "cell_type": "markdown",
   "id": "433bd97d",
   "metadata": {},
   "source": [
    "p > alpha hence , we fail to reject the null hypothesis ie The mean implant  hardness among all dentists is same for Alloy 1 \n",
    "If the null hypothesis is rejected, it is not possible to identify which pairs of dentists differ."
   ]
  },
  {
   "cell_type": "markdown",
   "id": "8539f456",
   "metadata": {},
   "source": [
    "##### Alloy 2\n",
    "H0\n",
    ": The mean implant  hardness among all dentists is same for Alloy 2 \n",
    "i.e\n",
    "H0\n",
    ": µ Dentist 1 =  µ Dentist 2 =  µ Dentist 3 =  µ Dentist 4 =  µ Dentist 5\n",
    "\n",
    "Ha\n",
    ":  The mean implant  hardness is different in atleast one of the dentists for Alloy 2 \n"
   ]
  },
  {
   "cell_type": "code",
   "execution_count": 234,
   "id": "2c420b48",
   "metadata": {},
   "outputs": [
    {
     "data": {
      "text/html": [
       "<div>\n",
       "<style scoped>\n",
       "    .dataframe tbody tr th:only-of-type {\n",
       "        vertical-align: middle;\n",
       "    }\n",
       "\n",
       "    .dataframe tbody tr th {\n",
       "        vertical-align: top;\n",
       "    }\n",
       "\n",
       "    .dataframe thead th {\n",
       "        text-align: right;\n",
       "    }\n",
       "</style>\n",
       "<table border=\"1\" class=\"dataframe\">\n",
       "  <thead>\n",
       "    <tr style=\"text-align: right;\">\n",
       "      <th></th>\n",
       "      <th>df</th>\n",
       "      <th>sum_sq</th>\n",
       "      <th>mean_sq</th>\n",
       "      <th>F</th>\n",
       "      <th>PR(&gt;F)</th>\n",
       "    </tr>\n",
       "  </thead>\n",
       "  <tbody>\n",
       "    <tr>\n",
       "      <th>C(Dentist)</th>\n",
       "      <td>4.0</td>\n",
       "      <td>5.679791e+04</td>\n",
       "      <td>14199.477778</td>\n",
       "      <td>0.524835</td>\n",
       "      <td>0.718031</td>\n",
       "    </tr>\n",
       "    <tr>\n",
       "      <th>Residual</th>\n",
       "      <td>40.0</td>\n",
       "      <td>1.082205e+06</td>\n",
       "      <td>27055.122222</td>\n",
       "      <td>NaN</td>\n",
       "      <td>NaN</td>\n",
       "    </tr>\n",
       "  </tbody>\n",
       "</table>\n",
       "</div>"
      ],
      "text/plain": [
       "              df        sum_sq       mean_sq         F    PR(>F)\n",
       "C(Dentist)   4.0  5.679791e+04  14199.477778  0.524835  0.718031\n",
       "Residual    40.0  1.082205e+06  27055.122222       NaN       NaN"
      ]
     },
     "execution_count": 234,
     "metadata": {},
     "output_type": "execute_result"
    }
   ],
   "source": [
    "formula = ' Response ~ C(Dentist)'\n",
    "model =  ols(formula,df_alloy2).fit()\n",
    "anova_table  =  anova_lm(model)\n",
    "anova_table"
   ]
  },
  {
   "cell_type": "markdown",
   "id": "45820dfe",
   "metadata": {},
   "source": [
    "p > alpha , hence we fail to reject the null hypothesis ie The mean implant hardness among all dentists is same for Alloy 2\n",
    "If the null hypothesis is rejected, it is not possible to identify which pairs of dentists differ."
   ]
  },
  {
   "cell_type": "markdown",
   "id": "ce0ce191",
   "metadata": {},
   "source": [
    "### 7.2 "
   ]
  },
  {
   "cell_type": "markdown",
   "id": "ea5adbbe",
   "metadata": {},
   "source": [
    "### Assumptions of one way Anova \n",
    "1. The Samples are drawn from different populations are independent and random \n",
    "2. Populations are continuous and ideally normally distributed \n",
    "3. Variances are equal (at least approximately )\n",
    "\n",
    "### Assumptions of two way Anova \n",
    "1. The dependent variable should be continuous \n",
    "2. Two independent variables should each consist of two or more categorical , independent groups \n",
    "3. No Signficant outliers \n",
    "4. Dependent variable should be approximately normally distributed for each combination of the groups of the two independent variables"
   ]
  },
  {
   "cell_type": "markdown",
   "id": "8f75f48c",
   "metadata": {},
   "source": [
    "### 7.4"
   ]
  },
  {
   "cell_type": "markdown",
   "id": "636a7e2a",
   "metadata": {},
   "source": [
    "#### Test whether there is any difference among the methods on the hardness of dental implant, separately for the two types of alloys. "
   ]
  },
  {
   "cell_type": "markdown",
   "id": "9ca34687",
   "metadata": {},
   "source": [
    "Alloy 1\n",
    "\n",
    "H0 : The mean implant hardness among all Methods is same for Alloy 1.\n",
    "\n",
    "Ha : The mean implant hardness is different in atleast one of the Methods for Alloy 1"
   ]
  },
  {
   "cell_type": "code",
   "execution_count": 235,
   "id": "c5b7cbdc",
   "metadata": {},
   "outputs": [
    {
     "data": {
      "text/html": [
       "<div>\n",
       "<style scoped>\n",
       "    .dataframe tbody tr th:only-of-type {\n",
       "        vertical-align: middle;\n",
       "    }\n",
       "\n",
       "    .dataframe tbody tr th {\n",
       "        vertical-align: top;\n",
       "    }\n",
       "\n",
       "    .dataframe thead th {\n",
       "        text-align: right;\n",
       "    }\n",
       "</style>\n",
       "<table border=\"1\" class=\"dataframe\">\n",
       "  <thead>\n",
       "    <tr style=\"text-align: right;\">\n",
       "      <th></th>\n",
       "      <th>df</th>\n",
       "      <th>sum_sq</th>\n",
       "      <th>mean_sq</th>\n",
       "      <th>F</th>\n",
       "      <th>PR(&gt;F)</th>\n",
       "    </tr>\n",
       "  </thead>\n",
       "  <tbody>\n",
       "    <tr>\n",
       "      <th>C(Method)</th>\n",
       "      <td>2.0</td>\n",
       "      <td>148472.177778</td>\n",
       "      <td>74236.088889</td>\n",
       "      <td>6.263327</td>\n",
       "      <td>0.004163</td>\n",
       "    </tr>\n",
       "    <tr>\n",
       "      <th>Residual</th>\n",
       "      <td>42.0</td>\n",
       "      <td>497805.066667</td>\n",
       "      <td>11852.501587</td>\n",
       "      <td>NaN</td>\n",
       "      <td>NaN</td>\n",
       "    </tr>\n",
       "  </tbody>\n",
       "</table>\n",
       "</div>"
      ],
      "text/plain": [
       "             df         sum_sq       mean_sq         F    PR(>F)\n",
       "C(Method)   2.0  148472.177778  74236.088889  6.263327  0.004163\n",
       "Residual   42.0  497805.066667  11852.501587       NaN       NaN"
      ]
     },
     "execution_count": 235,
     "metadata": {},
     "output_type": "execute_result"
    }
   ],
   "source": [
    "formula = 'Response ~ C(Method)'\n",
    "model =  ols(formula,df_alloy1).fit()\n",
    "anova_table  =  anova_lm(model)\n",
    "anova_table"
   ]
  },
  {
   "cell_type": "markdown",
   "id": "ffec7189",
   "metadata": {},
   "source": [
    "p < alpha , hence we  reject the null hypothesis i.e The mean implant hardness is different in atleast one of the Methods for Alloy 1 .If the null hypothesis is rejected, it is not possible to identify which pairs of methods differ."
   ]
  },
  {
   "cell_type": "markdown",
   "id": "fda963d5",
   "metadata": {},
   "source": [
    "Alloy 2\n",
    "\n",
    "H0 : The mean implant hardness among all Methods is same for Alloy 2.\n",
    "\n",
    "Ha : The mean implant hardness is different in atleast one of the Methods for Alloy 2."
   ]
  },
  {
   "cell_type": "code",
   "execution_count": 236,
   "id": "804922cd",
   "metadata": {},
   "outputs": [
    {
     "data": {
      "text/html": [
       "<div>\n",
       "<style scoped>\n",
       "    .dataframe tbody tr th:only-of-type {\n",
       "        vertical-align: middle;\n",
       "    }\n",
       "\n",
       "    .dataframe tbody tr th {\n",
       "        vertical-align: top;\n",
       "    }\n",
       "\n",
       "    .dataframe thead th {\n",
       "        text-align: right;\n",
       "    }\n",
       "</style>\n",
       "<table border=\"1\" class=\"dataframe\">\n",
       "  <thead>\n",
       "    <tr style=\"text-align: right;\">\n",
       "      <th></th>\n",
       "      <th>df</th>\n",
       "      <th>sum_sq</th>\n",
       "      <th>mean_sq</th>\n",
       "      <th>F</th>\n",
       "      <th>PR(&gt;F)</th>\n",
       "    </tr>\n",
       "  </thead>\n",
       "  <tbody>\n",
       "    <tr>\n",
       "      <th>C(Method)</th>\n",
       "      <td>2.0</td>\n",
       "      <td>499640.4</td>\n",
       "      <td>249820.200000</td>\n",
       "      <td>16.4108</td>\n",
       "      <td>0.000005</td>\n",
       "    </tr>\n",
       "    <tr>\n",
       "      <th>Residual</th>\n",
       "      <td>42.0</td>\n",
       "      <td>639362.4</td>\n",
       "      <td>15222.914286</td>\n",
       "      <td>NaN</td>\n",
       "      <td>NaN</td>\n",
       "    </tr>\n",
       "  </tbody>\n",
       "</table>\n",
       "</div>"
      ],
      "text/plain": [
       "             df    sum_sq        mean_sq        F    PR(>F)\n",
       "C(Method)   2.0  499640.4  249820.200000  16.4108  0.000005\n",
       "Residual   42.0  639362.4   15222.914286      NaN       NaN"
      ]
     },
     "execution_count": 236,
     "metadata": {},
     "output_type": "execute_result"
    }
   ],
   "source": [
    "formula = 'Response ~ C(Method)'\n",
    "model =  ols(formula,df_alloy2).fit()\n",
    "anova_table  =  anova_lm(model)\n",
    "anova_table"
   ]
  },
  {
   "cell_type": "markdown",
   "id": "d2d90456",
   "metadata": {},
   "source": [
    "p < alpha , hence we reject the null hypothesis i.e The mean implant hardness is different in atleast one of the Methods for Alloy 2 .If the null hypothesis is rejected, it is not possible to identify which pairs of methods differ"
   ]
  },
  {
   "cell_type": "markdown",
   "id": "53b54028",
   "metadata": {},
   "source": [
    "### 7.5"
   ]
  },
  {
   "cell_type": "markdown",
   "id": "f583e21f",
   "metadata": {},
   "source": [
    "#### Test whether there is any difference among the temperature levels on the hardness of dental implant, separately for the two types of alloys. "
   ]
  },
  {
   "cell_type": "markdown",
   "id": "e2dac92d",
   "metadata": {},
   "source": [
    "Alloy 1\n",
    "\n",
    "H0 : The mean implant hardness among all Temperature Levels is same for Alloy 1.\n",
    "\n",
    "Ha : The mean implant hardness among all Temperature Levels is not same for Alloy 1"
   ]
  },
  {
   "cell_type": "code",
   "execution_count": 238,
   "id": "3da930dd",
   "metadata": {},
   "outputs": [
    {
     "data": {
      "text/html": [
       "<div>\n",
       "<style scoped>\n",
       "    .dataframe tbody tr th:only-of-type {\n",
       "        vertical-align: middle;\n",
       "    }\n",
       "\n",
       "    .dataframe tbody tr th {\n",
       "        vertical-align: top;\n",
       "    }\n",
       "\n",
       "    .dataframe thead th {\n",
       "        text-align: right;\n",
       "    }\n",
       "</style>\n",
       "<table border=\"1\" class=\"dataframe\">\n",
       "  <thead>\n",
       "    <tr style=\"text-align: right;\">\n",
       "      <th></th>\n",
       "      <th>df</th>\n",
       "      <th>sum_sq</th>\n",
       "      <th>mean_sq</th>\n",
       "      <th>F</th>\n",
       "      <th>PR(&gt;F)</th>\n",
       "    </tr>\n",
       "  </thead>\n",
       "  <tbody>\n",
       "    <tr>\n",
       "      <th>Temp</th>\n",
       "      <td>1.0</td>\n",
       "      <td>10083.333333</td>\n",
       "      <td>10083.333333</td>\n",
       "      <td>0.681527</td>\n",
       "      <td>0.413618</td>\n",
       "    </tr>\n",
       "    <tr>\n",
       "      <th>Residual</th>\n",
       "      <td>43.0</td>\n",
       "      <td>636193.911111</td>\n",
       "      <td>14795.207235</td>\n",
       "      <td>NaN</td>\n",
       "      <td>NaN</td>\n",
       "    </tr>\n",
       "  </tbody>\n",
       "</table>\n",
       "</div>"
      ],
      "text/plain": [
       "            df         sum_sq       mean_sq         F    PR(>F)\n",
       "Temp       1.0   10083.333333  10083.333333  0.681527  0.413618\n",
       "Residual  43.0  636193.911111  14795.207235       NaN       NaN"
      ]
     },
     "execution_count": 238,
     "metadata": {},
     "output_type": "execute_result"
    }
   ],
   "source": [
    "formula = 'Response ~ Temp'\n",
    "model =  ols(formula,df_alloy1).fit()\n",
    "anova_table  =  anova_lm(model)\n",
    "anova_table"
   ]
  },
  {
   "cell_type": "markdown",
   "id": "0e0209b3",
   "metadata": {},
   "source": [
    "p > alpha , hence we fail to  reject the null hypothesis i.e The mean implant hardness among all Temperature Levels is same for Alloy 1. .If the null hypothesis is rejected, it is not possible to identify which levels of temperatures differ for Alloy 1"
   ]
  },
  {
   "cell_type": "markdown",
   "id": "eec9ac13",
   "metadata": {},
   "source": [
    "Alloy 2\n",
    "\n",
    "H0 : The mean implant hardness among all Temperature Levels is same for Alloy 2.\n",
    "\n",
    "Ha : The mean implant hardness among all Temperature Levels is not same for Alloy 2"
   ]
  },
  {
   "cell_type": "code",
   "execution_count": 239,
   "id": "15aabfe5",
   "metadata": {},
   "outputs": [
    {
     "data": {
      "text/html": [
       "<div>\n",
       "<style scoped>\n",
       "    .dataframe tbody tr th:only-of-type {\n",
       "        vertical-align: middle;\n",
       "    }\n",
       "\n",
       "    .dataframe tbody tr th {\n",
       "        vertical-align: top;\n",
       "    }\n",
       "\n",
       "    .dataframe thead th {\n",
       "        text-align: right;\n",
       "    }\n",
       "</style>\n",
       "<table border=\"1\" class=\"dataframe\">\n",
       "  <thead>\n",
       "    <tr style=\"text-align: right;\">\n",
       "      <th></th>\n",
       "      <th>df</th>\n",
       "      <th>sum_sq</th>\n",
       "      <th>mean_sq</th>\n",
       "      <th>F</th>\n",
       "      <th>PR(&gt;F)</th>\n",
       "    </tr>\n",
       "  </thead>\n",
       "  <tbody>\n",
       "    <tr>\n",
       "      <th>Temp</th>\n",
       "      <td>1.0</td>\n",
       "      <td>8.629603e+04</td>\n",
       "      <td>86296.033333</td>\n",
       "      <td>3.524941</td>\n",
       "      <td>0.067246</td>\n",
       "    </tr>\n",
       "    <tr>\n",
       "      <th>Residual</th>\n",
       "      <td>43.0</td>\n",
       "      <td>1.052707e+06</td>\n",
       "      <td>24481.552713</td>\n",
       "      <td>NaN</td>\n",
       "      <td>NaN</td>\n",
       "    </tr>\n",
       "  </tbody>\n",
       "</table>\n",
       "</div>"
      ],
      "text/plain": [
       "            df        sum_sq       mean_sq         F    PR(>F)\n",
       "Temp       1.0  8.629603e+04  86296.033333  3.524941  0.067246\n",
       "Residual  43.0  1.052707e+06  24481.552713       NaN       NaN"
      ]
     },
     "execution_count": 239,
     "metadata": {},
     "output_type": "execute_result"
    }
   ],
   "source": [
    "formula = 'Response ~ Temp'\n",
    "model =  ols(formula,df_alloy2).fit()\n",
    "anova_table  =  anova_lm(model)\n",
    "anova_table"
   ]
  },
  {
   "cell_type": "markdown",
   "id": "063b0ca1",
   "metadata": {},
   "source": [
    "p > alpha , hence we fail to reject the null hypothesis i.e The mean implant hardness among all Temperature Levels is same for Alloy 2. .If the null hypothesis is rejected, it is not possible to identify which levels of temperatures differ for Alloy 2"
   ]
  },
  {
   "cell_type": "markdown",
   "id": "0834846c",
   "metadata": {},
   "source": [
    "### 7.6"
   ]
  },
  {
   "cell_type": "markdown",
   "id": "a65024ee",
   "metadata": {},
   "source": [
    "#### Consider the interaction effect of dentist and method and comment on the interaction plot, separately for the two types of alloys"
   ]
  },
  {
   "cell_type": "code",
   "execution_count": 240,
   "id": "8cd34c8c",
   "metadata": {},
   "outputs": [
    {
     "data": {
      "text/html": [
       "<div>\n",
       "<style scoped>\n",
       "    .dataframe tbody tr th:only-of-type {\n",
       "        vertical-align: middle;\n",
       "    }\n",
       "\n",
       "    .dataframe tbody tr th {\n",
       "        vertical-align: top;\n",
       "    }\n",
       "\n",
       "    .dataframe thead th {\n",
       "        text-align: right;\n",
       "    }\n",
       "</style>\n",
       "<table border=\"1\" class=\"dataframe\">\n",
       "  <thead>\n",
       "    <tr style=\"text-align: right;\">\n",
       "      <th></th>\n",
       "      <th>df</th>\n",
       "      <th>sum_sq</th>\n",
       "      <th>mean_sq</th>\n",
       "      <th>F</th>\n",
       "      <th>PR(&gt;F)</th>\n",
       "    </tr>\n",
       "  </thead>\n",
       "  <tbody>\n",
       "    <tr>\n",
       "      <th>C(Dentist):C(Method)</th>\n",
       "      <td>14.0</td>\n",
       "      <td>441097.244444</td>\n",
       "      <td>31506.946032</td>\n",
       "      <td>4.606728</td>\n",
       "      <td>0.000221</td>\n",
       "    </tr>\n",
       "    <tr>\n",
       "      <th>Residual</th>\n",
       "      <td>30.0</td>\n",
       "      <td>205180.000000</td>\n",
       "      <td>6839.333333</td>\n",
       "      <td>NaN</td>\n",
       "      <td>NaN</td>\n",
       "    </tr>\n",
       "  </tbody>\n",
       "</table>\n",
       "</div>"
      ],
      "text/plain": [
       "                        df         sum_sq       mean_sq         F    PR(>F)\n",
       "C(Dentist):C(Method)  14.0  441097.244444  31506.946032  4.606728  0.000221\n",
       "Residual              30.0  205180.000000   6839.333333       NaN       NaN"
      ]
     },
     "execution_count": 240,
     "metadata": {},
     "output_type": "execute_result"
    }
   ],
   "source": [
    "#Alloy 1 \n",
    "formula = 'Response ~ C(Dentist):C(Method)'\n",
    "model =  ols(formula,df_alloy1).fit()\n",
    "anova_table  =  anova_lm(model)\n",
    "anova_table"
   ]
  },
  {
   "cell_type": "code",
   "execution_count": 35,
   "id": "b2c409bc",
   "metadata": {},
   "outputs": [
    {
     "name": "stderr",
     "output_type": "stream",
     "text": [
      "D:\\anaconda3\\lib\\site-packages\\seaborn\\categorical.py:253: FutureWarning: Index.ravel returning ndarray is deprecated; in a future version this will return a view on self.\n",
      "  grouped_vals = vals.groupby(grouper)\n",
      "D:\\anaconda3\\lib\\site-packages\\seaborn\\categorical.py:253: FutureWarning: Index.ravel returning ndarray is deprecated; in a future version this will return a view on self.\n",
      "  grouped_vals = vals.groupby(grouper)\n"
     ]
    },
    {
     "data": {
      "image/png": "[encoded data removed]",
      "text/plain": [
       "<Figure size 640x480 with 1 Axes>"
      ]
     },
     "metadata": {},
     "output_type": "display_data"
    }
   ],
   "source": [
    "plt.title('Interaction plot Dentist : Method for Alloy 1')\n",
    "sns.pointplot(x='Dentist', y='Response', data=df_alloy1, hue='Method',ci=None);"
   ]
  },
  {
   "cell_type": "markdown",
   "id": "ae5a5e45",
   "metadata": {},
   "source": [
    "We can see that our lines are intersecting, which means there’s an interaction between Dentist, Method, and Implant hardness. The results are expected, as the P-value from the ANOVA test told us there’s a significant interaction effect between them. i.e low p-value ( p-value  < 0.05 ) "
   ]
  },
  {
   "cell_type": "code",
   "execution_count": 36,
   "id": "37f727a7",
   "metadata": {},
   "outputs": [
    {
     "data": {
      "text/html": [
       "<div>\n",
       "<style scoped>\n",
       "    .dataframe tbody tr th:only-of-type {\n",
       "        vertical-align: middle;\n",
       "    }\n",
       "\n",
       "    .dataframe tbody tr th {\n",
       "        vertical-align: top;\n",
       "    }\n",
       "\n",
       "    .dataframe thead th {\n",
       "        text-align: right;\n",
       "    }\n",
       "</style>\n",
       "<table border=\"1\" class=\"dataframe\">\n",
       "  <thead>\n",
       "    <tr style=\"text-align: right;\">\n",
       "      <th></th>\n",
       "      <th>df</th>\n",
       "      <th>sum_sq</th>\n",
       "      <th>mean_sq</th>\n",
       "      <th>F</th>\n",
       "      <th>PR(&gt;F)</th>\n",
       "    </tr>\n",
       "  </thead>\n",
       "  <tbody>\n",
       "    <tr>\n",
       "      <th>C(Dentist):C(Method)</th>\n",
       "      <td>14.0</td>\n",
       "      <td>753898.133333</td>\n",
       "      <td>53849.866667</td>\n",
       "      <td>4.194953</td>\n",
       "      <td>0.000482</td>\n",
       "    </tr>\n",
       "    <tr>\n",
       "      <th>Residual</th>\n",
       "      <td>30.0</td>\n",
       "      <td>385104.666667</td>\n",
       "      <td>12836.822222</td>\n",
       "      <td>NaN</td>\n",
       "      <td>NaN</td>\n",
       "    </tr>\n",
       "  </tbody>\n",
       "</table>\n",
       "</div>"
      ],
      "text/plain": [
       "                        df         sum_sq       mean_sq         F    PR(>F)\n",
       "C(Dentist):C(Method)  14.0  753898.133333  53849.866667  4.194953  0.000482\n",
       "Residual              30.0  385104.666667  12836.822222       NaN       NaN"
      ]
     },
     "execution_count": 36,
     "metadata": {},
     "output_type": "execute_result"
    }
   ],
   "source": [
    "# Alloy 2\n",
    "formula = 'Response ~ C(Dentist):C(Method)'\n",
    "model =  ols(formula,df_alloy2).fit()\n",
    "anova_table  =  anova_lm(model)\n",
    "anova_table"
   ]
  },
  {
   "cell_type": "code",
   "execution_count": 37,
   "id": "df87d876",
   "metadata": {},
   "outputs": [
    {
     "name": "stderr",
     "output_type": "stream",
     "text": [
      "D:\\anaconda3\\lib\\site-packages\\seaborn\\categorical.py:253: FutureWarning: Index.ravel returning ndarray is deprecated; in a future version this will return a view on self.\n",
      "  grouped_vals = vals.groupby(grouper)\n",
      "D:\\anaconda3\\lib\\site-packages\\seaborn\\categorical.py:253: FutureWarning: Index.ravel returning ndarray is deprecated; in a future version this will return a view on self.\n",
      "  grouped_vals = vals.groupby(grouper)\n"
     ]
    },
    {
     "data": {
      "image/png": "[encoded data removed]",
      "text/plain": [
       "<Figure size 640x480 with 1 Axes>"
      ]
     },
     "metadata": {},
     "output_type": "display_data"
    }
   ],
   "source": [
    "plt.title('Interaction plot Dentist : Method for Alloy 2')\n",
    "sns.pointplot(x='Dentist', y='Response', data=df_alloy2, hue='Method',ci=None);"
   ]
  },
  {
   "cell_type": "markdown",
   "id": "5c8cbc73",
   "metadata": {},
   "source": [
    "We can see that our lines are intersecting, but not as much as alloy 1,  which means there’s some interaction between Dentist, Method, and Implant hardness. The results are expected, as the P-value from the ANOVA test told us there’s a significant interaction effect between them. i.e low p-value ( p-value  < 0.05 ), but the iteraction is not as high as alloy 1's case "
   ]
  },
  {
   "cell_type": "markdown",
   "id": "f3132685",
   "metadata": {},
   "source": [
    "### 7.7"
   ]
  },
  {
   "cell_type": "markdown",
   "id": "e7ad0904",
   "metadata": {},
   "source": [
    "#### consider the effect of both factors, dentist, and method, separately on each alloy."
   ]
  },
  {
   "cell_type": "markdown",
   "id": "2c482cf3",
   "metadata": {},
   "source": [
    "H0 : The mean implant hardness among all Dentists, all Methods and all interaction levels  of Dentists and Methods is equal for Alloy 1.\n",
    "\n",
    "Ha : The mean implant hardness among all Dentists, all Methods and all interaction levels of Dentists and Methods is not equal for Alloy 1."
   ]
  },
  {
   "cell_type": "code",
   "execution_count": 242,
   "id": "a2af716a",
   "metadata": {},
   "outputs": [
    {
     "data": {
      "text/html": [
       "<div>\n",
       "<style scoped>\n",
       "    .dataframe tbody tr th:only-of-type {\n",
       "        vertical-align: middle;\n",
       "    }\n",
       "\n",
       "    .dataframe tbody tr th {\n",
       "        vertical-align: top;\n",
       "    }\n",
       "\n",
       "    .dataframe thead th {\n",
       "        text-align: right;\n",
       "    }\n",
       "</style>\n",
       "<table border=\"1\" class=\"dataframe\">\n",
       "  <thead>\n",
       "    <tr style=\"text-align: right;\">\n",
       "      <th></th>\n",
       "      <th>df</th>\n",
       "      <th>sum_sq</th>\n",
       "      <th>mean_sq</th>\n",
       "      <th>F</th>\n",
       "      <th>PR(&gt;F)</th>\n",
       "    </tr>\n",
       "  </thead>\n",
       "  <tbody>\n",
       "    <tr>\n",
       "      <th>C(Dentist)</th>\n",
       "      <td>4.0</td>\n",
       "      <td>106683.688889</td>\n",
       "      <td>26670.922222</td>\n",
       "      <td>3.899638</td>\n",
       "      <td>0.011484</td>\n",
       "    </tr>\n",
       "    <tr>\n",
       "      <th>C(Method)</th>\n",
       "      <td>2.0</td>\n",
       "      <td>148472.177778</td>\n",
       "      <td>74236.088889</td>\n",
       "      <td>10.854287</td>\n",
       "      <td>0.000284</td>\n",
       "    </tr>\n",
       "    <tr>\n",
       "      <th>C(Dentist):C(Method)</th>\n",
       "      <td>8.0</td>\n",
       "      <td>185941.377778</td>\n",
       "      <td>23242.672222</td>\n",
       "      <td>3.398383</td>\n",
       "      <td>0.006793</td>\n",
       "    </tr>\n",
       "    <tr>\n",
       "      <th>Residual</th>\n",
       "      <td>30.0</td>\n",
       "      <td>205180.000000</td>\n",
       "      <td>6839.333333</td>\n",
       "      <td>NaN</td>\n",
       "      <td>NaN</td>\n",
       "    </tr>\n",
       "  </tbody>\n",
       "</table>\n",
       "</div>"
      ],
      "text/plain": [
       "                        df         sum_sq       mean_sq          F    PR(>F)\n",
       "C(Dentist)             4.0  106683.688889  26670.922222   3.899638  0.011484\n",
       "C(Method)              2.0  148472.177778  74236.088889  10.854287  0.000284\n",
       "C(Dentist):C(Method)   8.0  185941.377778  23242.672222   3.398383  0.006793\n",
       "Residual              30.0  205180.000000   6839.333333        NaN       NaN"
      ]
     },
     "execution_count": 242,
     "metadata": {},
     "output_type": "execute_result"
    }
   ],
   "source": [
    "#Alloy 1 \n",
    "\n",
    "formula = 'Response ~ C(Dentist)+ C(Method) + C(Dentist):C(Method)'\n",
    "model =  ols(formula,df_alloy1).fit()\n",
    "anova_table  =  anova_lm(model)\n",
    "anova_table"
   ]
  },
  {
   "cell_type": "markdown",
   "id": "3e8eaa73",
   "metadata": {},
   "source": [
    "The Effect of Dentist and Method increases as we introduce interaction between  Dentist and Method for Alloy 1"
   ]
  },
  {
   "cell_type": "markdown",
   "id": "8fe44266",
   "metadata": {},
   "source": [
    "H0 : The mean implant hardness among all Dentists, all Methods and all interaction levels of Dentists and Methods is equal for Alloy 2.\n",
    "\n",
    "Ha : The mean implant hardness among all Dentists, all Methods and all interaction  levels of Dentists and Methods is not equal for Alloy 2."
   ]
  },
  {
   "cell_type": "code",
   "execution_count": 244,
   "id": "acabd2e5",
   "metadata": {},
   "outputs": [
    {
     "data": {
      "text/html": [
       "<div>\n",
       "<style scoped>\n",
       "    .dataframe tbody tr th:only-of-type {\n",
       "        vertical-align: middle;\n",
       "    }\n",
       "\n",
       "    .dataframe tbody tr th {\n",
       "        vertical-align: top;\n",
       "    }\n",
       "\n",
       "    .dataframe thead th {\n",
       "        text-align: right;\n",
       "    }\n",
       "</style>\n",
       "<table border=\"1\" class=\"dataframe\">\n",
       "  <thead>\n",
       "    <tr style=\"text-align: right;\">\n",
       "      <th></th>\n",
       "      <th>df</th>\n",
       "      <th>sum_sq</th>\n",
       "      <th>mean_sq</th>\n",
       "      <th>F</th>\n",
       "      <th>PR(&gt;F)</th>\n",
       "    </tr>\n",
       "  </thead>\n",
       "  <tbody>\n",
       "    <tr>\n",
       "      <th>C(Dentist)</th>\n",
       "      <td>4.0</td>\n",
       "      <td>56797.911111</td>\n",
       "      <td>14199.477778</td>\n",
       "      <td>1.106152</td>\n",
       "      <td>0.371833</td>\n",
       "    </tr>\n",
       "    <tr>\n",
       "      <th>C(Method)</th>\n",
       "      <td>2.0</td>\n",
       "      <td>499640.400000</td>\n",
       "      <td>249820.200000</td>\n",
       "      <td>19.461218</td>\n",
       "      <td>0.000004</td>\n",
       "    </tr>\n",
       "    <tr>\n",
       "      <th>C(Dentist):C(Method)</th>\n",
       "      <td>8.0</td>\n",
       "      <td>197459.822222</td>\n",
       "      <td>24682.477778</td>\n",
       "      <td>1.922787</td>\n",
       "      <td>0.093234</td>\n",
       "    </tr>\n",
       "    <tr>\n",
       "      <th>Residual</th>\n",
       "      <td>30.0</td>\n",
       "      <td>385104.666667</td>\n",
       "      <td>12836.822222</td>\n",
       "      <td>NaN</td>\n",
       "      <td>NaN</td>\n",
       "    </tr>\n",
       "  </tbody>\n",
       "</table>\n",
       "</div>"
      ],
      "text/plain": [
       "                        df         sum_sq        mean_sq          F    PR(>F)\n",
       "C(Dentist)             4.0   56797.911111   14199.477778   1.106152  0.371833\n",
       "C(Method)              2.0  499640.400000  249820.200000  19.461218  0.000004\n",
       "C(Dentist):C(Method)   8.0  197459.822222   24682.477778   1.922787  0.093234\n",
       "Residual              30.0  385104.666667   12836.822222        NaN       NaN"
      ]
     },
     "execution_count": 244,
     "metadata": {},
     "output_type": "execute_result"
    }
   ],
   "source": [
    "#Alloy 2 \n",
    "\n",
    "formula = 'Response ~ C(Dentist)+ C(Method) + C(Dentist):C(Method)'\n",
    "model =  ols(formula,df_alloy2).fit()\n",
    "anova_table  =  anova_lm(model)\n",
    "anova_table"
   ]
  },
  {
   "cell_type": "markdown",
   "id": "bc90858f",
   "metadata": {},
   "source": [
    "The Effect of Dentist and Method increases as we introduce interaction between Dentist and Method for Alloy 2, but still the effect of dentist alone on mean hardness of implant , despite interaction is same for all dentists."
   ]
  },
  {
   "cell_type": "code",
   "execution_count": null,
   "id": "b573c006",
   "metadata": {},
   "outputs": [],
   "source": []
  }
 ],
 "metadata": {
  "kernelspec": {
   "display_name": "Python 3 (ipykernel)",
   "language": "python",
   "name": "python3"
  },
  "language_info": {
   "codemirror_mode": {
    "name": "ipython",
    "version": 3
   },
   "file_extension": ".py",
   "mimetype": "text/x-python",
   "name": "python",
   "nbconvert_exporter": "python",
   "pygments_lexer": "ipython3",
   "version": "3.9.13"
  }
 },
 "nbformat": 4,
 "nbformat_minor": 5
}
